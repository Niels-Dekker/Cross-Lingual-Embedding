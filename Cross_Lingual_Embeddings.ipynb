{
  "nbformat": 4,
  "nbformat_minor": 0,
  "metadata": {
    "colab": {
      "name": "Cross_Lingual_Embeddings.ipynb",
      "version": "0.3.2",
      "provenance": [],
      "collapsed_sections": []
    },
    "kernelspec": {
      "name": "python3",
      "display_name": "Python 3"
    },
    "accelerator": "GPU"
  },
  "cells": [
    {
      "cell_type": "code",
      "metadata": {
        "id": "eZ5VSEZpnMxv",
        "colab_type": "code",
        "outputId": "9ba4c268-0e5f-418b-f929-9a2ad35ddede",
        "colab": {
          "base_uri": "https://localhost:8080/",
          "height": 54
        }
      },
      "source": [
        "# mount the google drive locally\n",
        "from google.colab import drive\n",
        "drive.mount('/content/gdrive')\n",
        "PATH_DRIVE = \"/content/gdrive/My Drive/CrossLingual_embeddings/\""
      ],
      "execution_count": 1,
      "outputs": [
        {
          "output_type": "stream",
          "text": [
            "Drive already mounted at /content/gdrive; to attempt to forcibly remount, call drive.mount(\"/content/gdrive\", force_remount=True).\n"
          ],
          "name": "stdout"
        }
      ]
    },
    {
      "cell_type": "code",
      "metadata": {
        "id": "E0i514uUnTil",
        "colab_type": "code",
        "outputId": "a6a9c33c-6399-4ede-93a5-bc7ecad43b7a",
        "colab": {
          "base_uri": "https://localhost:8080/",
          "height": 102
        }
      },
      "source": [
        "# All imports \n",
        "import pandas as pd  \n",
        "import numpy as np\n",
        "import matplotlib.pyplot as plt\n",
        "%matplotlib inline\n",
        "import random\n",
        "from collections import Counter\n",
        "import io\n",
        "import pickle\n",
        "\n",
        "import collections\n",
        "import string\n",
        "from string import punctuation\n",
        "\n",
        "import nltk\n",
        "from nltk.tokenize import word_tokenize\n",
        "from nltk.corpus import stopwords\n",
        "nltk.download('punkt')\n",
        "nltk.download('stopwords')\n",
        "from gensim.utils import lemmatize\n",
        "\n",
        "import keras\n",
        "from keras.datasets import imdb\n",
        "from keras.preprocessing.text import one_hot, Tokenizer\n",
        "from keras.preprocessing.sequence import pad_sequences\n",
        "from keras.models import Sequential\n",
        "from keras.layers import Dense\n",
        "from keras.layers import Flatten, LSTM\n",
        "from keras.layers.embeddings import Embedding"
      ],
      "execution_count": 2,
      "outputs": [
        {
          "output_type": "stream",
          "text": [
            "[nltk_data] Downloading package punkt to /root/nltk_data...\n",
            "[nltk_data]   Package punkt is already up-to-date!\n",
            "[nltk_data] Downloading package stopwords to /root/nltk_data...\n",
            "[nltk_data]   Package stopwords is already up-to-date!\n"
          ],
          "name": "stdout"
        },
        {
          "output_type": "stream",
          "text": [
            "Using TensorFlow backend.\n"
          ],
          "name": "stderr"
        }
      ]
    },
    {
      "cell_type": "code",
      "metadata": {
        "id": "hFhtRCfSnXMR",
        "colab_type": "code",
        "colab": {}
      },
      "source": [
        "# All paths \n",
        "PATH_IMDB_TRAIN = PATH_DRIVE + \"Imdb_train.csv\"\n",
        "PATH_IMDB_TEST = PATH_DRIVE + \"Imdb_test.csv\"\n",
        "\n",
        "PATH_CORPUS_CINE = PATH_DRIVE + \"CorpusCine.csv\"\n",
        "\n",
        "PATH_MUSE_EN = PATH_DRIVE + \"wiki.multi.en.vec\"\n",
        "PATH_MUSE_ES = PATH_DRIVE + \"wiki.multi.es.vec\"\n",
        "\n",
        "PATH_WEIGHTS = PATH_DRIVE+\"model_e10_with_muse.h5\"\n",
        "\n",
        "PATH_DATA = PATH_DRIVE + \"data/\""
      ],
      "execution_count": 0,
      "outputs": []
    },
    {
      "cell_type": "code",
      "metadata": {
        "id": "6quR08UBlMfR",
        "colab_type": "code",
        "colab": {}
      },
      "source": [
        "# function to save objects with pickle\n",
        "def save_obj(obj, name ):\n",
        "    with open(PATH_DRIVE+ name + '.pkl', 'wb') as f:\n",
        "      pickle.dump(obj, f)#, pickle.HIGHEST_PROTOCOL)\n",
        "\n",
        "# function to load objects with pickle\n",
        "def load_obj(name ):\n",
        "    with open(PATH_DRIVE+ name + '.pkl', 'rb') as f:\n",
        "        return pickle.load(f)"
      ],
      "execution_count": 0,
      "outputs": []
    },
    {
      "cell_type": "markdown",
      "metadata": {
        "id": "H84oUE5QwJWr",
        "colab_type": "text"
      },
      "source": [
        "# Load data"
      ]
    },
    {
      "cell_type": "code",
      "metadata": {
        "id": "jVmYWKfLnbyu",
        "colab_type": "code",
        "colab": {}
      },
      "source": [
        "cols = [\"review\",\"label\"]"
      ],
      "execution_count": 0,
      "outputs": []
    },
    {
      "cell_type": "code",
      "metadata": {
        "id": "tohLYm2HxBgr",
        "colab_type": "code",
        "colab": {}
      },
      "source": [
        "# English Imdb corpus\n",
        "df = pd.read_csv(PATH_IMDB_TRAIN,header=None, names=cols)\n",
        "df_test = pd.read_csv(PATH_IMDB_TEST,header=None, names=cols)\n",
        "df = df.append(df_test)"
      ],
      "execution_count": 0,
      "outputs": []
    },
    {
      "cell_type": "code",
      "metadata": {
        "id": "3Ea-7bdqANgw",
        "colab_type": "code",
        "colab": {}
      },
      "source": [
        "# Spanish corpus\n",
        "df_es = pd.read_csv(PATH_CORPUS_CINE,header=None, names=cols)\n",
        "df_es_save = pd.read_csv(PATH_CORPUS_CINE,header=None, names=cols)"
      ],
      "execution_count": 0,
      "outputs": []
    },
    {
      "cell_type": "code",
      "metadata": {
        "id": "E_F4FUVc5m_W",
        "colab_type": "code",
        "outputId": "b4c26f61-6d01-47d6-a7ae-03a9d670a447",
        "colab": {
          "base_uri": "https://localhost:8080/",
          "height": 51
        }
      },
      "source": [
        "# number of elements\n",
        "print(df[\"label\"].count(),\" english reviews\")\n",
        "print(df_es[\"label\"].count(),\" spanish reviews\")"
      ],
      "execution_count": 8,
      "outputs": [
        {
          "output_type": "stream",
          "text": [
            "50000  english reviews\n",
            "2275  spanish reviews\n"
          ],
          "name": "stdout"
        }
      ]
    },
    {
      "cell_type": "code",
      "metadata": {
        "id": "XixLy3ng-RAQ",
        "colab_type": "code",
        "outputId": "a27675df-0890-414c-c5fb-b205ca33b412",
        "colab": {
          "base_uri": "https://localhost:8080/",
          "height": 422
        }
      },
      "source": [
        "# Analysis of english reviews\n",
        "reviews_len = [len(word_tokenize(x)) for x in df.review]\n",
        "pd.Series(reviews_len).hist()\n",
        "plt.show()\n",
        "pd.Series(reviews_len).describe()"
      ],
      "execution_count": 9,
      "outputs": [
        {
          "output_type": "display_data",
          "data": {
            "image/png": "[encoded data removed]",
            "text/plain": [
              "<Figure size 432x288 with 1 Axes>"
            ]
          },
          "metadata": {
            "tags": []
          }
        },
        {
          "output_type": "execute_result",
          "data": {
            "text/plain": [
              "count    50000.00000\n",
              "mean       279.13746\n",
              "std        207.65861\n",
              "min          8.00000\n",
              "25%        151.00000\n",
              "50%        209.00000\n",
              "75%        339.00000\n",
              "max       2909.00000\n",
              "dtype: float64"
            ]
          },
          "metadata": {
            "tags": []
          },
          "execution_count": 9
        }
      ]
    },
    {
      "cell_type": "code",
      "metadata": {
        "id": "DHCNQiBg-Sil",
        "colab_type": "code",
        "outputId": "b1a71547-f73e-4d86-962d-c5d762d96145",
        "colab": {
          "base_uri": "https://localhost:8080/",
          "height": 422
        }
      },
      "source": [
        "# Analysis of spanish reviews\n",
        "reviews_len = [len(word_tokenize(x)) for x in df_es.review]\n",
        "pd.Series(reviews_len).hist()\n",
        "plt.show()\n",
        "pd.Series(reviews_len).describe()"
      ],
      "execution_count": 10,
      "outputs": [
        {
          "output_type": "display_data",
          "data": {
            "image/png": "[encoded data removed]",
            "text/plain": [
              "<Figure size 432x288 with 1 Axes>"
            ]
          },
          "metadata": {
            "tags": []
          }
        },
        {
          "output_type": "execute_result",
          "data": {
            "text/plain": [
              "count    2275.000000\n",
              "mean      572.864176\n",
              "std       336.653609\n",
              "min        26.000000\n",
              "25%       367.000000\n",
              "50%       492.000000\n",
              "75%       686.500000\n",
              "max      5247.000000\n",
              "dtype: float64"
            ]
          },
          "metadata": {
            "tags": []
          },
          "execution_count": 10
        }
      ]
    },
    {
      "cell_type": "markdown",
      "metadata": {
        "id": "nBEO2fVpzkiJ",
        "colab_type": "text"
      },
      "source": [
        "# Spanish Preprocessing"
      ]
    },
    {
      "cell_type": "markdown",
      "metadata": {
        "id": "-YC6luSAzZ1R",
        "colab_type": "text"
      },
      "source": [
        "Special preprocessing steps for the spanish reviews to handle the unknowns characters issues."
      ]
    },
    {
      "cell_type": "code",
      "metadata": {
        "id": "w3-bMLff0phV",
        "colab_type": "code",
        "outputId": "bf6d8a75-511c-42c2-ec10-ed94b920e106",
        "colab": {
          "base_uri": "https://localhost:8080/",
          "height": 54
        }
      },
      "source": [
        "# example of one review\n",
        "df_es.review[0]"
      ],
      "execution_count": 11,
      "outputs": [
        {
          "output_type": "execute_result",
          "data": {
            "text/plain": [
              "'Malilla, torpona, facilona, simple, vac�a y otra serie de adjetivos que nunca son de halago, pero que\\n        podr�an ser m�s corrosivos.\\n    Al entrar al cine s�lo cabe una pregunta: �ser� tan mala como parece? Y al salir s�lo una respuesta: pudo ser\\n        peor. �Ojo! Esto no quiere decir, ni mucho menos, que sea buena. Ni siquiera es mediocre. Pero se queda en\\n        malilla, torpona, facilona, simple, vac�a y otra serie de adjetivos que nunca son de halago, pero que podr�an\\n        ser m�s corrosivos.Del argumento no hace falta ni hablar. Cuatro treinta�eros buscan su lugar en el mundo, y\\n        todo gira, l�gicamente, en torno a las mujeres. Que si yo quiero casarme, que si a m� me han dejado, que si yo\\n        no me como un rosco, que si yo soy un lig�n pero no encuentro el amor. en fin, cuatro situaciones m�s vistas que\\n        el tebeo, que se mezclan sin gracia ni arte y que s�lo de vez en cuando son capaces de ofrecer alguna situaci�n\\n        c�mica merecedora de una sonrisa.Caf� solo o con ellas ser� otra de esas pel�culas que en dos d�as pasan al\\n        olvido. Aprovechando la fama de un par de actores de televisi�n y el tir�n del formato \"comedia rom�ntica �o�a,\\n        pero graciosa, pero no tan graciosa ni tan �o�a\" se lanzan al cine con la esperanza de que los cuatro\\n        adolescentes aburridos y las cuatro parejas despistadas que pululan por las multisalas se traguen este engendro.\\n        Es mala sin reparos, pero no mata de aburrimiento. Si no tienes nada mejor que hacer y alguien te paga la\\n        entrada, puede que hasta agradezcas alguna de las cuatro gilipolleces que hacen re�r en toda la pel�cula. De\\n        hecho, si no buscaran descaradamente las situaciones f�ciles, supuestamente emotivas o dulces, hasta habr�a\\n        tenido alg�n inter�s. Y tambi�n habr�a que cambiar a la mayor�a de los actores, de los que s�lo salvo al\\n        regordete. Y tambi�n la banda sonora, con �xitos de los 40 metidos para rellenar o para que te pongas trist�n\\n        sin venir a cuento. Bueno, pens�ndolo bien, sobran tantas cosas que habr�a que hacer otra pel�cula para que\\n        tuviera inter�s.\\n    '"
            ]
          },
          "metadata": {
            "tags": []
          },
          "execution_count": 11
        }
      ]
    },
    {
      "cell_type": "code",
      "metadata": {
        "id": "yov0RVQK1F7c",
        "colab_type": "code",
        "outputId": "a6296a96-3ed2-4538-a75a-0cfdcf2861c0",
        "colab": {
          "base_uri": "https://localhost:8080/",
          "height": 54
        }
      },
      "source": [
        "# remove line breaks\n",
        "del_jump = lambda x: x.replace('\\n','')\n",
        "df_es['review'] = df_es['review'].apply(del_jump)\n",
        "df_es.review[0]"
      ],
      "execution_count": 12,
      "outputs": [
        {
          "output_type": "execute_result",
          "data": {
            "text/plain": [
              "'Malilla, torpona, facilona, simple, vac�a y otra serie de adjetivos que nunca son de halago, pero que        podr�an ser m�s corrosivos.    Al entrar al cine s�lo cabe una pregunta: �ser� tan mala como parece? Y al salir s�lo una respuesta: pudo ser        peor. �Ojo! Esto no quiere decir, ni mucho menos, que sea buena. Ni siquiera es mediocre. Pero se queda en        malilla, torpona, facilona, simple, vac�a y otra serie de adjetivos que nunca son de halago, pero que podr�an        ser m�s corrosivos.Del argumento no hace falta ni hablar. Cuatro treinta�eros buscan su lugar en el mundo, y        todo gira, l�gicamente, en torno a las mujeres. Que si yo quiero casarme, que si a m� me han dejado, que si yo        no me como un rosco, que si yo soy un lig�n pero no encuentro el amor. en fin, cuatro situaciones m�s vistas que        el tebeo, que se mezclan sin gracia ni arte y que s�lo de vez en cuando son capaces de ofrecer alguna situaci�n        c�mica merecedora de una sonrisa.Caf� solo o con ellas ser� otra de esas pel�culas que en dos d�as pasan al        olvido. Aprovechando la fama de un par de actores de televisi�n y el tir�n del formato \"comedia rom�ntica �o�a,        pero graciosa, pero no tan graciosa ni tan �o�a\" se lanzan al cine con la esperanza de que los cuatro        adolescentes aburridos y las cuatro parejas despistadas que pululan por las multisalas se traguen este engendro.        Es mala sin reparos, pero no mata de aburrimiento. Si no tienes nada mejor que hacer y alguien te paga la        entrada, puede que hasta agradezcas alguna de las cuatro gilipolleces que hacen re�r en toda la pel�cula. De        hecho, si no buscaran descaradamente las situaciones f�ciles, supuestamente emotivas o dulces, hasta habr�a        tenido alg�n inter�s. Y tambi�n habr�a que cambiar a la mayor�a de los actores, de los que s�lo salvo al        regordete. Y tambi�n la banda sonora, con �xitos de los 40 metidos para rellenar o para que te pongas trist�n        sin venir a cuento. Bueno, pens�ndolo bien, sobran tantas cosas que habr�a que hacer otra pel�cula para que        tuviera inter�s.    '"
            ]
          },
          "metadata": {
            "tags": []
          },
          "execution_count": 12
        }
      ]
    },
    {
      "cell_type": "code",
      "metadata": {
        "id": "Fdgk8xf9_vlf",
        "colab_type": "code",
        "outputId": "3d1c86c8-b6cd-42fe-d80e-5aaafe134d85",
        "colab": {
          "base_uri": "https://localhost:8080/",
          "height": 34
        }
      },
      "source": [
        "# example of one unknown char\n",
        "unknown_char = df_es.review[0][39]\n",
        "unknown_char"
      ],
      "execution_count": 13,
      "outputs": [
        {
          "output_type": "execute_result",
          "data": {
            "text/plain": [
              "'�'"
            ]
          },
          "metadata": {
            "tags": []
          },
          "execution_count": 13
        }
      ]
    },
    {
      "cell_type": "code",
      "metadata": {
        "id": "qlrnaCcKAw09",
        "colab_type": "code",
        "outputId": "06620a3c-c9b1-4002-95c0-bd21479485c5",
        "colab": {
          "base_uri": "https://localhost:8080/",
          "height": 34
        }
      },
      "source": [
        "# number of unknown char in first review\n",
        "count = 0\n",
        "for i in  df_es.review[2]:\n",
        "  if i==unknown_char:\n",
        "    count+=1\n",
        "count"
      ],
      "execution_count": 14,
      "outputs": [
        {
          "output_type": "execute_result",
          "data": {
            "text/plain": [
              "105"
            ]
          },
          "metadata": {
            "tags": []
          },
          "execution_count": 14
        }
      ]
    },
    {
      "cell_type": "code",
      "metadata": {
        "id": "-iPWe09iBpi9",
        "colab_type": "code",
        "colab": {}
      },
      "source": [
        "# store the number of uknown char by review for the error analysis\n",
        "l_spanish_char = []\n",
        "for review in df_es[\"review\"]:\n",
        "  count = 0\n",
        "  for i in  review:\n",
        "    if i==unknown_char:\n",
        "      count+=1\n",
        "  l_spanish_char.append(count)"
      ],
      "execution_count": 0,
      "outputs": []
    },
    {
      "cell_type": "code",
      "metadata": {
        "id": "LGFmB1flzpUB",
        "colab_type": "code",
        "colab": {}
      },
      "source": [
        "# delete unknown char \n",
        "table = collections.defaultdict(lambda: None)\n",
        "table.update({\n",
        "    ord(' '):' '\n",
        "    })\n",
        "table.update(dict(zip(map(ord,string.ascii_uppercase), string.ascii_lowercase)))\n",
        "table.update(dict(zip(map(ord,string.ascii_lowercase), string.ascii_lowercase)))\n",
        "table.update(dict(zip(map(ord,string.digits), string.digits)))\n",
        "\n",
        "convert_char = lambda x: x.translate(table,)"
      ],
      "execution_count": 0,
      "outputs": []
    },
    {
      "cell_type": "code",
      "metadata": {
        "id": "ADYGjGLL2ESk",
        "colab_type": "code",
        "outputId": "2334e6cc-0a14-47f7-bc40-d6fbcdef5eaa",
        "colab": {
          "base_uri": "https://localhost:8080/",
          "height": 71
        }
      },
      "source": [
        "#try in the first review\n",
        "print(df_es.review[0])\n",
        "print(df_es.review[0].translate(table,))"
      ],
      "execution_count": 17,
      "outputs": [
        {
          "output_type": "stream",
          "text": [
            "Malilla, torpona, facilona, simple, vac�a y otra serie de adjetivos que nunca son de halago, pero que        podr�an ser m�s corrosivos.    Al entrar al cine s�lo cabe una pregunta: �ser� tan mala como parece? Y al salir s�lo una respuesta: pudo ser        peor. �Ojo! Esto no quiere decir, ni mucho menos, que sea buena. Ni siquiera es mediocre. Pero se queda en        malilla, torpona, facilona, simple, vac�a y otra serie de adjetivos que nunca son de halago, pero que podr�an        ser m�s corrosivos.Del argumento no hace falta ni hablar. Cuatro treinta�eros buscan su lugar en el mundo, y        todo gira, l�gicamente, en torno a las mujeres. Que si yo quiero casarme, que si a m� me han dejado, que si yo        no me como un rosco, que si yo soy un lig�n pero no encuentro el amor. en fin, cuatro situaciones m�s vistas que        el tebeo, que se mezclan sin gracia ni arte y que s�lo de vez en cuando son capaces de ofrecer alguna situaci�n        c�mica merecedora de una sonrisa.Caf� solo o con ellas ser� otra de esas pel�culas que en dos d�as pasan al        olvido. Aprovechando la fama de un par de actores de televisi�n y el tir�n del formato \"comedia rom�ntica �o�a,        pero graciosa, pero no tan graciosa ni tan �o�a\" se lanzan al cine con la esperanza de que los cuatro        adolescentes aburridos y las cuatro parejas despistadas que pululan por las multisalas se traguen este engendro.        Es mala sin reparos, pero no mata de aburrimiento. Si no tienes nada mejor que hacer y alguien te paga la        entrada, puede que hasta agradezcas alguna de las cuatro gilipolleces que hacen re�r en toda la pel�cula. De        hecho, si no buscaran descaradamente las situaciones f�ciles, supuestamente emotivas o dulces, hasta habr�a        tenido alg�n inter�s. Y tambi�n habr�a que cambiar a la mayor�a de los actores, de los que s�lo salvo al        regordete. Y tambi�n la banda sonora, con �xitos de los 40 metidos para rellenar o para que te pongas trist�n        sin venir a cuento. Bueno, pens�ndolo bien, sobran tantas cosas que habr�a que hacer otra pel�cula para que        tuviera inter�s.    \n",
            "malilla torpona facilona simple vaca y otra serie de adjetivos que nunca son de halago pero que        podran ser ms corrosivos    al entrar al cine slo cabe una pregunta ser tan mala como parece y al salir slo una respuesta pudo ser        peor ojo esto no quiere decir ni mucho menos que sea buena ni siquiera es mediocre pero se queda en        malilla torpona facilona simple vaca y otra serie de adjetivos que nunca son de halago pero que podran        ser ms corrosivosdel argumento no hace falta ni hablar cuatro treintaeros buscan su lugar en el mundo y        todo gira lgicamente en torno a las mujeres que si yo quiero casarme que si a m me han dejado que si yo        no me como un rosco que si yo soy un lign pero no encuentro el amor en fin cuatro situaciones ms vistas que        el tebeo que se mezclan sin gracia ni arte y que slo de vez en cuando son capaces de ofrecer alguna situacin        cmica merecedora de una sonrisacaf solo o con ellas ser otra de esas pelculas que en dos das pasan al        olvido aprovechando la fama de un par de actores de televisin y el tirn del formato comedia romntica oa        pero graciosa pero no tan graciosa ni tan oa se lanzan al cine con la esperanza de que los cuatro        adolescentes aburridos y las cuatro parejas despistadas que pululan por las multisalas se traguen este engendro        es mala sin reparos pero no mata de aburrimiento si no tienes nada mejor que hacer y alguien te paga la        entrada puede que hasta agradezcas alguna de las cuatro gilipolleces que hacen rer en toda la pelcula de        hecho si no buscaran descaradamente las situaciones fciles supuestamente emotivas o dulces hasta habra        tenido algn inters y tambin habra que cambiar a la mayora de los actores de los que slo salvo al        regordete y tambin la banda sonora con xitos de los 40 metidos para rellenar o para que te pongas tristn        sin venir a cuento bueno pensndolo bien sobran tantas cosas que habra que hacer otra pelcula para que        tuviera inters    \n"
          ],
          "name": "stdout"
        }
      ]
    },
    {
      "cell_type": "code",
      "metadata": {
        "id": "0m47DxBU0m64",
        "colab_type": "code",
        "outputId": "7211caa3-37d8-4439-f7c0-3aaa1365129f",
        "colab": {
          "base_uri": "https://localhost:8080/",
          "height": 54
        }
      },
      "source": [
        "df_es['review'] = df_es['review'].apply(convert_char)\n",
        "df_es.review[0]"
      ],
      "execution_count": 18,
      "outputs": [
        {
          "output_type": "execute_result",
          "data": {
            "text/plain": [
              "'malilla torpona facilona simple vaca y otra serie de adjetivos que nunca son de halago pero que        podran ser ms corrosivos    al entrar al cine slo cabe una pregunta ser tan mala como parece y al salir slo una respuesta pudo ser        peor ojo esto no quiere decir ni mucho menos que sea buena ni siquiera es mediocre pero se queda en        malilla torpona facilona simple vaca y otra serie de adjetivos que nunca son de halago pero que podran        ser ms corrosivosdel argumento no hace falta ni hablar cuatro treintaeros buscan su lugar en el mundo y        todo gira lgicamente en torno a las mujeres que si yo quiero casarme que si a m me han dejado que si yo        no me como un rosco que si yo soy un lign pero no encuentro el amor en fin cuatro situaciones ms vistas que        el tebeo que se mezclan sin gracia ni arte y que slo de vez en cuando son capaces de ofrecer alguna situacin        cmica merecedora de una sonrisacaf solo o con ellas ser otra de esas pelculas que en dos das pasan al        olvido aprovechando la fama de un par de actores de televisin y el tirn del formato comedia romntica oa        pero graciosa pero no tan graciosa ni tan oa se lanzan al cine con la esperanza de que los cuatro        adolescentes aburridos y las cuatro parejas despistadas que pululan por las multisalas se traguen este engendro        es mala sin reparos pero no mata de aburrimiento si no tienes nada mejor que hacer y alguien te paga la        entrada puede que hasta agradezcas alguna de las cuatro gilipolleces que hacen rer en toda la pelcula de        hecho si no buscaran descaradamente las situaciones fciles supuestamente emotivas o dulces hasta habra        tenido algn inters y tambin habra que cambiar a la mayora de los actores de los que slo salvo al        regordete y tambin la banda sonora con xitos de los 40 metidos para rellenar o para que te pongas tristn        sin venir a cuento bueno pensndolo bien sobran tantas cosas que habra que hacer otra pelcula para que        tuviera inters    '"
            ]
          },
          "metadata": {
            "tags": []
          },
          "execution_count": 18
        }
      ]
    },
    {
      "cell_type": "markdown",
      "metadata": {
        "id": "Qt2jKuoP9Bjq",
        "colab_type": "text"
      },
      "source": [
        "# Preprocessing"
      ]
    },
    {
      "cell_type": "markdown",
      "metadata": {
        "id": "6z0cWN0e4Dnh",
        "colab_type": "text"
      },
      "source": [
        "## Tokenize — Encode the words"
      ]
    },
    {
      "cell_type": "code",
      "metadata": {
        "id": "Lh1u5T4BnuPU",
        "colab_type": "code",
        "colab": {}
      },
      "source": [
        "# funciton to clean one review\n",
        "# return : the tokenized reviews\n",
        "def clean(sentence):\n",
        "  \n",
        "  # lowercase\n",
        "  sentence = sentence.lower()\n",
        "  \n",
        "  # punctuation\n",
        "  sentence = ''.join([c for c in sentence if c not in punctuation])\n",
        "\n",
        "  # tokenize\n",
        "  tokens = word_tokenize(sentence)\n",
        "  \n",
        "  return tokens"
      ],
      "execution_count": 0,
      "outputs": []
    },
    {
      "cell_type": "code",
      "metadata": {
        "id": "fyr50BNtyug2",
        "colab_type": "code",
        "colab": {}
      },
      "source": [
        "# clean all reviews and create vocabularies\n",
        "# return :\n",
        "# - cleaned_rev : cleaned dataset\n",
        "# - vocab_to_int : vocabulary mapping all word to an id\n",
        "# - vocab_to_word : vocabulary mapping all id to a word\n",
        "def preprocessing(df):\n",
        "  \n",
        "  cleaned_rev = []\n",
        "  count = Counter()\n",
        "  for review in df[\"review\"]:\n",
        "#     print(review)\n",
        "    rev = clean(review)\n",
        "    cleaned_rev.append(rev)\n",
        "    count.update(rev)\n",
        "   \n",
        "  vocab_to_int = {w:i for i, (w,c) in enumerate(count.most_common())}\n",
        "  \n",
        "  vocab_to_word = {i:w for (w,i) in vocab_to_int.items()}\n",
        "    \n",
        "  return cleaned_rev, vocab_to_int, vocab_to_word"
      ],
      "execution_count": 0,
      "outputs": []
    },
    {
      "cell_type": "code",
      "metadata": {
        "id": "0dutxJzE1EPH",
        "colab_type": "code",
        "colab": {}
      },
      "source": [
        "# preprocess the english corpus\n",
        "cleaned_rev, vocab_to_int, vocab_to_word = preprocessing(df)"
      ],
      "execution_count": 0,
      "outputs": []
    },
    {
      "cell_type": "code",
      "metadata": {
        "id": "yWr-z4Mh3Tpm",
        "colab_type": "code",
        "colab": {}
      },
      "source": [
        "# preprocess the spanish corpus\n",
        "es_cleaned_rev, es_vocab_to_int, es_vocab_to_word = preprocessing(df_es)"
      ],
      "execution_count": 0,
      "outputs": []
    },
    {
      "cell_type": "code",
      "metadata": {
        "id": "8-dERsJc3IPA",
        "colab_type": "code",
        "outputId": "c8595a54-adbe-4f0e-80ec-e511a5c39f01",
        "colab": {
          "base_uri": "https://localhost:8080/",
          "height": 34
        }
      },
      "source": [
        "# first three most common spanish words\n",
        "list(es_vocab_to_int.items())[:3]"
      ],
      "execution_count": 23,
      "outputs": [
        {
          "output_type": "execute_result",
          "data": {
            "text/plain": [
              "[('de', 0), ('que', 1), ('la', 2)]"
            ]
          },
          "metadata": {
            "tags": []
          },
          "execution_count": 23
        }
      ]
    },
    {
      "cell_type": "code",
      "metadata": {
        "id": "7PB8TzWh2g1Z",
        "colab_type": "code",
        "colab": {
          "base_uri": "https://localhost:8080/",
          "height": 34
        },
        "outputId": "2d042d8a-2c46-4f7d-9eac-2bcb5b40faf2"
      },
      "source": [
        "# first three most common english words\n",
        "list(vocab_to_int.items())[:3]"
      ],
      "execution_count": 24,
      "outputs": [
        {
          "output_type": "execute_result",
          "data": {
            "text/plain": [
              "[('the', 0), ('and', 1), ('a', 2)]"
            ]
          },
          "metadata": {
            "tags": []
          },
          "execution_count": 24
        }
      ]
    },
    {
      "cell_type": "markdown",
      "metadata": {
        "id": "knW4P3pZ9WjL",
        "colab_type": "text"
      },
      "source": [
        "# Embeddings"
      ]
    },
    {
      "cell_type": "markdown",
      "metadata": {
        "id": "TfWEJHef9fdU",
        "colab_type": "text"
      },
      "source": [
        "## load"
      ]
    },
    {
      "cell_type": "code",
      "metadata": {
        "id": "GYMaH39w9WDx",
        "colab_type": "code",
        "colab": {}
      },
      "source": [
        "# function to load the embeddings\n",
        "def load_vec(emb_path, nmax):\n",
        "    '''\n",
        "    INPUT:\n",
        "    emb_path: path of the txt file where the word embeddings are\n",
        "    nmax: maxium number of word embeddings you want to load (I guess that\n",
        "    the words are ordered from more frequent to least frequent)\n",
        "    \n",
        "    OUTPUT:\n",
        "    embedings: array of dimensions words(nmax) x embedding dimensions (300)\n",
        "    id2word: dictionary id (keys) word(values)\n",
        "    word2id: dictionary word (keys) id(values)\n",
        "    '''\n",
        "    vectors = []\n",
        "    word2id = {}\n",
        "    with io.open(emb_path, 'r', encoding='utf-8', newline='\\n', errors='ignore') as f:\n",
        "        next(f)\n",
        "        for i, line in enumerate(f):\n",
        "            word, vect = line.rstrip().split(' ', 1)\n",
        "            vect = np.fromstring(vect, sep=' ')\n",
        "            assert word not in word2id, 'word found twice'\n",
        "            vectors.append(vect)\n",
        "            word2id[word] = len(word2id)\n",
        "            if len(word2id) == nmax:\n",
        "                break\n",
        "    id2word = {v: k for k, v in word2id.items()}\n",
        "    embeddings = np.vstack(vectors)\n",
        "    return embeddings, id2word, word2id"
      ],
      "execution_count": 0,
      "outputs": []
    },
    {
      "cell_type": "code",
      "metadata": {
        "id": "bZ_181xE9hkf",
        "colab_type": "code",
        "colab": {}
      },
      "source": [
        "nmax = 50000 #max number of embeddings (max 50_000)\n",
        "src_embeddings, src_id2word, src_word2id = load_vec(PATH_MUSE_EN, nmax) # english embeddings\n",
        "tgt_embeddings, tgt_id2word, tgt_word2id = load_vec(PATH_MUSE_ES, nmax) # spanish embeddings"
      ],
      "execution_count": 0,
      "outputs": []
    },
    {
      "cell_type": "code",
      "metadata": {
        "id": "pFiBv5fg9i-w",
        "colab_type": "code",
        "outputId": "38c6391c-b85b-4541-9589-72e6da17b5e8",
        "colab": {
          "base_uri": "https://localhost:8080/",
          "height": 51
        }
      },
      "source": [
        "print(\"dim english MUSE emb: \", src_embeddings.shape)\n",
        "print(\"dim spanish MUSE emb: \", tgt_embeddings.shape)"
      ],
      "execution_count": 27,
      "outputs": [
        {
          "output_type": "stream",
          "text": [
            "dim english MUSE emb:  (50000, 300)\n",
            "dim spanish MUSE emb:  (50000, 300)\n"
          ],
          "name": "stdout"
        }
      ]
    },
    {
      "cell_type": "markdown",
      "metadata": {
        "id": "VSwcPTcI9zfk",
        "colab_type": "text"
      },
      "source": [
        "## Update Embeddings Indexing"
      ]
    },
    {
      "cell_type": "code",
      "metadata": {
        "id": "-54TlKXHI66u",
        "colab_type": "code",
        "outputId": "4dc28339-bf34-4a44-d5da-cdab15131e43",
        "colab": {
          "base_uri": "https://localhost:8080/",
          "height": 34
        }
      },
      "source": [
        "# get the common words between our imdb corpus and the english embeddings\n",
        "list_src = list(src_word2id.keys())\n",
        "list_imdb = list(vocab_to_int.keys())\n",
        "list_common = []\n",
        "c=0\n",
        "for word in list_imdb:\n",
        "  if word in list_src:\n",
        "    list_common.append(word)\n",
        "  else :\n",
        "    c += 1\n",
        "print(\"missing : {}%\".format((c/len(list_imdb)*100)))"
      ],
      "execution_count": 28,
      "outputs": [
        {
          "output_type": "stream",
          "text": [
            "missing : 80.29778507877357%\n"
          ],
          "name": "stdout"
        }
      ]
    },
    {
      "cell_type": "code",
      "metadata": {
        "id": "yHxieTk9K-s4",
        "colab_type": "code",
        "colab": {}
      },
      "source": [
        "# create vocabularies for english corpus\n",
        "voc_to_id = {w:i for i,w in enumerate(list_common)}\n",
        "voc_to_word = {i:w for i,w in enumerate(list_common)}"
      ],
      "execution_count": 0,
      "outputs": []
    },
    {
      "cell_type": "code",
      "metadata": {
        "id": "rF7lDmzPllRg",
        "colab_type": "code",
        "colab": {}
      },
      "source": [
        "# load the vocabularies from memory\n",
        "voc_to_id = load_obj(\"en_voc_to_id\" )\n",
        "voc_to_word = {i:w for (w,i) in voc_to_id.items()}"
      ],
      "execution_count": 0,
      "outputs": []
    },
    {
      "cell_type": "code",
      "metadata": {
        "id": "kO0eGBi0923q",
        "colab_type": "code",
        "colab": {}
      },
      "source": [
        "# get the common words with embeddings\n",
        "voc_emb_id={}\n",
        "wordsno=[]\n",
        "for i, word in voc_to_word.items():\n",
        "    try:\n",
        "        src_word2id[word]          \n",
        "        voc_emb_id[word] = i\n",
        "    except KeyError:\n",
        "        wordsno.append(word)\n",
        "        pass"
      ],
      "execution_count": 0,
      "outputs": []
    },
    {
      "cell_type": "code",
      "metadata": {
        "id": "7iQXykcQ6onP",
        "colab_type": "code",
        "colab": {}
      },
      "source": [
        "nb_words = 300 # number of dimension for each word\n",
        "ordered_emb = np.zeros((len(voc_to_id), nb_words)) # init all embeddings to zeros vectors"
      ],
      "execution_count": 0,
      "outputs": []
    },
    {
      "cell_type": "code",
      "metadata": {
        "id": "LysQKCnN6q0i",
        "colab_type": "code",
        "colab": {
          "base_uri": "https://localhost:8080/",
          "height": 34
        },
        "outputId": "b70511fe-1dff-419b-b5d6-1bc4165a550c"
      },
      "source": [
        "# order the embeddings according to the english corpus vocabulary\n",
        "for word, index in voc_emb_id.items():\n",
        "    en_id = src_word2id[word]\n",
        "    ordered_emb[index] = src_embeddings[en_id][:nb_words]\n",
        "print(ordered_emb.shape)"
      ],
      "execution_count": 33,
      "outputs": [
        {
          "output_type": "stream",
          "text": [
            "(35741, 300)\n"
          ],
          "name": "stdout"
        }
      ]
    },
    {
      "cell_type": "code",
      "metadata": {
        "id": "sfqgLFwa-edo",
        "colab_type": "code",
        "outputId": "d5b482bf-0774-4347-b442-e491d49ef700",
        "colab": {
          "base_uri": "https://localhost:8080/",
          "height": 51
        }
      },
      "source": [
        "# check that the indexing by matching words with older embeddings\n",
        "print(src_id2word[2])\n",
        "for i, emb in enumerate(ordered_emb):\n",
        "  if emb[0] == src_embeddings[2][0]:\n",
        "      print(vocab_to_word[i])"
      ],
      "execution_count": 34,
      "outputs": [
        {
          "output_type": "stream",
          "text": [
            "the\n",
            "the\n"
          ],
          "name": "stdout"
        }
      ]
    },
    {
      "cell_type": "markdown",
      "metadata": {
        "id": "3ZUbe7rL_3vH",
        "colab_type": "text"
      },
      "source": [
        "## Update spanish embeddings"
      ]
    },
    {
      "cell_type": "code",
      "metadata": {
        "id": "umFktKec_7mb",
        "colab_type": "code",
        "colab": {}
      },
      "source": [
        "# This commented code is use to generate the spanish corpus vocabularies\n",
        "# As it takes a long time to process, the vocabularies has been saved to a pickle file\n",
        "# and load directly in the next block\n",
        "\n",
        "# ---\n",
        "\n",
        "# print(len(list(es_vocab_to_int.items())))\n",
        "\n",
        "# print(es_vocab_to_int.keys())\n",
        "# print(es_vocab_to_int[\"historia\"])\n",
        "# print(tgt_word2id[\"historia\"])\n",
        "# emb_es_hist = tgt_embeddings[tgt_word2id[\"historia\"]]\n",
        "\n",
        "# list_w = ['historia', 'que', 'la', 'y']\n",
        "# list_emb = [tgt_embeddings[tgt_word2id[i]] for i in list_w]\n",
        "\n",
        "# def get_nn(word, src_emb, src_id2word, tgt_emb, tgt_id2word, K=5):\n",
        "#     print(\"Nearest neighbors of \\\"%s\\\":\" % word)\n",
        "#     word2id = {v: k for k, v in src_id2word.items()}\n",
        "#     word_emb = src_emb[word2id[word]]\n",
        "#     scores = (tgt_emb / np.linalg.norm(tgt_emb, 2, 1)[:, None]).dot(word_emb / np.linalg.norm(word_emb))\n",
        "#     k_best = scores.argsort()[-K:][::-1]\n",
        "#     for i, idx in enumerate(k_best):\n",
        "#       print('%.4f - %s' % (scores[idx], tgt_id2word[idx]))\n",
        "# #       print(idx)\n",
        "\n",
        "# def get_closest(word_emb, src_emb, tgt_emb):\n",
        "#     scores = (tgt_emb / np.linalg.norm(tgt_emb, 2, 1)[:, None]).dot(word_emb / np.linalg.norm(word_emb))\n",
        "#     k_best = scores.argsort()[-1:][::-1]\n",
        "#     return k_best[0]\n",
        "\n",
        "# nb_features = 300\n",
        "\n",
        "# en_emb_50 = np.zeros((len(src_embeddings), nb_features))\n",
        "# for i,emb in enumerate(src_embeddings):\n",
        "#   en_emb_50[i] = emb[:nb_features]\n",
        "  \n",
        "# es_emb_50 = np.zeros((len(tgt_embeddings), nb_features))\n",
        "# for i,emb in enumerate(tgt_embeddings):\n",
        "#   es_emb_50[i] = emb[:nb_features]\n",
        "  \n",
        "# ord_emb_50 = np.zeros((len(ordered_emb), nb_features))\n",
        "# for i,emb in enumerate(ordered_emb):\n",
        "#   ord_emb_50[i] = emb[:nb_features]\n",
        "\n",
        "# get_nn(\"historia\", en_emb_50, src_id2word, es_emb_50, tgt_id2word, K=1)\n",
        "\n",
        "# for w in list_w:\n",
        "#   emb = tgt_embeddings[tgt_word2id[w]]\n",
        "# #   print(\"{} :\".format(w))#\n",
        "#   #closest_word(voc_emb_id, ordered_emb, vocab_to_word, emb)))\n",
        "#   get_nn(w, es_emb_50, tgt_id2word, ord_emb_50, voc_to_word, K=1)\n",
        "# #   print(get_closest(emb, tgt_embeddings, ordered_emb))\n",
        "\n",
        "# es_voc_to_id = {}\n",
        "# miss=[]\n",
        "# for i,word in enumerate(es_vocab_to_int.keys()):\n",
        "#   if not i%300:\n",
        "#     print(\"{}% : {}% missing\".format( (i/len(es_vocab_to_int.keys()))*100, ((len(miss)+1)/(i+1)*100)))\n",
        "#   try : \n",
        "#     emb = es_emb_50[tgt_word2id[word]]\n",
        "#     es_voc_to_id[word] = get_closest(emb,es_emb_50, ord_emb_50)\n",
        "#   except KeyError:\n",
        "#     miss.append(word)\n",
        "#     pass\n",
        "\n",
        "# save_obj(es_voc_to_id, \"es_voc_to_id_300\" )\n",
        "# save_obj(voc_to_id, \"en_voc_to_id_300\" )"
      ],
      "execution_count": 0,
      "outputs": []
    },
    {
      "cell_type": "code",
      "metadata": {
        "id": "EaPlO4pf8RtU",
        "colab_type": "code",
        "colab": {}
      },
      "source": [
        "# load the vocabularies from memory \n",
        "es_voc_to_id = load_obj(\"es_voc_to_id\" )\n",
        "es_voc_to_word = {i:w for (w,i) in es_voc_to_id.items()}"
      ],
      "execution_count": 0,
      "outputs": []
    },
    {
      "cell_type": "code",
      "metadata": {
        "id": "P7T6qZOxY4WG",
        "colab_type": "code",
        "outputId": "89c41833-2bfd-4f50-ab5e-0ee13986593d",
        "colab": {
          "base_uri": "https://localhost:8080/",
          "height": 54
        }
      },
      "source": [
        "# index spanish reviews\n",
        "es_reviews_int = []\n",
        "for review in es_cleaned_rev:\n",
        "    r = [es_voc_to_id[w] for w in review if w in es_voc_to_id.keys()]\n",
        "    es_reviews_int.append(r)\n",
        "print (es_reviews_int[0:3])"
      ],
      "execution_count": 37,
      "outputs": [
        {
          "output_type": "stream",
          "text": [
            "[[570, 6156, 1, 97, 211, 3, 14269, 10, 108, 22, 3, 17, 10, 9957, 1486, 1562, 2191, 1562, 18, 1302, 758, 1407, 9957, 17, 320, 13, 180, 1, 1562, 740, 758, 3312, 8917, 9957, 241, 828, 831, 1045, 469, 1437, 1619, 71, 336, 10, 2558, 48, 1619, 1118, 5, 1488, 17, 61, 2659, 6, 570, 6156, 1, 97, 211, 3, 14269, 10, 108, 22, 3, 17, 10, 9957, 1486, 13301, 1045, 156, 537, 1619, 1038, 666, 1431, 1250, 272, 6, 0, 187, 1, 2271, 2973, 6, 13161, 4, 125, 365, 10, 42, 2893, 174, 10, 42, 4, 3837, 68, 73, 2423, 10, 42, 2893, 1045, 68, 13, 2, 10, 42, 2893, 15273, 2, 17, 1045, 2383, 0, 109, 6, 761, 666, 1109, 1486, 2708, 10, 0, 10, 61, 3768, 198, 12246, 1619, 523, 1, 10, 3, 274, 6, 49, 22, 464, 3, 1395, 96, 3, 758, 60, 38, 14, 92, 9957, 97, 3, 125, 10, 6, 106, 8755, 3459, 1562, 6033, 2932, 0, 1957, 3, 2, 1890, 3, 149, 3, 1, 0, 0, 2807, 212, 24772, 17, 9077, 17, 1045, 17, 9077, 1619, 17, 24772, 61, 15906, 1562, 18, 14, 0, 413, 3, 10, 125, 666, 1887, 1, 125, 666, 3555, 10, 31, 125, 61, 151, 5, 320, 198, 7103, 17, 1045, 9139, 3, 42, 1045, 23571, 231, 115, 10, 93, 1, 282, 68, 953, 0, 6907, 57, 10, 400, 96, 3, 125, 666, 10, 156, 35401, 6, 415, 0, 3, 831, 42, 1045, 125, 1109, 1413, 38, 13450, 400, 8337, 1, 10, 640, 4, 0, 3, 125, 149, 3, 125, 10, 529, 1562, 1, 0, 1110, 707, 14, 3, 125, 12835, 1083, 38, 12835, 10, 68, 198, 209, 4, 771, 1050, 793, 6986, 3130, 176, 10, 10, 93, 97, 12835, 10, 440], [758, 26174, 12835, 10, 812, 5500, 61, 3, 16694, 4, 463, 4742, 125, 106, 2592, 492, 3, 61, 146, 3, 1131, 463, 174, 1437, 10, 4742, 0, 857, 1, 31, 146, 1486, 3, 831, 161, 831, 61, 1045, 469, 1437, 10, 2558, 831, 1045, 61, 4298, 3, 2, 18, 12835, 906, 71, 53, 3, 758, 26174, 12835, 10, 812, 5500, 61, 3, 16694, 4, 761, 13, 0, 758, 7884, 1447, 0, 25720, 1045, 0, 28338, 15864, 1898, 53, 1092, 1131, 5606, 1437, 10, 6, 0, 86, 1131, 156, 2395, 758, 13, 1348, 82, 0, 279, 3, 0, 211, 679, 758, 3, 52, 2434, 250, 10, 0, 0, 517, 2102, 17300, 95, 9957, 2, 9722, 0, 12246, 3, 0, 211, 441, 0, 162, 6, 4485, 1, 0, 5148, 4, 7718, 3, 3799, 196, 61, 234, 3, 3612, 17, 6, 0, 831, 61, 800, 1, 812, 2659, 161, 571, 10814, 3591, 12835, 418, 2160, 1, 418, 68, 15464, 125, 2557, 29645, 11903, 111, 5556, 1, 12437, 18531, 13, 1624, 26541, 3, 1183, 1298, 24088, 5, 52, 31, 831, 0, 1987, 57, 9955, 3304, 387, 3, 2, 1334, 3, 10188, 1, 108, 2690, 1619, 139, 32741, 17, 980, 27, 13, 6409, 1959, 0, 466, 1, 61, 4033, 125, 884, 12835, 564, 19452, 0, 0, 146, 5165, 304, 3680, 2876, 5607, 34276, 2, 861, 13, 115, 291, 6, 9292, 13, 0, 1028, 12835, 125, 1486, 708, 151, 894, 3, 0, 57, 9957, 0, 3, 17166, 13, 97, 1447, 0, 25720], [2, 0, 18, 10, 43, 14427, 3372, 2160, 1, 10, 208, 14, 5, 1658, 758, 48, 1562, 1, 4, 0, 198, 27148, 5832, 3, 0, 389, 1486, 10, 43, 586, 0, 1261, 1321, 27346, 4, 220, 3, 5995, 6, 4209, 2282, 4312, 1562, 6003, 3, 1, 7197, 17, 6, 19023, 0, 3849, 0, 1717, 20881, 61, 4, 10078, 0, 0, 4299, 24493, 21563, 4, 2, 14398, 10, 1045, 4, 1250, 1924, 4312, 4, 0, 10949, 3, 306, 12625, 31, 0, 53, 125, 1547, 2136, 3, 1045, 65, 511, 4, 26424, 1619, 2, 2065, 1486, 3, 761, 0, 3, 5832, 3, 2065, 0, 86, 2046, 10860, 11934, 277, 8755, 1486, 298, 151, 14482, 831, 156, 6, 16848, 6, 19255, 49, 0, 187, 400, 111, 57, 1956, 0, 385, 1, 61, 5, 0, 1751, 3, 10, 24088, 1153, 5348, 31, 125, 682, 12835, 202, 1, 4991, 5, 758, 48, 7718, 3, 758, 0, 171, 23223, 2820, 4, 0, 78, 281, 0, 478, 3, 758, 1555, 6, 22613, 1103, 3304, 31, 0, 15329, 3, 17528, 2664, 0, 3860, 34531, 31, 19255, 49, 1045, 61, 831, 3, 10, 125, 3704, 65, 31091, 3, 125, 4187, 31, 30, 125, 34975, 3847, 53, 1428, 2, 2863, 2664, 14, 2, 1751, 8265, 6255, 0, 1555, 31, 0, 5654, 385, 29939, 11874, 32174, 2271, 831, 10, 61, 87, 1299, 31, 5293, 132, 125, 2736, 385, 0, 18, 61, 12355, 0, 258, 3, 1486, 758, 169, 0, 15535, 768, 61, 13121, 4, 0, 3, 0, 6387, 10, 12355, 1486, 8700, 12835, 0, 1810, 1250, 1936, 4, 3670, 61, 0, 348, 0, 33179, 10, 1045, 2508, 0, 797, 3, 2077, 1562, 4756, 1670, 53, 1250, 558, 1579, 23970, 7872, 1562, 182, 768, 4995, 3, 758, 164, 2913, 724, 3, 0, 18, 5, 730, 0, 768, 43, 1894, 0, 3, 968, 758, 5884, 10, 4, 3, 2, 1591, 831, 6, 0, 10, 61, 87, 22015, 0, 0, 968, 5, 464, 3, 806, 14, 415, 118, 6, 0, 6519, 30576, 111, 61, 4, 445, 3, 0, 3, 63, 328, 0, 869, 61, 3019, 6, 12451, 4, 12560, 0, 14482, 428, 4991, 25416, 400, 3148, 0, 372, 14427, 31, 0, 1555, 1250, 445, 31, 24, 1894, 2, 2913, 3, 2375, 10, 6, 892, 3, 125, 331, 191, 10733, 4, 831, 261, 4, 3371, 415, 1974, 3, 63, 26466, 1, 6, 15640, 4, 1579, 14, 0, 24755, 3, 4531, 0, 61, 3, 2, 490, 3148, 0, 1407, 3, 42, 125, 10, 1894, 0, 2664, 38, 1045, 4189, 6, 125, 3, 11934, 1, 16848, 61, 2271, 130, 5, 1747, 3, 63, 35229, 1, 208, 12369, 0, 3, 24493, 42, 87, 261, 0, 118, 6, 2644, 5, 0, 3, 6367, 4, 2613, 5472, 1, 31, 169, 3, 4991, 6, 758, 6255, 3, 6174, 6, 0, 10, 2972, 1004, 3, 0, 3296, 23660, 31, 0, 3595, 306, 187, 0, 524, 2414, 125, 28852, 0, 1791, 1, 0, 3, 125, 19903, 10, 28945, 4531, 1550, 4, 0, 281, 14, 758, 307, 15811, 6, 129, 4, 2492, 53, 230, 0, 220, 3, 639, 1778, 1, 14, 166, 284, 299, 1986, 12835, 0, 6255, 0, 1338, 3, 35007, 1, 1768, 3, 3038, 10, 5, 125, 133, 3, 1045, 2054, 10, 6, 231, 4, 125, 10, 10007, 3467, 6, 248, 4620, 1702, 5, 4831, 684, 6, 0, 10, 4991, 3036, 758, 6059, 230, 0, 10, 418, 10904, 25226, 4695, 4, 11177, 10, 0, 12522, 61, 41, 27, 3, 92, 10374, 6, 422, 831, 10, 27346, 10601, 0, 1555, 61, 4210, 1860, 248, 1045, 70, 5, 475, 243, 274, 27346, 1486, 750, 70, 4, 1596, 27346, 0, 6059, 151, 5, 0, 761, 4, 2271, 0, 187, 5, 758, 2781, 7916, 1562, 5349, 2172, 4, 445, 3, 10, 6, 61, 0, 61, 31, 2, 570, 10587, 1, 1562, 5508, 27346, 3780, 31, 76, 2557, 12625, 3, 0, 6255, 5, 2012, 13, 4, 445, 3, 0, 4, 125, 1033, 4, 831, 459, 0, 18, 2610, 6827, 0, 552, 2280, 1854, 6, 0, 3, 0, 6174, 463, 2558, 6, 0, 13020, 3, 125, 100, 6, 125, 10, 1033, 38, 2376, 6, 0, 1371, 3, 93, 18, 10, 7542, 1250, 10734, 6, 63, 25760, 5527, 4991, 5, 463, 2, 0, 18, 10, 43, 14427, 3372, 2160, 4, 243, 61, 1486, 1, 10, 208, 14, 5, 1658, 758, 48, 1562, 1, 4, 0, 198, 27148, 4, 12929, 3, 4037, 1486, 33880, 3, 125, 10845, 3, 4572, 3532, 758, 1702]]\n"
          ],
          "name": "stdout"
        }
      ]
    },
    {
      "cell_type": "code",
      "metadata": {
        "id": "AiJFkN7UZyru",
        "colab_type": "code",
        "colab": {}
      },
      "source": [
        "# store all labels in a list\n",
        "es_labels = []\n",
        "for label in df_es[\"label\"]:\n",
        "    es_labels.append(label)"
      ],
      "execution_count": 0,
      "outputs": []
    },
    {
      "cell_type": "markdown",
      "metadata": {
        "id": "_pegdB5vBvZP",
        "colab_type": "text"
      },
      "source": [
        "# Indexing English dataset"
      ]
    },
    {
      "cell_type": "code",
      "metadata": {
        "id": "jeBqcmVEB3mM",
        "colab_type": "code",
        "colab": {}
      },
      "source": [
        "# temporary copy to save the vocabularies and use it during error analysis\n",
        "vocab_to_int = voc_to_id\n",
        "vocab_to_word = voc_to_word"
      ],
      "execution_count": 0,
      "outputs": []
    },
    {
      "cell_type": "code",
      "metadata": {
        "id": "7LZQC_oPCPke",
        "colab_type": "code",
        "colab": {}
      },
      "source": [
        "# index english reviews\n",
        "reviews_int = []\n",
        "for i,review in enumerate(cleaned_rev):\n",
        "    r = [vocab_to_int[w] for w in review  if w in vocab_to_int.keys()]\n",
        "    reviews_int.append(r)"
      ],
      "execution_count": 0,
      "outputs": []
    },
    {
      "cell_type": "code",
      "metadata": {
        "id": "I0avIVXICdFo",
        "colab_type": "code",
        "colab": {}
      },
      "source": [
        "# store all labels in a list\n",
        "labels = []\n",
        "for label in df[\"label\"]:\n",
        "    labels.append(label)"
      ],
      "execution_count": 0,
      "outputs": []
    },
    {
      "cell_type": "markdown",
      "metadata": {
        "id": "psaQxwdLCyqa",
        "colab_type": "text"
      },
      "source": [
        "## Analyzing length"
      ]
    },
    {
      "cell_type": "code",
      "metadata": {
        "id": "6X5CDCmWC1C1",
        "colab_type": "code",
        "outputId": "eec3482f-4d1a-4b27-84c8-f0c7e29bbb2e",
        "colab": {
          "base_uri": "https://localhost:8080/",
          "height": 422
        }
      },
      "source": [
        "# Analysing lenght of reviews after all preprocessing\n",
        "reviews_len = [len(x) for x in reviews_int]\n",
        "pd.Series(reviews_len).hist()\n",
        "plt.show()\n",
        "pd.Series(reviews_len).describe()"
      ],
      "execution_count": 42,
      "outputs": [
        {
          "output_type": "display_data",
          "data": {
            "image/png": "[encoded data removed]",
            "text/plain": [
              "<Figure size 432x288 with 1 Axes>"
            ]
          },
          "metadata": {
            "tags": []
          }
        },
        {
          "output_type": "execute_result",
          "data": {
            "text/plain": [
              "count    50000.000000\n",
              "mean       218.277440\n",
              "std        161.551621\n",
              "min          2.000000\n",
              "25%        120.000000\n",
              "50%        164.000000\n",
              "75%        264.000000\n",
              "max       2342.000000\n",
              "dtype: float64"
            ]
          },
          "metadata": {
            "tags": []
          },
          "execution_count": 42
        }
      ]
    },
    {
      "cell_type": "code",
      "metadata": {
        "id": "UZweMM5xazOt",
        "colab_type": "code",
        "outputId": "18d8090a-0009-4d13-e86a-2cc46c7976e9",
        "colab": {
          "base_uri": "https://localhost:8080/",
          "height": 422
        }
      },
      "source": [
        "es_reviews_len = [len(x) for x in es_reviews_int]\n",
        "pd.Series(es_reviews_len).hist()\n",
        "plt.show()\n",
        "pd.Series(es_reviews_len).describe()"
      ],
      "execution_count": 43,
      "outputs": [
        {
          "output_type": "display_data",
          "data": {
            "image/png": "[encoded data removed]",
            "text/plain": [
              "<Figure size 432x288 with 1 Axes>"
            ]
          },
          "metadata": {
            "tags": []
          }
        },
        {
          "output_type": "execute_result",
          "data": {
            "text/plain": [
              "count    2275.000000\n",
              "mean      437.809231\n",
              "std       258.011431\n",
              "min        21.000000\n",
              "25%       284.000000\n",
              "50%       376.000000\n",
              "75%       522.500000\n",
              "max      4082.000000\n",
              "dtype: float64"
            ]
          },
          "metadata": {
            "tags": []
          },
          "execution_count": 43
        }
      ]
    },
    {
      "cell_type": "markdown",
      "metadata": {
        "id": "L4SjUSnRDPQl",
        "colab_type": "text"
      },
      "source": [
        "## Outlier"
      ]
    },
    {
      "cell_type": "code",
      "metadata": {
        "id": "l2uhwMbtDR4K",
        "colab_type": "code",
        "colab": {}
      },
      "source": [
        "# remove outliers  : empty reviews\n",
        "reviews_int = [ reviews_int[i] for i, l in enumerate(reviews_len) if l>0 ]\n",
        "labels = [ labels[i] for i, l in enumerate(reviews_len) if l> 0 ]\n",
        "\n",
        "es_reviews_int = [ es_reviews_int[i] for i, l in enumerate(es_reviews_len) if l>0 ]\n",
        "es_labels = [ es_labels[i] for i, l in enumerate(es_reviews_len) if l> 0 ]"
      ],
      "execution_count": 0,
      "outputs": []
    },
    {
      "cell_type": "markdown",
      "metadata": {
        "id": "K90NMUAHDUnE",
        "colab_type": "text"
      },
      "source": [
        "## Padding"
      ]
    },
    {
      "cell_type": "code",
      "metadata": {
        "id": "LxrrCUbSDWQm",
        "colab_type": "code",
        "colab": {}
      },
      "source": [
        "# Set reviews to seq_lenght\n",
        "# truncate or padd with zeroes\n",
        "def pad_features(reviews_int, seq_length):\n",
        "  \n",
        "    features = np.zeros((len(reviews_int), seq_length), dtype = int)\n",
        "    \n",
        "    index_trunc = []\n",
        "    \n",
        "    for i, review in enumerate(reviews_int):\n",
        "        review_len = len(review)\n",
        "        \n",
        "        if review_len <= seq_length:\n",
        "            zeroes = list(np.zeros(seq_length-review_len))\n",
        "            new = zeroes+review\n",
        "        elif review_len > seq_length:\n",
        "            new = review[0:seq_length]\n",
        "            index_trunc.append(i)\n",
        "        \n",
        "        features[i,:] = np.array(new)\n",
        "    \n",
        "    return features, index_trunc"
      ],
      "execution_count": 0,
      "outputs": []
    },
    {
      "cell_type": "code",
      "metadata": {
        "id": "6xhIvKw9DYAY",
        "colab_type": "code",
        "colab": {}
      },
      "source": [
        "# adjust all reviews to a length of 300 words\n",
        "len_feat = 300\n",
        "features, ind_trunc = pad_features(reviews_int, len_feat)\n",
        "es_features, es_ind_trunc = pad_features(es_reviews_int, len_feat)"
      ],
      "execution_count": 0,
      "outputs": []
    },
    {
      "cell_type": "code",
      "metadata": {
        "id": "3T7Y52OGDaFH",
        "colab_type": "code",
        "colab": {}
      },
      "source": [
        "# shuffle all english reviews at random\n",
        "feature_s = features.copy()\n",
        "labels_s = labels.copy()\n",
        "\n",
        "labels_a = np.array(labels)\n",
        "indices = np.arange(features.shape[0])\n",
        "np.random.shuffle(indices)\n",
        "\n",
        "features = features[indices]\n",
        "labels = labels_a[indices]"
      ],
      "execution_count": 0,
      "outputs": []
    },
    {
      "cell_type": "code",
      "metadata": {
        "id": "P1TCpmZ8DbNL",
        "colab_type": "code",
        "colab": {}
      },
      "source": [
        "# shuffle all spanish reviews at random\n",
        "es_feature_s = es_features.copy()\n",
        "es_labels_s = es_labels.copy()\n",
        "\n",
        "es_labels_a = np.array(es_labels)\n",
        "es_indices = np.arange(es_features.shape[0])\n",
        "np.random.shuffle(es_indices)\n",
        "\n",
        "es_features = es_features[es_indices]\n",
        "es_labels = es_labels_a[es_indices]"
      ],
      "execution_count": 0,
      "outputs": []
    },
    {
      "cell_type": "code",
      "metadata": {
        "id": "DLP0sv6sDemJ",
        "colab_type": "code",
        "colab": {}
      },
      "source": [
        "# split the datasets into training, testing and validation tests\n",
        "split_frac = 0.8\n",
        "\n",
        "train_x = features[0:int(split_frac*len(features))]\n",
        "train_y = labels[0:int(split_frac*len(features))]\n",
        "\n",
        "remaining_x = features[int(split_frac*len(features)):]\n",
        "remaining_y = labels[int(split_frac*len(features)):]\n",
        "\n",
        "valid_x = remaining_x[0:int(len(remaining_x)*0.5)]\n",
        "valid_y = remaining_y[0:int(len(remaining_y)*0.5)]\n",
        "\n",
        "test_x = remaining_x[int(len(remaining_x)*0.5):]\n",
        "test_y = remaining_y[int(len(remaining_y)*0.5):]"
      ],
      "execution_count": 0,
      "outputs": []
    },
    {
      "cell_type": "code",
      "metadata": {
        "id": "kxJ3GnM4-ueH",
        "colab_type": "code",
        "colab": {
          "base_uri": "https://localhost:8080/",
          "height": 51
        },
        "outputId": "7729b409-3987-47b5-b862-e20949901385"
      },
      "source": [
        "# check if the final sets are still balanced\n",
        "y = np.bincount(test_y)\n",
        "ii = np.nonzero(y)[0]\n",
        "np.vstack((ii,y[ii])).T"
      ],
      "execution_count": 50,
      "outputs": [
        {
          "output_type": "execute_result",
          "data": {
            "text/plain": [
              "array([[   0, 2495],\n",
              "       [   1, 2505]])"
            ]
          },
          "metadata": {
            "tags": []
          },
          "execution_count": 50
        }
      ]
    },
    {
      "cell_type": "markdown",
      "metadata": {
        "id": "MC0TR_XNDFN-",
        "colab_type": "text"
      },
      "source": [
        "# Model"
      ]
    },
    {
      "cell_type": "code",
      "metadata": {
        "id": "KeiY_ktBDHvx",
        "colab_type": "code",
        "outputId": "7c69c36d-3fc6-44d0-e8f4-34a05ad6227f",
        "colab": {
          "base_uri": "https://localhost:8080/",
          "height": 666
        }
      },
      "source": [
        "# define model\n",
        "model = Sequential()\n",
        "e = Embedding(ordered_emb.shape[0], ordered_emb.shape[1], weights=[ordered_emb], input_length=len_feat, trainable=False)\n",
        "model.add(e)\n",
        "model.add(LSTM(50, dropout = 0.6))\n",
        "model.add(Dense(1, activation='sigmoid'))\n",
        "# compile the model\n",
        "model.compile(optimizer='adam', loss='binary_crossentropy', metrics=['acc'])\n",
        "# summarize the model\n",
        "print(model.summary())"
      ],
      "execution_count": 51,
      "outputs": [
        {
          "output_type": "stream",
          "text": [
            "WARNING: Logging before flag parsing goes to stderr.\n",
            "W0726 16:08:18.134419 139668816545664 deprecation_wrapper.py:119] From /usr/local/lib/python3.6/dist-packages/keras/backend/tensorflow_backend.py:74: The name tf.get_default_graph is deprecated. Please use tf.compat.v1.get_default_graph instead.\n",
            "\n",
            "W0726 16:08:18.155620 139668816545664 deprecation_wrapper.py:119] From /usr/local/lib/python3.6/dist-packages/keras/backend/tensorflow_backend.py:517: The name tf.placeholder is deprecated. Please use tf.compat.v1.placeholder instead.\n",
            "\n",
            "W0726 16:08:18.158582 139668816545664 deprecation_wrapper.py:119] From /usr/local/lib/python3.6/dist-packages/keras/backend/tensorflow_backend.py:4138: The name tf.random_uniform is deprecated. Please use tf.random.uniform instead.\n",
            "\n",
            "W0726 16:08:18.169813 139668816545664 deprecation_wrapper.py:119] From /usr/local/lib/python3.6/dist-packages/keras/backend/tensorflow_backend.py:174: The name tf.get_default_session is deprecated. Please use tf.compat.v1.get_default_session instead.\n",
            "\n",
            "W0726 16:08:18.170989 139668816545664 deprecation_wrapper.py:119] From /usr/local/lib/python3.6/dist-packages/keras/backend/tensorflow_backend.py:181: The name tf.ConfigProto is deprecated. Please use tf.compat.v1.ConfigProto instead.\n",
            "\n",
            "W0726 16:08:19.059352 139668816545664 deprecation.py:506] From /usr/local/lib/python3.6/dist-packages/keras/backend/tensorflow_backend.py:3445: calling dropout (from tensorflow.python.ops.nn_ops) with keep_prob is deprecated and will be removed in a future version.\n",
            "Instructions for updating:\n",
            "Please use `rate` instead of `keep_prob`. Rate should be set to `rate = 1 - keep_prob`.\n",
            "W0726 16:08:19.065343 139668816545664 nn_ops.py:4224] Large dropout rate: 0.6 (>0.5). In TensorFlow 2.x, dropout() uses dropout rate instead of keep_prob. Please ensure that this is intended.\n",
            "W0726 16:08:19.091981 139668816545664 nn_ops.py:4224] Large dropout rate: 0.6 (>0.5). In TensorFlow 2.x, dropout() uses dropout rate instead of keep_prob. Please ensure that this is intended.\n",
            "W0726 16:08:19.114413 139668816545664 nn_ops.py:4224] Large dropout rate: 0.6 (>0.5). In TensorFlow 2.x, dropout() uses dropout rate instead of keep_prob. Please ensure that this is intended.\n",
            "W0726 16:08:19.132387 139668816545664 nn_ops.py:4224] Large dropout rate: 0.6 (>0.5). In TensorFlow 2.x, dropout() uses dropout rate instead of keep_prob. Please ensure that this is intended.\n",
            "W0726 16:08:19.270971 139668816545664 deprecation_wrapper.py:119] From /usr/local/lib/python3.6/dist-packages/keras/optimizers.py:790: The name tf.train.Optimizer is deprecated. Please use tf.compat.v1.train.Optimizer instead.\n",
            "\n",
            "W0726 16:08:19.293966 139668816545664 deprecation.py:323] From /usr/local/lib/python3.6/dist-packages/tensorflow/python/ops/nn_impl.py:180: add_dispatch_support.<locals>.wrapper (from tensorflow.python.ops.array_ops) is deprecated and will be removed in a future version.\n",
            "Instructions for updating:\n",
            "Use tf.where in 2.0, which has the same broadcast rule as np.where\n"
          ],
          "name": "stderr"
        },
        {
          "output_type": "stream",
          "text": [
            "_________________________________________________________________\n",
            "Layer (type)                 Output Shape              Param #   \n",
            "=================================================================\n",
            "embedding_1 (Embedding)      (None, 300, 300)          10722300  \n",
            "_________________________________________________________________\n",
            "lstm_1 (LSTM)                (None, 50)                70200     \n",
            "_________________________________________________________________\n",
            "dense_1 (Dense)              (None, 1)                 51        \n",
            "=================================================================\n",
            "Total params: 10,792,551\n",
            "Trainable params: 70,251\n",
            "Non-trainable params: 10,722,300\n",
            "_________________________________________________________________\n",
            "None\n"
          ],
          "name": "stdout"
        }
      ]
    },
    {
      "cell_type": "code",
      "metadata": {
        "id": "81MV_ACEDOf5",
        "colab_type": "code",
        "colab": {}
      },
      "source": [
        "# function to plot the metrics \n",
        "def plot(history, nb_epochs):\n",
        "    history_dict = history.history\n",
        "    loss_values = history_dict['loss']\n",
        "    val_loss_values = history_dict['val_loss']\n",
        "    first_epoch = 0\n",
        "    epochs = range(first_epoch + 1, nb_epochs + 1)\n",
        "\n",
        "    plt.plot(epochs, loss_values[first_epoch:], 'b', label='Training loss')\n",
        "    plt.plot(epochs, val_loss_values[first_epoch:], 'r', label='Validation loss')\n",
        "    plt.title(\"Loss\")\n",
        "    plt.xlabel('Epochs')\n",
        "    plt.ylabel('Loss')\n",
        "    plt.legend()\n",
        "    plt.show(block=False);\n",
        "\n",
        "    plt.clf()\n",
        "    acc_values = history_dict['acc']\n",
        "    val_acc_values = history_dict['val_acc']\n",
        "\n",
        "    plt.plot(epochs, acc_values[first_epoch:], 'b', label='Training Accuracy')\n",
        "    plt.plot(epochs, val_acc_values[first_epoch:], 'r', label='Validation Accuracy')\n",
        "    plt.title(\"Accuracy\")\n",
        "    plt.xlabel('Epochs')\n",
        "    plt.ylabel('Accuracy')\n",
        "    plt.legend()\n",
        "    plt.show(block=False);"
      ],
      "execution_count": 0,
      "outputs": []
    },
    {
      "cell_type": "code",
      "metadata": {
        "id": "E5qWI292DcYV",
        "colab_type": "code",
        "colab": {}
      },
      "source": [
        "nb_epochs = 10\n",
        "# history = model.fit(train_x, train_y, batch_size = 32, epochs=nb_epochs, validation_data=(valid_x, valid_y), verbose=1)"
      ],
      "execution_count": 0,
      "outputs": []
    },
    {
      "cell_type": "code",
      "metadata": {
        "id": "NnnxpdJA7y3j",
        "colab_type": "code",
        "colab": {}
      },
      "source": [
        "model.load_weights(PATH_WEIGHTS)"
      ],
      "execution_count": 0,
      "outputs": []
    },
    {
      "cell_type": "code",
      "metadata": {
        "id": "dubHP_TIDqmE",
        "colab_type": "code",
        "colab": {}
      },
      "source": [
        "# plot(history, nb_epochs)"
      ],
      "execution_count": 0,
      "outputs": []
    },
    {
      "cell_type": "code",
      "metadata": {
        "id": "Jo8lT18IDr9x",
        "colab_type": "code",
        "outputId": "42a151bf-792f-4854-a3a2-1c1e93bffc15",
        "colab": {
          "base_uri": "https://localhost:8080/",
          "height": 51
        }
      },
      "source": [
        "loss, accuracy = model.evaluate(test_x, test_y, verbose=1)\n",
        "print('Accuracy on english reviews: %f' % (accuracy*100))"
      ],
      "execution_count": 56,
      "outputs": [
        {
          "output_type": "stream",
          "text": [
            "5000/5000 [==============================] - 25s 5ms/step\n",
            "Accuracy on english reviews: 86.860000\n"
          ],
          "name": "stdout"
        }
      ]
    },
    {
      "cell_type": "code",
      "metadata": {
        "id": "qbGftvjJt7MO",
        "colab_type": "code",
        "outputId": "d2083c1c-957a-4802-a259-49f438914442",
        "colab": {
          "base_uri": "https://localhost:8080/",
          "height": 51
        }
      },
      "source": [
        "loss, accuracy = model.evaluate(es_features, es_labels, verbose=1)\n",
        "print('Accuracy on spanish reviews: %f' % (accuracy*100))"
      ],
      "execution_count": 57,
      "outputs": [
        {
          "output_type": "stream",
          "text": [
            "2275/2275 [==============================] - 11s 5ms/step\n",
            "Accuracy on spanish reviews: 72.439560\n"
          ],
          "name": "stdout"
        }
      ]
    },
    {
      "cell_type": "markdown",
      "metadata": {
        "id": "KJdLl4WxWzw8",
        "colab_type": "text"
      },
      "source": [
        "# Error_Analysis\n"
      ]
    },
    {
      "cell_type": "code",
      "metadata": {
        "id": "r-X8TuXl6Qg-",
        "colab_type": "code",
        "colab": {}
      },
      "source": [
        "# function to compute the confusion matrix\n",
        "def stats(model, x_train, y_train):\n",
        "  y_predict = model.predict(x_train)\n",
        "  l_pred = [round(x[0]) for x in list(y_predict)]\n",
        "  tp = [i for i, val in enumerate(l_pred) if val == y_train[i] and val]\n",
        "  tn = [i for i, val in enumerate(l_pred) if val == y_train[i] and not val]\n",
        "  fp = [i for i, val in enumerate(l_pred) if val != y_train[i] and val]\n",
        "  fn = [i for i, val in enumerate(l_pred) if val != y_train[i] and not val]\n",
        "  TP, TN, FP, FN = len(tp), len(tn), len(fp), len(fn)\n",
        "  accuracy = (TP + TN)/(TP + TN + FP + FN)\n",
        "  F1_score = 2*TP / (2*TP + FP + FN + keras.backend.epsilon())\n",
        "  return tp,tn,fn,fp,accuracy, F1_score"
      ],
      "execution_count": 0,
      "outputs": []
    },
    {
      "cell_type": "code",
      "metadata": {
        "id": "OwJ4tHq36T4a",
        "colab_type": "code",
        "outputId": "2e4d1997-e336-4f75-c6b3-451ab260b664",
        "colab": {
          "base_uri": "https://localhost:8080/",
          "height": 51
        }
      },
      "source": [
        "tp,tn,fn,fp,accuracy, F1 = stats(model, test_x, test_y)\n",
        "print(accuracy)\n",
        "print(F1)"
      ],
      "execution_count": 59,
      "outputs": [
        {
          "output_type": "stream",
          "text": [
            "0.8686\n",
            "0.8657814095839473\n"
          ],
          "name": "stdout"
        }
      ]
    },
    {
      "cell_type": "code",
      "metadata": {
        "id": "su9ao42T7LWI",
        "colab_type": "code",
        "outputId": "d8bc9c1d-f698-4f96-d2f4-e90d5c9e0b32",
        "colab": {
          "base_uri": "https://localhost:8080/",
          "height": 51
        }
      },
      "source": [
        "tp,tn,fn,fp,accuracy, F1 = stats(model, es_features, es_labels)\n",
        "print(accuracy)\n",
        "print(F1)"
      ],
      "execution_count": 60,
      "outputs": [
        {
          "output_type": "stream",
          "text": [
            "0.7243956043956044\n",
            "0.7502986857526763\n"
          ],
          "name": "stdout"
        }
      ]
    },
    {
      "cell_type": "code",
      "metadata": {
        "id": "nHe65yRF239n",
        "colab_type": "code",
        "outputId": "5aceb281-e1cb-4c76-83f5-ff072bef3a85",
        "colab": {
          "base_uri": "https://localhost:8080/",
          "height": 85
        }
      },
      "source": [
        "print(len(tp))\n",
        "print(len(tn))\n",
        "print(len(fp))\n",
        "print(len(fn))"
      ],
      "execution_count": 61,
      "outputs": [
        {
          "output_type": "stream",
          "text": [
            "942\n",
            "706\n",
            "424\n",
            "203\n"
          ],
          "name": "stdout"
        }
      ]
    },
    {
      "cell_type": "code",
      "metadata": {
        "id": "sVxb4fJoDrfj",
        "colab_type": "code",
        "outputId": "c172e1e5-be59-40bb-f687-824178a422b2",
        "colab": {
          "base_uri": "https://localhost:8080/",
          "height": 102
        }
      },
      "source": [
        "print(\"average number of unknown char by review\")\n",
        "avg_tn = 0\n",
        "for i in tn :\n",
        "  avg_tn += l_spanish_char[i]\n",
        "print(\"tn : \",avg_tn/len(tn))\n",
        "avg_tp = 0\n",
        "for i in tp :\n",
        "  avg_tp += l_spanish_char[i]\n",
        "print(\"tp : \",avg_tp/len(tp))\n",
        "avg_fp = 0\n",
        "for i in fp :\n",
        "  avg_fp += l_spanish_char[i]\n",
        "print(\"fp : \",avg_fp/len(fp))\n",
        "avg_fn = 0\n",
        "for i in fn :\n",
        "  avg_fn += l_spanish_char[i]\n",
        "print(\"fn : \",avg_fn/len(fn))"
      ],
      "execution_count": 62,
      "outputs": [
        {
          "output_type": "stream",
          "text": [
            "average number of unknown char by review\n",
            "tn :  50.82011331444759\n",
            "tp :  49.85774946921444\n",
            "fp :  50.16509433962264\n",
            "fn :  51.172413793103445\n"
          ],
          "name": "stdout"
        }
      ]
    },
    {
      "cell_type": "code",
      "metadata": {
        "id": "CoM8JW7TFMVl",
        "colab_type": "code",
        "outputId": "baea1c6e-a1a4-4cc7-90ad-b0026d6d5ca4",
        "colab": {
          "base_uri": "https://localhost:8080/",
          "height": 68
        }
      },
      "source": [
        "print(\"average percent of truncated review\")\n",
        "avg_tn = 0\n",
        "for i in tn :\n",
        "  if i in es_ind_trunc:\n",
        "    avg_tn += 1\n",
        "avg_tp = 0\n",
        "for i in tp :\n",
        "  if i in es_ind_trunc:\n",
        "    avg_tp += 1\n",
        "print(\"correct predictions : \",(avg_tn/len(es_ind_trunc)*100+avg_tp/len(es_ind_trunc)*100))\n",
        "avg_fn = 0\n",
        "for i in fn :\n",
        "  if i in es_ind_trunc:\n",
        "    avg_fn += 1\n",
        "avg_fp = 0\n",
        "for i in fp :\n",
        "  if i in es_ind_trunc:\n",
        "    avg_fp += 1\n",
        "print(\"wrong predictions : \",(avg_fn/len(es_ind_trunc)*100+avg_fp/len(es_ind_trunc)*100))"
      ],
      "execution_count": 65,
      "outputs": [
        {
          "output_type": "stream",
          "text": [
            "average percent of truncated review\n",
            "correct predictions :  72.01516108654454\n",
            "wrong predictions :  27.984838913455462\n"
          ],
          "name": "stdout"
        }
      ]
    }
  ]
}