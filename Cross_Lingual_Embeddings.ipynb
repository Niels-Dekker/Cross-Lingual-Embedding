{
  "nbformat": 4,
  "nbformat_minor": 0,
  "metadata": {
    "colab": {
      "name": "Cross_Lingual_Embeddings",
      "version": "0.3.2",
      "provenance": [],
      "collapsed_sections": []
    },
    "kernelspec": {
      "name": "python3",
      "display_name": "Python 3"
    },
    "accelerator": "GPU"
  },
  "cells": [
    {
      "cell_type": "code",
      "metadata": {
        "id": "eZ5VSEZpnMxv",
        "colab_type": "code",
        "outputId": "8c64c422-43f0-4a6c-850f-886da8574257",
        "colab": {
          "base_uri": "https://localhost:8080/",
          "height": 122
        }
      },
      "source": [
        "# mount the google drive locally\n",
        "from google.colab import drive\n",
        "drive.mount('/content/gdrive')\n",
        "PATH_DRIVE = \"/content/gdrive/My Drive/Cross-Lingual-Embedding/\""
      ],
      "execution_count": 0,
      "outputs": [
        {
          "output_type": "stream",
          "text": [
            "Go to this URL in a browser: https://accounts.google.com/o/oauth2/auth?client_id=947318989803-6bn6qk8qdgf4n4g3pfee6491hc0brc4i.apps.googleusercontent.com&redirect_uri=urn%3Aietf%3Awg%3Aoauth%3A2.0%3Aoob&scope=email%20https%3A%2F%2Fwww.googleapis.com%2Fauth%2Fdocs.test%20https%3A%2F%2Fwww.googleapis.com%2Fauth%2Fdrive%20https%3A%2F%2Fwww.googleapis.com%2Fauth%2Fdrive.photos.readonly%20https%3A%2F%2Fwww.googleapis.com%2Fauth%2Fpeopleapi.readonly&response_type=code\n",
            "\n",
            "Enter your authorization code:\n",
            "··········\n",
            "Mounted at /content/gdrive\n"
          ],
          "name": "stdout"
        }
      ]
    },
    {
      "cell_type": "code",
      "metadata": {
        "id": "E0i514uUnTil",
        "colab_type": "code",
        "outputId": "8d4d7133-e83f-4815-b1ea-5c70e15902ea",
        "colab": {
          "base_uri": "https://localhost:8080/",
          "height": 102
        }
      },
      "source": [
        "import pandas as pd  \n",
        "import numpy as np\n",
        "import matplotlib.pyplot as plt\n",
        "%matplotlib inline\n",
        "import random\n",
        "from collections import Counter\n",
        "import io\n",
        "\n",
        "import collections\n",
        "import string\n",
        "from string import punctuation\n",
        "\n",
        "import nltk\n",
        "from nltk.tokenize import word_tokenize\n",
        "from nltk.corpus import stopwords\n",
        "nltk.download('punkt')\n",
        "nltk.download('stopwords')\n",
        "from gensim.utils import lemmatize\n",
        "\n",
        "import keras\n",
        "from keras.datasets import imdb\n",
        "from keras.preprocessing.text import one_hot, Tokenizer\n",
        "from keras.preprocessing.sequence import pad_sequences\n",
        "\n",
        "from keras.models import Sequential\n",
        "from keras.layers import Dense\n",
        "from keras.layers import Flatten, LSTM\n",
        "from keras.layers.embeddings import Embedding"
      ],
      "execution_count": 0,
      "outputs": [
        {
          "output_type": "stream",
          "text": [
            "[nltk_data] Downloading package punkt to /root/nltk_data...\n",
            "[nltk_data]   Unzipping tokenizers/punkt.zip.\n",
            "[nltk_data] Downloading package stopwords to /root/nltk_data...\n",
            "[nltk_data]   Unzipping corpora/stopwords.zip.\n"
          ],
          "name": "stdout"
        },
        {
          "output_type": "stream",
          "text": [
            "Using TensorFlow backend.\n"
          ],
          "name": "stderr"
        }
      ]
    },
    {
      "cell_type": "code",
      "metadata": {
        "id": "hFhtRCfSnXMR",
        "colab_type": "code",
        "colab": {}
      },
      "source": [
        "PATH_IMDB_TRAIN = PATH_DRIVE + \"Imdb_train.csv\"\n",
        "PATH_IMDB_TEST = PATH_DRIVE + \"Imdb_test.csv\"\n",
        "\n",
        "PATH_CORPUS_CINE = PATH_DRIVE + \"CorpusCine.csv\"\n",
        "\n",
        "PATH_MUSE_EN = PATH_DRIVE + \"wiki.multi.en.vec\"\n",
        "PATH_MUSE_ES = PATH_DRIVE + \"wiki.multi.es.vec\"\n",
        "\n",
        "PATH_DATA = PATH_DRIVE + \"data/\""
      ],
      "execution_count": 0,
      "outputs": []
    },
    {
      "cell_type": "code",
      "metadata": {
        "id": "6quR08UBlMfR",
        "colab_type": "code",
        "colab": {}
      },
      "source": [
        "import pickle\n",
        "def save_obj(obj, name ):\n",
        "    with open(PATH_DRIVE+ name + '.pkl', 'wb') as f:\n",
        "      pickle.dump(obj, f)#, pickle.HIGHEST_PROTOCOL)\n",
        "\n",
        "def load_obj(name ):\n",
        "    with open(PATH_DRIVE+ name + '.pkl', 'rb') as f:\n",
        "        return pickle.load(f)"
      ],
      "execution_count": 0,
      "outputs": []
    },
    {
      "cell_type": "code",
      "metadata": {
        "id": "jVmYWKfLnbyu",
        "colab_type": "code",
        "colab": {}
      },
      "source": [
        "cols = [\"review\",\"label\"]\n",
        "df = pd.read_csv(PATH_IMDB_TRAIN,header=None, names=cols)\n",
        "df_test = pd.read_csv(PATH_IMDB_TEST,header=None, names=cols)\n",
        "df = df.append(df_test)"
      ],
      "execution_count": 0,
      "outputs": []
    },
    {
      "cell_type": "code",
      "metadata": {
        "id": "yHP0vja9zKMU",
        "colab_type": "code",
        "colab": {}
      },
      "source": [
        "df_es = pd.read_csv(PATH_CORPUS_CINE,header=None, names=cols)"
      ],
      "execution_count": 0,
      "outputs": []
    },
    {
      "cell_type": "code",
      "metadata": {
        "id": "3Ea-7bdqANgw",
        "colab_type": "code",
        "colab": {}
      },
      "source": [
        "df_es_save = pd.read_csv(PATH_CORPUS_CINE,header=None, names=cols)"
      ],
      "execution_count": 0,
      "outputs": []
    },
    {
      "cell_type": "code",
      "metadata": {
        "id": "E_F4FUVc5m_W",
        "colab_type": "code",
        "outputId": "4e3d3f82-9607-4ee0-dd49-485dfc70fe5d",
        "colab": {
          "base_uri": "https://localhost:8080/",
          "height": 51
        }
      },
      "source": [
        "print(df[\"label\"].count())\n",
        "print(df_es[\"label\"].count())"
      ],
      "execution_count": 0,
      "outputs": [
        {
          "output_type": "stream",
          "text": [
            "50000\n",
            "2275\n"
          ],
          "name": "stdout"
        }
      ]
    },
    {
      "cell_type": "code",
      "metadata": {
        "id": "XixLy3ng-RAQ",
        "colab_type": "code",
        "outputId": "49fe5026-334e-406e-d2fa-577e5dbba157",
        "colab": {
          "base_uri": "https://localhost:8080/",
          "height": 422
        }
      },
      "source": [
        "reviews_len = [len(word_tokenize(x)) for x in df.review]\n",
        "pd.Series(reviews_len).hist()\n",
        "plt.show()\n",
        "pd.Series(reviews_len).describe()"
      ],
      "execution_count": 0,
      "outputs": [
        {
          "output_type": "display_data",
          "data": {
            "image/png": "[encoded data removed]",
            "text/plain": [
              "<Figure size 432x288 with 1 Axes>"
            ]
          },
          "metadata": {
            "tags": []
          }
        },
        {
          "output_type": "execute_result",
          "data": {
            "text/plain": [
              "count    50000.00000\n",
              "mean       279.13746\n",
              "std        207.65861\n",
              "min          8.00000\n",
              "25%        151.00000\n",
              "50%        209.00000\n",
              "75%        339.00000\n",
              "max       2909.00000\n",
              "dtype: float64"
            ]
          },
          "metadata": {
            "tags": []
          },
          "execution_count": 9
        }
      ]
    },
    {
      "cell_type": "code",
      "metadata": {
        "id": "DHCNQiBg-Sil",
        "colab_type": "code",
        "outputId": "fd5f7ac4-0d6e-454b-866c-5e2428404213",
        "colab": {
          "base_uri": "https://localhost:8080/",
          "height": 422
        }
      },
      "source": [
        "reviews_len = [len(word_tokenize(x)) for x in df_es.review]\n",
        "pd.Series(reviews_len).hist()\n",
        "plt.show()\n",
        "pd.Series(reviews_len).describe()"
      ],
      "execution_count": 0,
      "outputs": [
        {
          "output_type": "display_data",
          "data": {
            "image/png": "[encoded data removed]",
            "text/plain": [
              "<Figure size 432x288 with 1 Axes>"
            ]
          },
          "metadata": {
            "tags": []
          }
        },
        {
          "output_type": "execute_result",
          "data": {
            "text/plain": [
              "count    2275.000000\n",
              "mean      572.864176\n",
              "std       336.653609\n",
              "min        26.000000\n",
              "25%       367.000000\n",
              "50%       492.000000\n",
              "75%       686.500000\n",
              "max      5247.000000\n",
              "dtype: float64"
            ]
          },
          "metadata": {
            "tags": []
          },
          "execution_count": 10
        }
      ]
    },
    {
      "cell_type": "markdown",
      "metadata": {
        "id": "nBEO2fVpzkiJ",
        "colab_type": "text"
      },
      "source": [
        "# Spanish Preprocessing"
      ]
    },
    {
      "cell_type": "code",
      "metadata": {
        "id": "w3-bMLff0phV",
        "colab_type": "code",
        "outputId": "e7ed7915-2ddc-45eb-c941-19761716c9aa",
        "colab": {
          "base_uri": "https://localhost:8080/",
          "height": 54
        }
      },
      "source": [
        "df_es.review[0]"
      ],
      "execution_count": 0,
      "outputs": [
        {
          "output_type": "execute_result",
          "data": {
            "text/plain": [
              "'Malilla, torpona, facilona, simple, vac�a y otra serie de adjetivos que nunca son de halago, pero que\\n        podr�an ser m�s corrosivos.\\n    Al entrar al cine s�lo cabe una pregunta: �ser� tan mala como parece? Y al salir s�lo una respuesta: pudo ser\\n        peor. �Ojo! Esto no quiere decir, ni mucho menos, que sea buena. Ni siquiera es mediocre. Pero se queda en\\n        malilla, torpona, facilona, simple, vac�a y otra serie de adjetivos que nunca son de halago, pero que podr�an\\n        ser m�s corrosivos.Del argumento no hace falta ni hablar. Cuatro treinta�eros buscan su lugar en el mundo, y\\n        todo gira, l�gicamente, en torno a las mujeres. Que si yo quiero casarme, que si a m� me han dejado, que si yo\\n        no me como un rosco, que si yo soy un lig�n pero no encuentro el amor. en fin, cuatro situaciones m�s vistas que\\n        el tebeo, que se mezclan sin gracia ni arte y que s�lo de vez en cuando son capaces de ofrecer alguna situaci�n\\n        c�mica merecedora de una sonrisa.Caf� solo o con ellas ser� otra de esas pel�culas que en dos d�as pasan al\\n        olvido. Aprovechando la fama de un par de actores de televisi�n y el tir�n del formato \"comedia rom�ntica �o�a,\\n        pero graciosa, pero no tan graciosa ni tan �o�a\" se lanzan al cine con la esperanza de que los cuatro\\n        adolescentes aburridos y las cuatro parejas despistadas que pululan por las multisalas se traguen este engendro.\\n        Es mala sin reparos, pero no mata de aburrimiento. Si no tienes nada mejor que hacer y alguien te paga la\\n        entrada, puede que hasta agradezcas alguna de las cuatro gilipolleces que hacen re�r en toda la pel�cula. De\\n        hecho, si no buscaran descaradamente las situaciones f�ciles, supuestamente emotivas o dulces, hasta habr�a\\n        tenido alg�n inter�s. Y tambi�n habr�a que cambiar a la mayor�a de los actores, de los que s�lo salvo al\\n        regordete. Y tambi�n la banda sonora, con �xitos de los 40 metidos para rellenar o para que te pongas trist�n\\n        sin venir a cuento. Bueno, pens�ndolo bien, sobran tantas cosas que habr�a que hacer otra pel�cula para que\\n        tuviera inter�s.\\n    '"
            ]
          },
          "metadata": {
            "tags": []
          },
          "execution_count": 11
        }
      ]
    },
    {
      "cell_type": "code",
      "metadata": {
        "id": "yov0RVQK1F7c",
        "colab_type": "code",
        "outputId": "f1621988-2455-4cb1-a6ad-de41a620a5b9",
        "colab": {
          "base_uri": "https://localhost:8080/",
          "height": 54
        }
      },
      "source": [
        "del_jump = lambda x: x.replace('\\n','')\n",
        "df_es['review'] = df_es['review'].apply(del_jump)\n",
        "df_es.review[0]"
      ],
      "execution_count": 0,
      "outputs": [
        {
          "output_type": "execute_result",
          "data": {
            "text/plain": [
              "'Malilla, torpona, facilona, simple, vac�a y otra serie de adjetivos que nunca son de halago, pero que        podr�an ser m�s corrosivos.    Al entrar al cine s�lo cabe una pregunta: �ser� tan mala como parece? Y al salir s�lo una respuesta: pudo ser        peor. �Ojo! Esto no quiere decir, ni mucho menos, que sea buena. Ni siquiera es mediocre. Pero se queda en        malilla, torpona, facilona, simple, vac�a y otra serie de adjetivos que nunca son de halago, pero que podr�an        ser m�s corrosivos.Del argumento no hace falta ni hablar. Cuatro treinta�eros buscan su lugar en el mundo, y        todo gira, l�gicamente, en torno a las mujeres. Que si yo quiero casarme, que si a m� me han dejado, que si yo        no me como un rosco, que si yo soy un lig�n pero no encuentro el amor. en fin, cuatro situaciones m�s vistas que        el tebeo, que se mezclan sin gracia ni arte y que s�lo de vez en cuando son capaces de ofrecer alguna situaci�n        c�mica merecedora de una sonrisa.Caf� solo o con ellas ser� otra de esas pel�culas que en dos d�as pasan al        olvido. Aprovechando la fama de un par de actores de televisi�n y el tir�n del formato \"comedia rom�ntica �o�a,        pero graciosa, pero no tan graciosa ni tan �o�a\" se lanzan al cine con la esperanza de que los cuatro        adolescentes aburridos y las cuatro parejas despistadas que pululan por las multisalas se traguen este engendro.        Es mala sin reparos, pero no mata de aburrimiento. Si no tienes nada mejor que hacer y alguien te paga la        entrada, puede que hasta agradezcas alguna de las cuatro gilipolleces que hacen re�r en toda la pel�cula. De        hecho, si no buscaran descaradamente las situaciones f�ciles, supuestamente emotivas o dulces, hasta habr�a        tenido alg�n inter�s. Y tambi�n habr�a que cambiar a la mayor�a de los actores, de los que s�lo salvo al        regordete. Y tambi�n la banda sonora, con �xitos de los 40 metidos para rellenar o para que te pongas trist�n        sin venir a cuento. Bueno, pens�ndolo bien, sobran tantas cosas que habr�a que hacer otra pel�cula para que        tuviera inter�s.    '"
            ]
          },
          "metadata": {
            "tags": []
          },
          "execution_count": 12
        }
      ]
    },
    {
      "cell_type": "code",
      "metadata": {
        "id": "Fdgk8xf9_vlf",
        "colab_type": "code",
        "outputId": "bae29463-79b3-4fe0-ae71-49066061a5a9",
        "colab": {
          "base_uri": "https://localhost:8080/",
          "height": 34
        }
      },
      "source": [
        "unknown_char = df_es.review[0][39]\n",
        "unknown_char"
      ],
      "execution_count": 0,
      "outputs": [
        {
          "output_type": "execute_result",
          "data": {
            "text/plain": [
              "'�'"
            ]
          },
          "metadata": {
            "tags": []
          },
          "execution_count": 13
        }
      ]
    },
    {
      "cell_type": "code",
      "metadata": {
        "id": "qlrnaCcKAw09",
        "colab_type": "code",
        "outputId": "29daa04f-d9d0-4e9c-b172-b7b7576d5ccc",
        "colab": {
          "base_uri": "https://localhost:8080/",
          "height": 34
        }
      },
      "source": [
        "count = 0\n",
        "for i in  df_es.review[2]:\n",
        "  if i==unknown_char:\n",
        "    count+=1\n",
        "count"
      ],
      "execution_count": 0,
      "outputs": [
        {
          "output_type": "execute_result",
          "data": {
            "text/plain": [
              "105"
            ]
          },
          "metadata": {
            "tags": []
          },
          "execution_count": 14
        }
      ]
    },
    {
      "cell_type": "code",
      "metadata": {
        "id": "-iPWe09iBpi9",
        "colab_type": "code",
        "colab": {}
      },
      "source": [
        "l_spanish_char = []\n",
        "for review in df_es[\"review\"]:\n",
        "  count = 0\n",
        "  for i in  review:\n",
        "    if i==unknown_char:\n",
        "      count+=1\n",
        "  l_spanish_char.append(count)"
      ],
      "execution_count": 0,
      "outputs": []
    },
    {
      "cell_type": "code",
      "metadata": {
        "id": "LGFmB1flzpUB",
        "colab_type": "code",
        "colab": {}
      },
      "source": [
        "table = collections.defaultdict(lambda: None)\n",
        "table.update({\n",
        "    ord('á'):'Ã¡',\n",
        "    ord('é'):'Ã©',\n",
        "    ord('í'):'Ãa',\n",
        "    ord('ó'):'Ã³',\n",
        "    ord('ú'):'Ãº',\n",
        "    ord('ü'):'Ã¼Ãs',\n",
        "    ord('ñ'):'e',\n",
        "    ord('ô'):'Ã±',\n",
        "    ord('ế'):'áº¿',\n",
        "    ord(' '):' '\n",
        "    })\n",
        "table.update(dict(zip(map(ord,string.ascii_uppercase), string.ascii_lowercase)))\n",
        "table.update(dict(zip(map(ord,string.ascii_lowercase), string.ascii_lowercase)))\n",
        "table.update(dict(zip(map(ord,string.digits), string.digits)))\n",
        "\n",
        "convert_char = lambda x: x.translate(table,)"
      ],
      "execution_count": 0,
      "outputs": []
    },
    {
      "cell_type": "code",
      "metadata": {
        "id": "hLWCLHJ16o8W",
        "colab_type": "code",
        "outputId": "e8f722de-c447-4207-b2ef-361ccc8f4463",
        "colab": {
          "base_uri": "https://localhost:8080/",
          "height": 54
        }
      },
      "source": [
        "print('are están also también you tú had tenía score puntuación years años football fútbol linguistic lingüístico film película'.translate(table,))"
      ],
      "execution_count": 0,
      "outputs": [
        {
          "output_type": "stream",
          "text": [
            "are estÃ¡n also tambiÃ©n you tÃº had tenÃaa score puntuaciÃ³n years aeos football fÃºtbol linguistic lingÃ¼ÃsÃastico film pelÃacula\n"
          ],
          "name": "stdout"
        }
      ]
    },
    {
      "cell_type": "code",
      "metadata": {
        "id": "ADYGjGLL2ESk",
        "colab_type": "code",
        "outputId": "673e9fe7-0908-4a6c-dc58-2aa245300b97",
        "colab": {
          "base_uri": "https://localhost:8080/",
          "height": 54
        }
      },
      "source": [
        "df_es.review[0]"
      ],
      "execution_count": 0,
      "outputs": [
        {
          "output_type": "execute_result",
          "data": {
            "text/plain": [
              "'Malilla, torpona, facilona, simple, vac�a y otra serie de adjetivos que nunca son de halago, pero que        podr�an ser m�s corrosivos.    Al entrar al cine s�lo cabe una pregunta: �ser� tan mala como parece? Y al salir s�lo una respuesta: pudo ser        peor. �Ojo! Esto no quiere decir, ni mucho menos, que sea buena. Ni siquiera es mediocre. Pero se queda en        malilla, torpona, facilona, simple, vac�a y otra serie de adjetivos que nunca son de halago, pero que podr�an        ser m�s corrosivos.Del argumento no hace falta ni hablar. Cuatro treinta�eros buscan su lugar en el mundo, y        todo gira, l�gicamente, en torno a las mujeres. Que si yo quiero casarme, que si a m� me han dejado, que si yo        no me como un rosco, que si yo soy un lig�n pero no encuentro el amor. en fin, cuatro situaciones m�s vistas que        el tebeo, que se mezclan sin gracia ni arte y que s�lo de vez en cuando son capaces de ofrecer alguna situaci�n        c�mica merecedora de una sonrisa.Caf� solo o con ellas ser� otra de esas pel�culas que en dos d�as pasan al        olvido. Aprovechando la fama de un par de actores de televisi�n y el tir�n del formato \"comedia rom�ntica �o�a,        pero graciosa, pero no tan graciosa ni tan �o�a\" se lanzan al cine con la esperanza de que los cuatro        adolescentes aburridos y las cuatro parejas despistadas que pululan por las multisalas se traguen este engendro.        Es mala sin reparos, pero no mata de aburrimiento. Si no tienes nada mejor que hacer y alguien te paga la        entrada, puede que hasta agradezcas alguna de las cuatro gilipolleces que hacen re�r en toda la pel�cula. De        hecho, si no buscaran descaradamente las situaciones f�ciles, supuestamente emotivas o dulces, hasta habr�a        tenido alg�n inter�s. Y tambi�n habr�a que cambiar a la mayor�a de los actores, de los que s�lo salvo al        regordete. Y tambi�n la banda sonora, con �xitos de los 40 metidos para rellenar o para que te pongas trist�n        sin venir a cuento. Bueno, pens�ndolo bien, sobran tantas cosas que habr�a que hacer otra pel�cula para que        tuviera inter�s.    '"
            ]
          },
          "metadata": {
            "tags": []
          },
          "execution_count": 18
        }
      ]
    },
    {
      "cell_type": "code",
      "metadata": {
        "id": "QmCCnUcT6vIu",
        "colab_type": "code",
        "outputId": "ec63f584-57bc-4c86-d5e0-b86fc644c54d",
        "colab": {
          "base_uri": "https://localhost:8080/",
          "height": 54
        }
      },
      "source": [
        "df_es.review[0].translate(table,)"
      ],
      "execution_count": 0,
      "outputs": [
        {
          "output_type": "execute_result",
          "data": {
            "text/plain": [
              "'malilla torpona facilona simple vaca y otra serie de adjetivos que nunca son de halago pero que        podran ser ms corrosivos    al entrar al cine slo cabe una pregunta ser tan mala como parece y al salir slo una respuesta pudo ser        peor ojo esto no quiere decir ni mucho menos que sea buena ni siquiera es mediocre pero se queda en        malilla torpona facilona simple vaca y otra serie de adjetivos que nunca son de halago pero que podran        ser ms corrosivosdel argumento no hace falta ni hablar cuatro treintaeros buscan su lugar en el mundo y        todo gira lgicamente en torno a las mujeres que si yo quiero casarme que si a m me han dejado que si yo        no me como un rosco que si yo soy un lign pero no encuentro el amor en fin cuatro situaciones ms vistas que        el tebeo que se mezclan sin gracia ni arte y que slo de vez en cuando son capaces de ofrecer alguna situacin        cmica merecedora de una sonrisacaf solo o con ellas ser otra de esas pelculas que en dos das pasan al        olvido aprovechando la fama de un par de actores de televisin y el tirn del formato comedia romntica oa        pero graciosa pero no tan graciosa ni tan oa se lanzan al cine con la esperanza de que los cuatro        adolescentes aburridos y las cuatro parejas despistadas que pululan por las multisalas se traguen este engendro        es mala sin reparos pero no mata de aburrimiento si no tienes nada mejor que hacer y alguien te paga la        entrada puede que hasta agradezcas alguna de las cuatro gilipolleces que hacen rer en toda la pelcula de        hecho si no buscaran descaradamente las situaciones fciles supuestamente emotivas o dulces hasta habra        tenido algn inters y tambin habra que cambiar a la mayora de los actores de los que slo salvo al        regordete y tambin la banda sonora con xitos de los 40 metidos para rellenar o para que te pongas tristn        sin venir a cuento bueno pensndolo bien sobran tantas cosas que habra que hacer otra pelcula para que        tuviera inters    '"
            ]
          },
          "metadata": {
            "tags": []
          },
          "execution_count": 19
        }
      ]
    },
    {
      "cell_type": "code",
      "metadata": {
        "id": "0m47DxBU0m64",
        "colab_type": "code",
        "outputId": "43679ab2-f8c7-49ad-e7ea-302d08b1273f",
        "colab": {
          "base_uri": "https://localhost:8080/",
          "height": 54
        }
      },
      "source": [
        "df_es['review'] = df_es['review'].apply(convert_char)\n",
        "df_es.review[0]"
      ],
      "execution_count": 0,
      "outputs": [
        {
          "output_type": "execute_result",
          "data": {
            "text/plain": [
              "'malilla torpona facilona simple vaca y otra serie de adjetivos que nunca son de halago pero que        podran ser ms corrosivos    al entrar al cine slo cabe una pregunta ser tan mala como parece y al salir slo una respuesta pudo ser        peor ojo esto no quiere decir ni mucho menos que sea buena ni siquiera es mediocre pero se queda en        malilla torpona facilona simple vaca y otra serie de adjetivos que nunca son de halago pero que podran        ser ms corrosivosdel argumento no hace falta ni hablar cuatro treintaeros buscan su lugar en el mundo y        todo gira lgicamente en torno a las mujeres que si yo quiero casarme que si a m me han dejado que si yo        no me como un rosco que si yo soy un lign pero no encuentro el amor en fin cuatro situaciones ms vistas que        el tebeo que se mezclan sin gracia ni arte y que slo de vez en cuando son capaces de ofrecer alguna situacin        cmica merecedora de una sonrisacaf solo o con ellas ser otra de esas pelculas que en dos das pasan al        olvido aprovechando la fama de un par de actores de televisin y el tirn del formato comedia romntica oa        pero graciosa pero no tan graciosa ni tan oa se lanzan al cine con la esperanza de que los cuatro        adolescentes aburridos y las cuatro parejas despistadas que pululan por las multisalas se traguen este engendro        es mala sin reparos pero no mata de aburrimiento si no tienes nada mejor que hacer y alguien te paga la        entrada puede que hasta agradezcas alguna de las cuatro gilipolleces que hacen rer en toda la pelcula de        hecho si no buscaran descaradamente las situaciones fciles supuestamente emotivas o dulces hasta habra        tenido algn inters y tambin habra que cambiar a la mayora de los actores de los que slo salvo al        regordete y tambin la banda sonora con xitos de los 40 metidos para rellenar o para que te pongas tristn        sin venir a cuento bueno pensndolo bien sobran tantas cosas que habra que hacer otra pelcula para que        tuviera inters    '"
            ]
          },
          "metadata": {
            "tags": []
          },
          "execution_count": 20
        }
      ]
    },
    {
      "cell_type": "markdown",
      "metadata": {
        "id": "Qt2jKuoP9Bjq",
        "colab_type": "text"
      },
      "source": [
        "# Preprocessing"
      ]
    },
    {
      "cell_type": "markdown",
      "metadata": {
        "id": "6z0cWN0e4Dnh",
        "colab_type": "text"
      },
      "source": [
        "## Tokenize — Encode the words"
      ]
    },
    {
      "cell_type": "code",
      "metadata": {
        "id": "Lh1u5T4BnuPU",
        "colab_type": "code",
        "colab": {}
      },
      "source": [
        "def clean(sentence):\n",
        "  \n",
        "  # lowercase\n",
        "  sentence = sentence.lower()\n",
        "  \n",
        "  # punctuation\n",
        "  sentence = ''.join([c for c in sentence if c not in punctuation])\n",
        "\n",
        "  # tokenize\n",
        "  tokens = word_tokenize(sentence)\n",
        "  \n",
        "  return tokens"
      ],
      "execution_count": 0,
      "outputs": []
    },
    {
      "cell_type": "code",
      "metadata": {
        "id": "NPfSMqgK3gsH",
        "colab_type": "code",
        "colab": {}
      },
      "source": [
        "def clean_es(sentence):\n",
        "  \n",
        "  # lowercase\n",
        "  sentence = sentence.lower()\n",
        "  \n",
        "  # punctuation\n",
        "  sentence = ''.join([c.translate(table,) for c in sentence if c not in punctuation])\n",
        "  \n",
        "  # tokenize\n",
        "  tokens = word_tokenize(sentence)\n",
        "  \n",
        "  return tokens"
      ],
      "execution_count": 0,
      "outputs": []
    },
    {
      "cell_type": "code",
      "metadata": {
        "id": "fyr50BNtyug2",
        "colab_type": "code",
        "colab": {}
      },
      "source": [
        "def preprocessing(df):\n",
        "  \n",
        "  cleaned_rev = []\n",
        "  count = Counter()\n",
        "  for review in df[\"review\"]:\n",
        "#     print(review)\n",
        "    rev = clean(review)\n",
        "    cleaned_rev.append(rev)\n",
        "    count.update(rev)\n",
        "   \n",
        "  vocab_to_int = {w:i for i, (w,c) in enumerate(count.most_common())}\n",
        "  \n",
        "  vocab_to_word = {i:w for (w,i) in vocab_to_int.items()}\n",
        "    \n",
        "  return cleaned_rev, vocab_to_int, vocab_to_word"
      ],
      "execution_count": 0,
      "outputs": []
    },
    {
      "cell_type": "code",
      "metadata": {
        "id": "a2_eBHJn4SC-",
        "colab_type": "code",
        "colab": {}
      },
      "source": [
        "def preprocessing_es(df):\n",
        "  \n",
        "  cleaned_rev = []\n",
        "  count = Counter()\n",
        "  for review in df[\"review\"]:\n",
        "#     print(review)\n",
        "    rev = clean_es(review)\n",
        "    cleaned_rev.append(rev)\n",
        "    count.update(rev)\n",
        "   \n",
        "  vocab_to_int = {w:i for i, (w,c) in enumerate(count.most_common())}\n",
        "  \n",
        "  vocab_to_word = {i:w for (w,i) in vocab_to_int.items()}\n",
        "    \n",
        "  return cleaned_rev, vocab_to_int, vocab_to_word"
      ],
      "execution_count": 0,
      "outputs": []
    },
    {
      "cell_type": "code",
      "metadata": {
        "id": "0dutxJzE1EPH",
        "colab_type": "code",
        "colab": {}
      },
      "source": [
        "cleaned_rev, vocab_to_int, vocab_to_word = preprocessing(df)"
      ],
      "execution_count": 0,
      "outputs": []
    },
    {
      "cell_type": "code",
      "metadata": {
        "id": "yWr-z4Mh3Tpm",
        "colab_type": "code",
        "colab": {}
      },
      "source": [
        "es_cleaned_rev, es_vocab_to_int, es_vocab_to_word = preprocessing(df_es)"
      ],
      "execution_count": 0,
      "outputs": []
    },
    {
      "cell_type": "code",
      "metadata": {
        "id": "8-dERsJc3IPA",
        "colab_type": "code",
        "outputId": "b2fb86fd-43c6-42f9-ae62-ca912c919b9c",
        "colab": {
          "base_uri": "https://localhost:8080/",
          "height": 34
        }
      },
      "source": [
        "list(es_vocab_to_int.items())[:3]"
      ],
      "execution_count": 0,
      "outputs": [
        {
          "output_type": "execute_result",
          "data": {
            "text/plain": [
              "[('de', 0), ('que', 1), ('la', 2)]"
            ]
          },
          "metadata": {
            "tags": []
          },
          "execution_count": 27
        }
      ]
    },
    {
      "cell_type": "markdown",
      "metadata": {
        "id": "knW4P3pZ9WjL",
        "colab_type": "text"
      },
      "source": [
        "# Embeddings"
      ]
    },
    {
      "cell_type": "markdown",
      "metadata": {
        "id": "TfWEJHef9fdU",
        "colab_type": "text"
      },
      "source": [
        "## load"
      ]
    },
    {
      "cell_type": "code",
      "metadata": {
        "id": "GYMaH39w9WDx",
        "colab_type": "code",
        "colab": {}
      },
      "source": [
        "def load_vec(emb_path, nmax):\n",
        "    '''\n",
        "    INPUT:\n",
        "    emb_path: path of the txt file where the word embeddings are\n",
        "    nmax: maxium number of word embeddings you want to load (I guess that\n",
        "    the words are ordered from more frequent to least frequent)\n",
        "    \n",
        "    OUTPUT:\n",
        "    embedings: array of dimensions words(nmax) x embedding dimensions (300)\n",
        "    id2word: dictionary id (keys) word(values)\n",
        "    word2id: dictionary word (keys) id(values)\n",
        "    '''\n",
        "    vectors = []\n",
        "    word2id = {}\n",
        "    with io.open(emb_path, 'r', encoding='utf-8', newline='\\n', errors='ignore') as f:\n",
        "        next(f)\n",
        "        for i, line in enumerate(f):\n",
        "            word, vect = line.rstrip().split(' ', 1)\n",
        "            vect = np.fromstring(vect, sep=' ')\n",
        "            assert word not in word2id, 'word found twice'\n",
        "            vectors.append(vect)\n",
        "            word2id[word] = len(word2id)\n",
        "            if len(word2id) == nmax:\n",
        "                break\n",
        "    id2word = {v: k for k, v in word2id.items()}\n",
        "    embeddings = np.vstack(vectors)\n",
        "    return embeddings, id2word, word2id"
      ],
      "execution_count": 0,
      "outputs": []
    },
    {
      "cell_type": "code",
      "metadata": {
        "id": "bZ_181xE9hkf",
        "colab_type": "code",
        "colab": {}
      },
      "source": [
        "nmax = 50000\n",
        "src_embeddings, src_id2word, src_word2id = load_vec(PATH_MUSE_EN, nmax)\n",
        "tgt_embeddings, tgt_id2word, tgt_word2id = load_vec(PATH_MUSE_ES, nmax)"
      ],
      "execution_count": 0,
      "outputs": []
    },
    {
      "cell_type": "code",
      "metadata": {
        "id": "pFiBv5fg9i-w",
        "colab_type": "code",
        "outputId": "4061c121-430b-4ff7-b67c-8b2dbed448f7",
        "colab": {
          "base_uri": "https://localhost:8080/",
          "height": 51
        }
      },
      "source": [
        "print(\"muse eng dim : \", src_embeddings.shape)\n",
        "print(\"muse es dim : \", tgt_embeddings.shape)"
      ],
      "execution_count": 0,
      "outputs": [
        {
          "output_type": "stream",
          "text": [
            "muse eng dim :  (50000, 300)\n",
            "muse es dim :  (50000, 300)\n"
          ],
          "name": "stdout"
        }
      ]
    },
    {
      "cell_type": "markdown",
      "metadata": {
        "id": "VSwcPTcI9zfk",
        "colab_type": "text"
      },
      "source": [
        "## Update Embeddings Indexing"
      ]
    },
    {
      "cell_type": "code",
      "metadata": {
        "id": "-54TlKXHI66u",
        "colab_type": "code",
        "outputId": "db2941a4-4612-444c-8684-896addcc328c",
        "colab": {
          "base_uri": "https://localhost:8080/",
          "height": 34
        }
      },
      "source": [
        "list_src = list(src_word2id.keys())\n",
        "list_imdb = list(vocab_to_int.keys())\n",
        "list_common = []\n",
        "c=0\n",
        "for word in list_imdb:\n",
        "  if word in list_src:\n",
        "    list_common.append(word)\n",
        "  else :\n",
        "    c += 1\n",
        "print(\"missing : {}%\".format((c/len(list_imdb)*100)))"
      ],
      "execution_count": 0,
      "outputs": [
        {
          "output_type": "stream",
          "text": [
            "missing : 80.29778507877357%\n"
          ],
          "name": "stdout"
        }
      ]
    },
    {
      "cell_type": "code",
      "metadata": {
        "id": "8uGqLBEPrIwt",
        "colab_type": "code",
        "colab": {}
      },
      "source": [
        ""
      ],
      "execution_count": 0,
      "outputs": []
    },
    {
      "cell_type": "code",
      "metadata": {
        "id": "o9U_ja_-Kp2Y",
        "colab_type": "code",
        "outputId": "f4517624-841e-4098-9190-b6c2446056a4",
        "colab": {
          "base_uri": "https://localhost:8080/",
          "height": 68
        }
      },
      "source": [
        "print(len(list_common))\n",
        "print(list(src_word2id.keys())[:5])\n",
        "print(list_common[:5])"
      ],
      "execution_count": 0,
      "outputs": [
        {
          "output_type": "stream",
          "text": [
            "35741\n",
            "[',', '.', 'the', '</s>', 'of']\n",
            "['the', 'and', 'a', 'of', 'to']\n"
          ],
          "name": "stdout"
        }
      ]
    },
    {
      "cell_type": "code",
      "metadata": {
        "id": "yHxieTk9K-s4",
        "colab_type": "code",
        "colab": {}
      },
      "source": [
        "voc_to_id = {w:i for i,w in enumerate(list_common)}\n",
        "voc_to_word = {i:w for i,w in enumerate(list_common)}"
      ],
      "execution_count": 0,
      "outputs": []
    },
    {
      "cell_type": "code",
      "metadata": {
        "id": "rF7lDmzPllRg",
        "colab_type": "code",
        "outputId": "e35d089f-b12a-42c3-e724-c74f498b2334",
        "colab": {
          "base_uri": "https://localhost:8080/",
          "height": 51
        }
      },
      "source": [
        "es_voc_to_id = load_obj(\"es_voc_to_id\" )\n",
        "voc_to_id = load_obj(\"en_voc_to_id\" )\n",
        "print(len(es_voc_to_id))\n",
        "len(voc_to_id)"
      ],
      "execution_count": 0,
      "outputs": [
        {
          "output_type": "stream",
          "text": [
            "20385\n"
          ],
          "name": "stdout"
        },
        {
          "output_type": "execute_result",
          "data": {
            "text/plain": [
              "35741"
            ]
          },
          "metadata": {
            "tags": []
          },
          "execution_count": 34
        }
      ]
    },
    {
      "cell_type": "code",
      "metadata": {
        "id": "kjaJeVz2seWk",
        "colab_type": "code",
        "outputId": "19a0fcfb-0b5e-4b88-ea06-36c782a3474f",
        "colab": {
          "base_uri": "https://localhost:8080/",
          "height": 51
        }
      },
      "source": [
        "print((35741/50000)*100)\n",
        "print((20385/50000)*100)"
      ],
      "execution_count": 0,
      "outputs": [
        {
          "output_type": "stream",
          "text": [
            "71.482\n",
            "40.77\n"
          ],
          "name": "stdout"
        }
      ]
    },
    {
      "cell_type": "code",
      "metadata": {
        "id": "GwXGY22hnXLW",
        "colab_type": "code",
        "colab": {}
      },
      "source": [
        "voc_to_word = {i:w for (w,i) in voc_to_id.items()}\n",
        "es_voc_to_word = {i:w for (w,i) in es_voc_to_id.items()}"
      ],
      "execution_count": 0,
      "outputs": []
    },
    {
      "cell_type": "code",
      "metadata": {
        "id": "XOMW3rIbLKFI",
        "colab_type": "code",
        "outputId": "cf11e83f-6258-40e0-950b-cd58f53fdc38",
        "colab": {
          "base_uri": "https://localhost:8080/",
          "height": 54
        }
      },
      "source": [
        "print(list(voc_to_id.items())[:10])"
      ],
      "execution_count": 0,
      "outputs": [
        {
          "output_type": "stream",
          "text": [
            "[('the', 0), ('and', 1), ('a', 2), ('of', 3), ('to', 4), ('is', 5), ('in', 6), ('it', 7), ('i', 8), ('this', 9)]\n"
          ],
          "name": "stdout"
        }
      ]
    },
    {
      "cell_type": "code",
      "metadata": {
        "id": "-NAyLKtYLNTr",
        "colab_type": "code",
        "outputId": "96b6c89a-a7d2-4597-944f-823760b7fbe3",
        "colab": {
          "base_uri": "https://localhost:8080/",
          "height": 54
        }
      },
      "source": [
        "print(list(vocab_to_int.items())[:10])"
      ],
      "execution_count": 0,
      "outputs": [
        {
          "output_type": "stream",
          "text": [
            "[('the', 0), ('and', 1), ('a', 2), ('of', 3), ('to', 4), ('is', 5), ('in', 6), ('it', 7), ('i', 8), ('this', 9)]\n"
          ],
          "name": "stdout"
        }
      ]
    },
    {
      "cell_type": "code",
      "metadata": {
        "id": "kO0eGBi0923q",
        "colab_type": "code",
        "outputId": "0a7e7df1-249e-4288-af07-256a95b2133d",
        "colab": {
          "base_uri": "https://localhost:8080/",
          "height": 51
        }
      },
      "source": [
        "voc_emb_id={}\n",
        "wordsno=[]\n",
        "for i, word in voc_to_word.items():\n",
        "    try:\n",
        "        src_word2id[word]          \n",
        "        voc_emb_id[word] = i\n",
        "    except KeyError:\n",
        "        wordsno.append(word)\n",
        "        pass\n",
        "      \n",
        "print(len(voc_emb_id))\n",
        "      \n",
        "nb_words = 300\n",
        "ordered_emb = np.zeros((len(voc_to_id), nb_words))\n",
        "\n",
        "for word, index in voc_emb_id.items():\n",
        "    en_id = src_word2id[word]\n",
        "    ordered_emb[index] = src_embeddings[en_id][:nb_words]\n",
        "print(ordered_emb.shape)\n"
      ],
      "execution_count": 0,
      "outputs": [
        {
          "output_type": "stream",
          "text": [
            "35741\n",
            "(35741, 300)\n"
          ],
          "name": "stdout"
        }
      ]
    },
    {
      "cell_type": "code",
      "metadata": {
        "id": "Rn0sGtrFHpQY",
        "colab_type": "code",
        "outputId": "75a3bb04-d5c8-44e5-c373-80c45325bd0d",
        "colab": {
          "base_uri": "https://localhost:8080/",
          "height": 51
        }
      },
      "source": [
        "print((len(wordsno)/len(list(vocab_to_word.items())))*100)\n",
        "len(list(vocab_to_word.items()))-len(wordsno)"
      ],
      "execution_count": 0,
      "outputs": [
        {
          "output_type": "stream",
          "text": [
            "0.0\n"
          ],
          "name": "stdout"
        },
        {
          "output_type": "execute_result",
          "data": {
            "text/plain": [
              "181406"
            ]
          },
          "metadata": {
            "tags": []
          },
          "execution_count": 40
        }
      ]
    },
    {
      "cell_type": "code",
      "metadata": {
        "id": "sfqgLFwa-edo",
        "colab_type": "code",
        "outputId": "9a8eb19a-d3a4-4fc4-a472-e3e4eb7eae10",
        "colab": {
          "base_uri": "https://localhost:8080/",
          "height": 51
        }
      },
      "source": [
        "print(src_id2word[2])\n",
        "for i, emb in enumerate(ordered_emb):\n",
        "  if emb[0] == src_embeddings[2][0]:\n",
        "      print(vocab_to_word[i])"
      ],
      "execution_count": 0,
      "outputs": [
        {
          "output_type": "stream",
          "text": [
            "the\n",
            "the\n"
          ],
          "name": "stdout"
        }
      ]
    },
    {
      "cell_type": "code",
      "metadata": {
        "id": "jO0S-CiGC_pb",
        "colab_type": "code",
        "outputId": "811ff610-8089-43e2-ab01-4b0e0bc5b76e",
        "colab": {
          "base_uri": "https://localhost:8080/",
          "height": 34
        }
      },
      "source": [
        "ordered_emb.shape"
      ],
      "execution_count": 0,
      "outputs": [
        {
          "output_type": "execute_result",
          "data": {
            "text/plain": [
              "(35741, 300)"
            ]
          },
          "metadata": {
            "tags": []
          },
          "execution_count": 42
        }
      ]
    },
    {
      "cell_type": "markdown",
      "metadata": {
        "id": "3ZUbe7rL_3vH",
        "colab_type": "text"
      },
      "source": [
        "## Update spanish embeddings"
      ]
    },
    {
      "cell_type": "code",
      "metadata": {
        "id": "VpWbbuHiAeMr",
        "colab_type": "code",
        "colab": {}
      },
      "source": [
        "# print(len(list(es_vocab_to_int.items())))"
      ],
      "execution_count": 0,
      "outputs": []
    },
    {
      "cell_type": "code",
      "metadata": {
        "id": "umFktKec_7mb",
        "colab_type": "code",
        "colab": {}
      },
      "source": [
        "# print(es_vocab_to_int.keys())\n",
        "# print(es_vocab_to_int[\"historia\"])\n",
        "# print(tgt_word2id[\"historia\"])\n",
        "# emb_es_hist = tgt_embeddings[tgt_word2id[\"historia\"]]"
      ],
      "execution_count": 0,
      "outputs": []
    },
    {
      "cell_type": "code",
      "metadata": {
        "id": "pp7Cz0fmDYYg",
        "colab_type": "code",
        "colab": {}
      },
      "source": [
        "# list_w = ['historia', 'que', 'la', 'y']\n",
        "# list_emb = [tgt_embeddings[tgt_word2id[i]] for i in list_w]"
      ],
      "execution_count": 0,
      "outputs": []
    },
    {
      "cell_type": "code",
      "metadata": {
        "id": "Ctb5HhYcBqii",
        "colab_type": "code",
        "colab": {}
      },
      "source": [
        "# def get_nn(word, src_emb, src_id2word, tgt_emb, tgt_id2word, K=5):\n",
        "#     print(\"Nearest neighbors of \\\"%s\\\":\" % word)\n",
        "#     word2id = {v: k for k, v in src_id2word.items()}\n",
        "#     word_emb = src_emb[word2id[word]]\n",
        "#     scores = (tgt_emb / np.linalg.norm(tgt_emb, 2, 1)[:, None]).dot(word_emb / np.linalg.norm(word_emb))\n",
        "#     k_best = scores.argsort()[-K:][::-1]\n",
        "#     for i, idx in enumerate(k_best):\n",
        "#       print('%.4f - %s' % (scores[idx], tgt_id2word[idx]))\n",
        "# #       print(idx)"
      ],
      "execution_count": 0,
      "outputs": []
    },
    {
      "cell_type": "code",
      "metadata": {
        "id": "kazsIMxUNthI",
        "colab_type": "code",
        "colab": {}
      },
      "source": [
        "# def get_closest(word_emb, src_emb, tgt_emb):\n",
        "#     scores = (tgt_emb / np.linalg.norm(tgt_emb, 2, 1)[:, None]).dot(word_emb / np.linalg.norm(word_emb))\n",
        "#     k_best = scores.argsort()[-1:][::-1]\n",
        "#     return k_best[0]"
      ],
      "execution_count": 0,
      "outputs": []
    },
    {
      "cell_type": "code",
      "metadata": {
        "id": "_jWVdufVKmXr",
        "colab_type": "code",
        "colab": {}
      },
      "source": [
        "# nb_features = 300\n",
        "\n",
        "# en_emb_50 = np.zeros((len(src_embeddings), nb_features))\n",
        "# for i,emb in enumerate(src_embeddings):\n",
        "#   en_emb_50[i] = emb[:nb_features]\n",
        "  \n",
        "# es_emb_50 = np.zeros((len(tgt_embeddings), nb_features))\n",
        "# for i,emb in enumerate(tgt_embeddings):\n",
        "#   es_emb_50[i] = emb[:nb_features]\n",
        "  \n",
        "# ord_emb_50 = np.zeros((len(ordered_emb), nb_features))\n",
        "# for i,emb in enumerate(ordered_emb):\n",
        "#   ord_emb_50[i] = emb[:nb_features]"
      ],
      "execution_count": 0,
      "outputs": []
    },
    {
      "cell_type": "code",
      "metadata": {
        "id": "XF9-UsmANBP9",
        "colab_type": "code",
        "colab": {}
      },
      "source": [
        "\n",
        "# get_nn(\"historia\", en_emb_50, src_id2word, es_emb_50, tgt_id2word, K=1)"
      ],
      "execution_count": 0,
      "outputs": []
    },
    {
      "cell_type": "code",
      "metadata": {
        "id": "2ErvUvCeBkC9",
        "colab_type": "code",
        "colab": {}
      },
      "source": [
        "# for w in list_w:\n",
        "#   emb = tgt_embeddings[tgt_word2id[w]]\n",
        "# #   print(\"{} :\".format(w))#\n",
        "#   #closest_word(voc_emb_id, ordered_emb, vocab_to_word, emb)))\n",
        "#   get_nn(w, es_emb_50, tgt_id2word, ord_emb_50, voc_to_word, K=1)\n",
        "# #   print(get_closest(emb, tgt_embeddings, ordered_emb))"
      ],
      "execution_count": 0,
      "outputs": []
    },
    {
      "cell_type": "code",
      "metadata": {
        "id": "8vxL7Iug-32D",
        "colab_type": "code",
        "colab": {}
      },
      "source": [
        "# es_voc_to_id = {}\n",
        "# miss=[]\n",
        "# for i,word in enumerate(es_vocab_to_int.keys()):\n",
        "#   if not i%300:\n",
        "#     print(\"{}% : {}% missing\".format( (i/len(es_vocab_to_int.keys()))*100, ((len(miss)+1)/(i+1)*100)))\n",
        "#   try : \n",
        "#     emb = es_emb_50[tgt_word2id[word]]\n",
        "#     es_voc_to_id[word] = get_closest(emb,es_emb_50, ord_emb_50)\n",
        "#   except KeyError:\n",
        "#     miss.append(word)\n",
        "#     pass"
      ],
      "execution_count": 0,
      "outputs": []
    },
    {
      "cell_type": "code",
      "metadata": {
        "id": "fguvWIV0P-0H",
        "colab_type": "code",
        "colab": {}
      },
      "source": [
        "# save_obj(es_voc_to_id, \"es_voc_to_id_300\" )\n",
        "# save_obj(voc_to_id, \"en_voc_to_id_300\" )"
      ],
      "execution_count": 0,
      "outputs": []
    },
    {
      "cell_type": "code",
      "metadata": {
        "id": "5Bik6dXxAmnD",
        "colab_type": "code",
        "colab": {}
      },
      "source": [
        "# print(len(miss))"
      ],
      "execution_count": 0,
      "outputs": []
    },
    {
      "cell_type": "code",
      "metadata": {
        "id": "pBBHFS0HXW8_",
        "colab_type": "code",
        "colab": {}
      },
      "source": [
        "# es_vocab_to_id = load_obj(\"es_voc_to_id\" )\n",
        "# en_voc_to_id = load_obj(\"en_voc_to_id\" )\n",
        "# print(len(es_vocab_to_id))\n",
        "# len(en_voc_to_id)"
      ],
      "execution_count": 0,
      "outputs": []
    },
    {
      "cell_type": "code",
      "metadata": {
        "id": "P7T6qZOxY4WG",
        "colab_type": "code",
        "outputId": "a481755e-c5a6-4896-d55f-67ac93767d4e",
        "colab": {
          "base_uri": "https://localhost:8080/",
          "height": 54
        }
      },
      "source": [
        "es_reviews_int = []\n",
        "for review in es_cleaned_rev:\n",
        "    r = [es_voc_to_id[w] for w in review if w in es_voc_to_id.keys()]\n",
        "    es_reviews_int.append(r)\n",
        "print (es_reviews_int[0:3])"
      ],
      "execution_count": 0,
      "outputs": [
        {
          "output_type": "stream",
          "text": [
            "[[570, 6156, 1, 151, 211, 3, 14269, 10, 108, 22, 3, 17, 10, 25, 1486, 0, 2191, 0, 18, 1302, 2, 6369, 25, 175, 320, 13, 180, 1, 0, 740, 2, 3312, 1925, 25, 241, 828, 10, 1045, 469, 127, 1045, 71, 336, 10, 25, 48, 1045, 53, 5, 1488, 17, 61, 2659, 6, 570, 6156, 1, 151, 211, 3, 14269, 10, 108, 22, 3, 17, 10, 25, 1486, 3639, 1045, 156, 537, 1045, 1038, 666, 4298, 23, 272, 6, 0, 187, 1, 262, 24468, 6, 181, 4, 125, 365, 10, 42, 1744, 21, 10, 42, 4, 3837, 68, 73, 535, 10, 42, 1744, 1045, 68, 13, 2, 10, 42, 1744, 68, 2, 17, 1045, 2383, 0, 109, 6, 4982, 666, 1109, 1486, 2708, 10, 0, 10, 61, 6914, 17, 8264, 1045, 523, 1, 10, 3, 274, 6, 49, 22, 464, 3, 1395, 96, 3, 2, 60, 38, 14, 76, 25, 151, 3, 125, 10, 6, 106, 8755, 261, 0, 9344, 10761, 0, 1957, 3, 2, 1890, 3, 149, 3, 1, 0, 0, 2807, 212, 16356, 17, 1245, 17, 1045, 175, 1245, 1045, 175, 16356, 61, 594, 0, 18, 14, 0, 413, 3, 10, 125, 666, 1887, 1, 125, 666, 3555, 10, 31, 125, 61, 7, 5, 320, 17, 13394, 17, 1045, 1091, 3, 42, 1045, 21, 157, 115, 10, 93, 1, 282, 68, 953, 0, 6907, 57, 10, 345, 96, 3, 125, 666, 10, 156, 35401, 6, 415, 0, 3, 831, 42, 1045, 125, 1109, 1413, 38, 14485, 345, 1795, 1, 10, 640, 4, 0, 3, 125, 149, 3, 125, 10, 529, 0, 1, 0, 1110, 707, 14, 3, 125, 15, 2058, 38, 15, 10, 68, 17, 209, 4, 771, 48, 152, 3550, 3372, 176, 10, 10, 93, 151, 15, 10, 56], [2, 3112, 15, 10, 812, 3809, 61, 3, 5929, 4, 450, 2783, 125, 106, 86, 492, 3, 61, 146, 3, 1131, 450, 21, 127, 10, 2783, 0, 857, 1, 31, 146, 1486, 3, 10, 161, 10, 61, 1045, 469, 127, 10, 25, 831, 1045, 61, 5, 3, 2, 18, 15, 513, 71, 1468, 3, 2, 3112, 15, 10, 812, 3809, 61, 3, 5929, 4, 4982, 13, 0, 758, 780, 1447, 0, 25720, 1045, 0, 11136, 15864, 1898, 1468, 1092, 1131, 5606, 127, 10, 6, 0, 86, 1131, 156, 1153, 2, 13, 920, 82, 0, 279, 3, 0, 211, 679, 2, 3, 52, 2434, 250, 10, 0, 0, 517, 1205, 17300, 56, 25, 2, 9722, 0, 8264, 3, 0, 211, 12, 0, 162, 6, 715, 1, 0, 5148, 4, 7718, 3, 14054, 196, 61, 234, 3, 3612, 17, 6, 0, 10, 61, 503, 1, 812, 2659, 161, 571, 19864, 1513, 15, 418, 2160, 1, 418, 68, 15464, 125, 2557, 13051, 11903, 111, 5556, 1, 12437, 18531, 13, 1624, 5562, 3, 159, 1298, 2763, 5, 52, 31, 831, 0, 1987, 57, 1412, 3304, 1419, 3, 2, 1334, 3, 10188, 1, 108, 2690, 1045, 139, 32741, 17, 980, 27, 13, 512, 1959, 0, 466, 1, 61, 4480, 125, 884, 15, 564, 20005, 0, 0, 146, 5165, 969, 25913, 2876, 35, 34276, 2, 861, 13, 115, 291, 6, 9292, 13, 0, 1028, 15, 125, 1486, 708, 151, 894, 3, 0, 57, 25, 0, 3, 3174, 13, 151, 1447, 0, 25720], [2, 0, 18, 10, 43, 5048, 3372, 2160, 1, 10, 208, 14, 5, 1658, 2, 48, 0, 1, 4, 0, 17, 27148, 6940, 3, 0, 389, 1486, 10, 43, 586, 0, 1261, 1321, 27346, 4, 220, 3, 5995, 6, 4209, 2282, 4312, 0, 6003, 3, 1, 7197, 17, 6, 2550, 0, 3849, 0, 2548, 20881, 61, 4, 10078, 0, 0, 4299, 11127, 21563, 4, 2, 14398, 10, 1045, 4, 23, 1924, 4312, 4, 0, 10949, 3, 306, 297, 31, 0, 3561, 125, 1547, 1547, 3, 1045, 65, 7375, 4, 26424, 1045, 2, 386, 1486, 3, 761, 0, 3, 6940, 3, 1412, 0, 86, 2046, 41, 11934, 277, 8755, 1486, 298, 151, 14482, 10, 156, 6, 16848, 6, 119, 89, 0, 187, 345, 111, 57, 1956, 0, 385, 1, 61, 5, 0, 1751, 3, 10, 2763, 56, 5348, 31, 125, 682, 15, 202, 1, 4991, 5, 2, 48, 7718, 3, 2, 0, 171, 23223, 4088, 4, 0, 6255, 281, 0, 478, 3, 2, 1555, 6, 31164, 1103, 3304, 31, 0, 17409, 3, 17528, 2664, 0, 3860, 8054, 31, 119, 89, 1045, 61, 10, 3, 10, 125, 3704, 65, 31091, 3, 125, 4187, 31, 30, 125, 34975, 3847, 53, 1428, 2, 2863, 2664, 14, 2, 1751, 8265, 6255, 0, 765, 31, 0, 5654, 385, 29939, 11874, 25495, 262, 10, 10, 61, 87, 1299, 31, 493, 132, 125, 2736, 385, 0, 18, 61, 12355, 0, 258, 3, 1486, 2, 169, 0, 15535, 768, 61, 6584, 4, 0, 3, 0, 6387, 10, 12355, 1486, 8077, 15, 0, 1810, 23, 1936, 4, 3670, 61, 0, 348, 0, 14373, 10, 1045, 1022, 0, 797, 3, 2077, 0, 4756, 1670, 53, 23, 558, 1579, 2053, 329, 0, 2087, 768, 4995, 3, 2, 164, 2913, 724, 3, 0, 18, 5, 730, 0, 768, 43, 1894, 0, 3, 968, 2, 5884, 10, 4, 3, 2, 1591, 397, 6, 0, 10, 61, 87, 22015, 0, 0, 968, 5, 464, 3, 2077, 14, 415, 118, 6, 0, 6519, 30576, 111, 61, 4, 445, 3, 0, 3, 63, 328, 0, 869, 61, 3019, 6, 12451, 4, 12560, 0, 14482, 428, 4991, 25416, 400, 428, 0, 372, 10876, 31, 0, 1555, 23, 445, 31, 24, 1894, 2, 2913, 3, 2375, 10, 6, 892, 3, 125, 331, 191, 2416, 4, 10, 261, 4, 3371, 415, 1974, 3, 63, 2155, 1, 6, 32140, 4, 1579, 14, 0, 25714, 3, 831, 0, 61, 3, 2, 490, 428, 0, 6369, 3, 42, 125, 10, 1894, 0, 2664, 38, 1045, 4189, 6, 125, 3, 11934, 1, 16848, 61, 262, 130, 5, 1747, 3, 63, 1329, 1, 208, 191, 0, 3, 11127, 42, 87, 261, 0, 118, 6, 2644, 5, 0, 3, 6367, 4, 2613, 5472, 1, 31, 169, 3, 4991, 6, 2, 12322, 3, 6174, 6, 0, 10, 2972, 1004, 3, 0, 3296, 2152, 31, 0, 3595, 306, 187, 0, 524, 17747, 125, 19903, 0, 1791, 1, 0, 3, 125, 19903, 10, 28945, 185, 1550, 4, 0, 281, 14, 2, 307, 7435, 6, 129, 4, 16478, 53, 230, 0, 220, 3, 639, 1778, 1, 14, 8318, 284, 299, 1986, 15, 0, 12322, 0, 1338, 3, 29287, 1, 1768, 3, 3038, 10, 5, 125, 133, 3, 1045, 22, 10, 6, 157, 4, 125, 10, 527, 3467, 6, 248, 4620, 1702, 5, 4831, 684, 6, 0, 10, 4991, 6850, 2, 6059, 230, 0, 10, 418, 10904, 626, 4695, 4, 7481, 10, 0, 22013, 61, 2517, 27, 3, 92, 10374, 6, 422, 10, 10, 27346, 10601, 0, 765, 61, 4210, 887, 70, 1045, 70, 5, 475, 243, 274, 27346, 1486, 750, 70, 4, 1596, 27346, 0, 6059, 7, 5, 0, 4982, 4, 262, 0, 187, 5, 2, 2781, 7916, 0, 5349, 2172, 4, 445, 3, 10, 6, 61, 0, 61, 31, 2, 570, 5559, 1, 0, 646, 27346, 3780, 31, 76, 2557, 1495, 3, 0, 12322, 5, 2012, 13, 4, 445, 3, 0, 4, 125, 1033, 4, 10, 199, 0, 850, 57, 6827, 0, 552, 2280, 1854, 6, 0, 3, 0, 6174, 450, 25, 6, 0, 13020, 3, 125, 100, 6, 125, 10, 1033, 38, 2376, 6, 0, 1371, 3, 93, 18, 10, 7542, 23, 10734, 6, 63, 2124, 6323, 4991, 5, 450, 2, 0, 18, 10, 43, 5048, 3372, 2160, 4, 243, 61, 1486, 1, 10, 208, 14, 5, 1658, 2, 48, 0, 1, 4, 0, 17, 27148, 4, 12929, 3, 4037, 1486, 26237, 3, 125, 10845, 3, 2042, 2367, 2, 2322]]\n"
          ],
          "name": "stdout"
        }
      ]
    },
    {
      "cell_type": "code",
      "metadata": {
        "id": "AiJFkN7UZyru",
        "colab_type": "code",
        "colab": {}
      },
      "source": [
        "es_labels = []\n",
        "for label in df_es[\"label\"]:\n",
        "    es_labels.append(label)"
      ],
      "execution_count": 0,
      "outputs": []
    },
    {
      "cell_type": "markdown",
      "metadata": {
        "id": "_pegdB5vBvZP",
        "colab_type": "text"
      },
      "source": [
        "# Indexing English dataset"
      ]
    },
    {
      "cell_type": "code",
      "metadata": {
        "id": "jeBqcmVEB3mM",
        "colab_type": "code",
        "colab": {}
      },
      "source": [
        "vocab_to_int = voc_to_id\n",
        "vocab_to_word = voc_to_word"
      ],
      "execution_count": 0,
      "outputs": []
    },
    {
      "cell_type": "code",
      "metadata": {
        "id": "7LZQC_oPCPke",
        "colab_type": "code",
        "outputId": "72e40430-36dd-4d67-d011-1769b22256a8",
        "colab": {
          "base_uri": "https://localhost:8080/",
          "height": 54
        }
      },
      "source": [
        "reviews_int = []\n",
        "for i,review in enumerate(cleaned_rev):\n",
        "    r = [vocab_to_int[w] for w in review  if w in vocab_to_int.keys()]\n",
        "    reviews_int.append(r)\n",
        "print (reviews_int[0:3])"
      ],
      "execution_count": 0,
      "outputs": [
        {
          "output_type": "stream",
          "text": [
            "[[8, 193, 9, 16, 67, 397, 54, 1438, 8, 378, 84, 56, 21, 229, 42, 121, 5377, 302, 21, 19, 121, 1991, 264, 15, 121, 2891, 8, 56, 25, 13411, 28, 8153, 13, 2, 212, 17, 8, 148, 158, 7, 154, 29, 30, 8, 193, 7, 39, 632, 246, 668, 913, 1, 515, 92, 8, 1745, 109, 2081, 9490, 90, 17, 9, 5, 32, 1432, 1589, 934, 407, 6, 151, 11994, 117, 61, 274, 172, 1542, 10, 795, 1, 518, 5178, 22, 20, 3289, 6, 893, 7, 67, 2, 562, 537, 3, 1220, 1, 8, 6986, 90, 37, 9, 8, 368, 10, 83, 75, 4403, 9, 16, 1, 28, 5178, 82, 7, 5, 39, 2, 16, 17, 8, 124, 848, 31, 52, 938, 10, 9, 81, 4494, 25, 1476, 19, 281, 140, 20, 255, 4, 127, 10, 42, 21, 485, 9, 16, 21, 22, 2, 81, 394, 13, 295, 5, 5054, 4, 63, 197, 649, 1, 492, 3, 9, 16, 65, 716, 140, 39, 593, 10, 6, 143, 118, 83, 110, 37, 0, 100, 6, 9, 18, 65, 388, 5, 7798], [9, 16, 12, 372, 8, 193, 14, 30, 0, 45, 47, 518, 149, 7, 56, 25, 122, 88, 430, 121, 59, 3879, 2488, 12, 374, 58, 138, 1204, 4, 1718, 10263, 808, 10531, 5, 1485, 2, 927, 291, 0, 955, 26, 91, 6, 0, 16, 8, 95, 108, 25, 121, 253, 12, 0, 8375, 3, 47, 140, 593, 1, 2286, 3626, 58, 12, 998, 17, 382, 6, 338, 3, 45, 50, 110, 2875, 102, 39, 37, 2030, 14, 8376, 12, 2, 4175, 122, 38, 96, 76, 1306, 16, 21, 75, 25, 6091, 4, 20, 24, 970, 121, 3215, 59, 2994, 8, 109, 21, 5, 79, 2, 48, 34, 633, 0, 2584, 875, 59, 4, 360, 144, 90, 1404, 126, 44, 3, 1, 1573, 4, 0, 83, 35, 24, 450, 104, 7], [399, 6987, 3386, 4340, 2, 1626, 26, 285, 50, 37, 32, 4646, 1, 2, 113, 14667, 4, 93, 27, 3, 0, 94, 3, 30, 59, 21, 229, 735, 15, 0, 179, 13, 33, 337, 4, 11522, 212, 34, 2, 3741, 1, 5196, 228, 763]]\n"
          ],
          "name": "stdout"
        }
      ]
    },
    {
      "cell_type": "code",
      "metadata": {
        "id": "I0avIVXICdFo",
        "colab_type": "code",
        "colab": {}
      },
      "source": [
        "labels = []\n",
        "for label in df[\"label\"]:\n",
        "    labels.append(label)"
      ],
      "execution_count": 0,
      "outputs": []
    },
    {
      "cell_type": "markdown",
      "metadata": {
        "id": "psaQxwdLCyqa",
        "colab_type": "text"
      },
      "source": [
        "## Analyzing length"
      ]
    },
    {
      "cell_type": "code",
      "metadata": {
        "id": "6X5CDCmWC1C1",
        "colab_type": "code",
        "outputId": "dd949cae-a40d-4829-8c4f-7517fb160fd8",
        "colab": {
          "base_uri": "https://localhost:8080/",
          "height": 422
        }
      },
      "source": [
        "reviews_len = [len(x) for x in reviews_int]\n",
        "pd.Series(reviews_len).hist()\n",
        "plt.show()\n",
        "pd.Series(reviews_len).describe()"
      ],
      "execution_count": 0,
      "outputs": [
        {
          "output_type": "display_data",
          "data": {
            "image/png": "[encoded data removed]",
            "text/plain": [
              "<Figure size 432x288 with 1 Axes>"
            ]
          },
          "metadata": {
            "tags": []
          }
        },
        {
          "output_type": "execute_result",
          "data": {
            "text/plain": [
              "count    50000.000000\n",
              "mean       218.277440\n",
              "std        161.551621\n",
              "min          2.000000\n",
              "25%        120.000000\n",
              "50%        164.000000\n",
              "75%        264.000000\n",
              "max       2342.000000\n",
              "dtype: float64"
            ]
          },
          "metadata": {
            "tags": []
          },
          "execution_count": 60
        }
      ]
    },
    {
      "cell_type": "code",
      "metadata": {
        "id": "UZweMM5xazOt",
        "colab_type": "code",
        "outputId": "d12c1f66-57d4-4076-b15d-1e9d9ab96983",
        "colab": {
          "base_uri": "https://localhost:8080/",
          "height": 422
        }
      },
      "source": [
        "es_reviews_len = [len(x) for x in es_reviews_int]\n",
        "pd.Series(es_reviews_len).hist()\n",
        "plt.show()\n",
        "pd.Series(es_reviews_len).describe()"
      ],
      "execution_count": 0,
      "outputs": [
        {
          "output_type": "display_data",
          "data": {
            "image/png": "[encoded data removed]",
            "text/plain": [
              "<Figure size 432x288 with 1 Axes>"
            ]
          },
          "metadata": {
            "tags": []
          }
        },
        {
          "output_type": "execute_result",
          "data": {
            "text/plain": [
              "count    2275.000000\n",
              "mean      437.807033\n",
              "std       258.009712\n",
              "min        21.000000\n",
              "25%       284.000000\n",
              "50%       376.000000\n",
              "75%       522.500000\n",
              "max      4082.000000\n",
              "dtype: float64"
            ]
          },
          "metadata": {
            "tags": []
          },
          "execution_count": 61
        }
      ]
    },
    {
      "cell_type": "markdown",
      "metadata": {
        "id": "L4SjUSnRDPQl",
        "colab_type": "text"
      },
      "source": [
        "## Outlier"
      ]
    },
    {
      "cell_type": "code",
      "metadata": {
        "id": "l2uhwMbtDR4K",
        "colab_type": "code",
        "colab": {}
      },
      "source": [
        "reviews_int = [ reviews_int[i] for i, l in enumerate(reviews_len) if l>0 ]\n",
        "labels = [ labels[i] for i, l in enumerate(reviews_len) if l> 0 ]\n",
        "\n",
        "es_reviews_int = [ es_reviews_int[i] for i, l in enumerate(es_reviews_len) if l>0 ]\n",
        "es_labels = [ es_labels[i] for i, l in enumerate(es_reviews_len) if l> 0 ]"
      ],
      "execution_count": 0,
      "outputs": []
    },
    {
      "cell_type": "markdown",
      "metadata": {
        "id": "K90NMUAHDUnE",
        "colab_type": "text"
      },
      "source": [
        "## Padding"
      ]
    },
    {
      "cell_type": "code",
      "metadata": {
        "id": "LxrrCUbSDWQm",
        "colab_type": "code",
        "colab": {}
      },
      "source": [
        "def pad_features(reviews_int, seq_length):\n",
        "    ''' Return features of review_ints, where each review is padded with 0's or truncated to the input seq_length.\n",
        "    '''\n",
        "    features = np.zeros((len(reviews_int), seq_length), dtype = int)\n",
        "    \n",
        "    index_trunc = []\n",
        "    \n",
        "    for i, review in enumerate(reviews_int):\n",
        "        review_len = len(review)\n",
        "        \n",
        "        if review_len <= seq_length:\n",
        "            zeroes = list(np.zeros(seq_length-review_len))\n",
        "            new = zeroes+review\n",
        "        elif review_len > seq_length:\n",
        "            new = review[0:seq_length]\n",
        "            index_trunc.append(i)\n",
        "        \n",
        "        features[i,:] = np.array(new)\n",
        "    \n",
        "    return features, index_trunc"
      ],
      "execution_count": 0,
      "outputs": []
    },
    {
      "cell_type": "code",
      "metadata": {
        "id": "6xhIvKw9DYAY",
        "colab_type": "code",
        "colab": {}
      },
      "source": [
        "len_feat = 300\n",
        "features, ind_trunc = pad_features(reviews_int, len_feat)\n",
        "es_features, es_ind_trunc = pad_features(es_reviews_int, len_feat)"
      ],
      "execution_count": 0,
      "outputs": []
    },
    {
      "cell_type": "code",
      "metadata": {
        "id": "dCQrqIg3xwDJ",
        "colab_type": "code",
        "outputId": "626c7cb3-06fa-4e18-dc16-43223c215271",
        "colab": {
          "base_uri": "https://localhost:8080/",
          "height": 34
        }
      },
      "source": [
        "len(es_ind_trunc)/len(es_reviews_int)"
      ],
      "execution_count": 0,
      "outputs": [
        {
          "output_type": "execute_result",
          "data": {
            "text/plain": [
              "0.6958241758241758"
            ]
          },
          "metadata": {
            "tags": []
          },
          "execution_count": 65
        }
      ]
    },
    {
      "cell_type": "code",
      "metadata": {
        "id": "3T7Y52OGDaFH",
        "colab_type": "code",
        "colab": {}
      },
      "source": [
        "feature_s = features.copy()\n",
        "labels_s = labels.copy()\n",
        "\n",
        "labels_a = np.array(labels)\n",
        "indices = np.arange(features.shape[0])\n",
        "np.random.shuffle(indices)\n",
        "\n",
        "features = features[indices]\n",
        "labels = labels_a[indices]"
      ],
      "execution_count": 0,
      "outputs": []
    },
    {
      "cell_type": "code",
      "metadata": {
        "id": "wLSGwlrofJc_",
        "colab_type": "code",
        "outputId": "bb1378b3-7628-400c-ce71-339a8327b6ae",
        "colab": {
          "base_uri": "https://localhost:8080/",
          "height": 136
        }
      },
      "source": [
        "features"
      ],
      "execution_count": 0,
      "outputs": [
        {
          "output_type": "execute_result",
          "data": {
            "text/plain": [
              "array([[   0,    0,    0, ...,   52,  328,  112],\n",
              "       [   0,    0,    0, ...,   71,  122, 2141],\n",
              "       [   0,    0,    0, ...,   11,   20, 1107],\n",
              "       ...,\n",
              "       [   0,    0,    0, ...,  664,   44,    3],\n",
              "       [   0,    0,    0, ...,  575,    0, 2004],\n",
              "       [   0,    0,    0, ...,   20,    2,   11]])"
            ]
          },
          "metadata": {
            "tags": []
          },
          "execution_count": 67
        }
      ]
    },
    {
      "cell_type": "code",
      "metadata": {
        "id": "eVHM-K3qZmae",
        "colab_type": "code",
        "outputId": "8e34c185-c593-41db-de81-a6b493adcc3f",
        "colab": {
          "base_uri": "https://localhost:8080/",
          "height": 34
        }
      },
      "source": [
        "labels"
      ],
      "execution_count": 0,
      "outputs": [
        {
          "output_type": "execute_result",
          "data": {
            "text/plain": [
              "array([1, 0, 0, ..., 0, 0, 0])"
            ]
          },
          "metadata": {
            "tags": []
          },
          "execution_count": 68
        }
      ]
    },
    {
      "cell_type": "code",
      "metadata": {
        "id": "P1TCpmZ8DbNL",
        "colab_type": "code",
        "colab": {}
      },
      "source": [
        "es_feature_s = es_features.copy()\n",
        "es_labels_s = es_labels.copy()\n",
        "\n",
        "es_labels_a = np.array(es_labels)\n",
        "es_indices = np.arange(es_features.shape[0])\n",
        "np.random.shuffle(es_indices)\n",
        "\n",
        "es_features = es_features[es_indices]\n",
        "es_labels = es_labels_a[es_indices]"
      ],
      "execution_count": 0,
      "outputs": []
    },
    {
      "cell_type": "code",
      "metadata": {
        "id": "DLP0sv6sDemJ",
        "colab_type": "code",
        "colab": {}
      },
      "source": [
        "split_frac = 0.8\n",
        "\n",
        "train_x = features[0:int(split_frac*len(features))]\n",
        "train_y = labels[0:int(split_frac*len(features))]\n",
        "\n",
        "remaining_x = features[int(split_frac*len(features)):]\n",
        "remaining_y = labels[int(split_frac*len(features)):]\n",
        "\n",
        "valid_x = remaining_x[0:int(len(remaining_x)*0.5)]\n",
        "valid_y = remaining_y[0:int(len(remaining_y)*0.5)]\n",
        "\n",
        "test_x = remaining_x[int(len(remaining_x)*0.5):]\n",
        "test_y = remaining_y[int(len(remaining_y)*0.5):]"
      ],
      "execution_count": 0,
      "outputs": []
    },
    {
      "cell_type": "code",
      "metadata": {
        "id": "EpcmKW3mGGjV",
        "colab_type": "code",
        "outputId": "dd703ef5-ead1-4efd-993f-3066c064bada",
        "colab": {
          "base_uri": "https://localhost:8080/",
          "height": 51
        }
      },
      "source": [
        "y = np.bincount(train_y)\n",
        "ii = np.nonzero(y)[0]\n",
        "np.vstack((ii,y[ii])).T"
      ],
      "execution_count": 0,
      "outputs": [
        {
          "output_type": "execute_result",
          "data": {
            "text/plain": [
              "array([[    0, 20001],\n",
              "       [    1, 19999]])"
            ]
          },
          "metadata": {
            "tags": []
          },
          "execution_count": 71
        }
      ]
    },
    {
      "cell_type": "code",
      "metadata": {
        "id": "gK67UaOqGlps",
        "colab_type": "code",
        "outputId": "5a0d5a89-a06e-4310-9b44-ee8348a3233b",
        "colab": {
          "base_uri": "https://localhost:8080/",
          "height": 51
        }
      },
      "source": [
        "y = np.bincount(valid_y)\n",
        "ii = np.nonzero(y)[0]\n",
        "np.vstack((ii,y[ii])).T"
      ],
      "execution_count": 0,
      "outputs": [
        {
          "output_type": "execute_result",
          "data": {
            "text/plain": [
              "array([[   0, 2518],\n",
              "       [   1, 2482]])"
            ]
          },
          "metadata": {
            "tags": []
          },
          "execution_count": 72
        }
      ]
    },
    {
      "cell_type": "code",
      "metadata": {
        "id": "MSs0jyrPGqpm",
        "colab_type": "code",
        "outputId": "3b1f5acb-77a1-4a7a-d1f2-a93783dad8f4",
        "colab": {
          "base_uri": "https://localhost:8080/",
          "height": 51
        }
      },
      "source": [
        "y = np.bincount(test_y)\n",
        "ii = np.nonzero(y)[0]\n",
        "np.vstack((ii,y[ii])).T"
      ],
      "execution_count": 0,
      "outputs": [
        {
          "output_type": "execute_result",
          "data": {
            "text/plain": [
              "array([[   0, 2481],\n",
              "       [   1, 2519]])"
            ]
          },
          "metadata": {
            "tags": []
          },
          "execution_count": 73
        }
      ]
    },
    {
      "cell_type": "markdown",
      "metadata": {
        "id": "MC0TR_XNDFN-",
        "colab_type": "text"
      },
      "source": [
        "# Model"
      ]
    },
    {
      "cell_type": "code",
      "metadata": {
        "id": "KeiY_ktBDHvx",
        "colab_type": "code",
        "outputId": "da576fdf-5ee4-41bc-ec34-1741e97bfaa3",
        "colab": {
          "base_uri": "https://localhost:8080/",
          "height": 377
        }
      },
      "source": [
        "# define model\n",
        "model = Sequential()\n",
        "e = Embedding(ordered_emb.shape[0], ordered_emb.shape[1], weights=[ordered_emb], input_length=len_feat, trainable=False)\n",
        "model.add(e)\n",
        "model.add(LSTM(50, dropout = 0.6))\n",
        "model.add(Dense(1, activation='sigmoid'))\n",
        "# compile the model\n",
        "model.compile(optimizer='adam', loss='binary_crossentropy', metrics=['acc'])\n",
        "# summarize the model\n",
        "print(model.summary())"
      ],
      "execution_count": 0,
      "outputs": [
        {
          "output_type": "stream",
          "text": [
            "WARNING:tensorflow:From /usr/local/lib/python3.6/dist-packages/tensorflow/python/framework/op_def_library.py:263: colocate_with (from tensorflow.python.framework.ops) is deprecated and will be removed in a future version.\n",
            "Instructions for updating:\n",
            "Colocations handled automatically by placer.\n",
            "WARNING:tensorflow:From /usr/local/lib/python3.6/dist-packages/keras/backend/tensorflow_backend.py:3445: calling dropout (from tensorflow.python.ops.nn_ops) with keep_prob is deprecated and will be removed in a future version.\n",
            "Instructions for updating:\n",
            "Please use `rate` instead of `keep_prob`. Rate should be set to `rate = 1 - keep_prob`.\n",
            "_________________________________________________________________\n",
            "Layer (type)                 Output Shape              Param #   \n",
            "=================================================================\n",
            "embedding_1 (Embedding)      (None, 300, 300)          10722300  \n",
            "_________________________________________________________________\n",
            "lstm_1 (LSTM)                (None, 50)                70200     \n",
            "_________________________________________________________________\n",
            "dense_1 (Dense)              (None, 1)                 51        \n",
            "=================================================================\n",
            "Total params: 10,792,551\n",
            "Trainable params: 70,251\n",
            "Non-trainable params: 10,722,300\n",
            "_________________________________________________________________\n",
            "None\n"
          ],
          "name": "stdout"
        }
      ]
    },
    {
      "cell_type": "code",
      "metadata": {
        "id": "81MV_ACEDOf5",
        "colab_type": "code",
        "colab": {}
      },
      "source": [
        "def plot(history, nb_epochs):\n",
        "    history_dict = history.history\n",
        "    loss_values = history_dict['loss']\n",
        "    val_loss_values = history_dict['val_loss']\n",
        "    first_epoch = 0\n",
        "    epochs = range(first_epoch + 1, nb_epochs + 1)\n",
        "\n",
        "    plt.plot(epochs, loss_values[first_epoch:], 'b', label='Training loss')\n",
        "    plt.plot(epochs, val_loss_values[first_epoch:], 'r', label='Validation loss')\n",
        "    plt.title(\"Loss\")\n",
        "    plt.xlabel('Epochs')\n",
        "    plt.ylabel('Loss')\n",
        "    plt.legend()\n",
        "    plt.show(block=False);\n",
        "\n",
        "    plt.clf()\n",
        "    acc_values = history_dict['acc']\n",
        "    val_acc_values = history_dict['val_acc']\n",
        "\n",
        "    plt.plot(epochs, acc_values[first_epoch:], 'b', label='Training Accuracy')\n",
        "    plt.plot(epochs, val_acc_values[first_epoch:], 'r', label='Validation Accuracy')\n",
        "    plt.title(\"Accuracy\")\n",
        "    plt.xlabel('Epochs')\n",
        "    plt.ylabel('Accuracy')\n",
        "    plt.legend()\n",
        "    plt.show(block=False);"
      ],
      "execution_count": 0,
      "outputs": []
    },
    {
      "cell_type": "code",
      "metadata": {
        "id": "r-X8TuXl6Qg-",
        "colab_type": "code",
        "colab": {}
      },
      "source": [
        "def stats(model, x_train, y_train):\n",
        "  y_predict = model.predict(x_train)\n",
        "  l_pred = [round(x[0]) for x in list(y_predict)]\n",
        "  tp = [i for i, val in enumerate(l_pred) if val == y_train[i] and val]\n",
        "  tn = [i for i, val in enumerate(l_pred) if val == y_train[i] and not val]\n",
        "  fp = [i for i, val in enumerate(l_pred) if val != y_train[i] and val]\n",
        "  fn = [i for i, val in enumerate(l_pred) if val != y_train[i] and not val]\n",
        "  TP, TN, FP, FN = len(tp), len(tn), len(fp), len(fn)\n",
        "  accuracy = (TP + TN)/(TP + TN + FP + FN)\n",
        "  F1_score = 2*TP / (2*TP + FP + FN + keras.backend.epsilon())\n",
        "  return tp,tn,fn,fp,accuracy, F1_score"
      ],
      "execution_count": 0,
      "outputs": []
    },
    {
      "cell_type": "code",
      "metadata": {
        "id": "E5qWI292DcYV",
        "colab_type": "code",
        "colab": {}
      },
      "source": [
        "nb_epochs = 10\n",
        "history = model.fit(train_x, train_y, batch_size = 32, epochs=nb_epochs, validation_data=(valid_x, valid_y), verbose=1)"
      ],
      "execution_count": 0,
      "outputs": []
    },
    {
      "cell_type": "code",
      "metadata": {
        "id": "NnnxpdJA7y3j",
        "colab_type": "code",
        "colab": {}
      },
      "source": [
        "# model.load_weights(PATH_DRIVE+\"model_e10_with_muse.h5\")"
      ],
      "execution_count": 0,
      "outputs": []
    },
    {
      "cell_type": "code",
      "metadata": {
        "id": "dubHP_TIDqmE",
        "colab_type": "code",
        "colab": {}
      },
      "source": [
        "plot(history, nb_epochs)"
      ],
      "execution_count": 0,
      "outputs": []
    },
    {
      "cell_type": "code",
      "metadata": {
        "id": "Jo8lT18IDr9x",
        "colab_type": "code",
        "outputId": "8c015f01-7283-44fc-e56c-d78589df7f88",
        "colab": {
          "base_uri": "https://localhost:8080/",
          "height": 51
        }
      },
      "source": [
        "loss, accuracy = model.evaluate(test_x, test_y, verbose=1)\n",
        "print('Accuracy: %f' % (accuracy*100))"
      ],
      "execution_count": 0,
      "outputs": [
        {
          "output_type": "stream",
          "text": [
            "5000/5000 [==============================] - 30s 6ms/step\n",
            "Accuracy: 87.060000\n"
          ],
          "name": "stdout"
        }
      ]
    },
    {
      "cell_type": "code",
      "metadata": {
        "id": "qbGftvjJt7MO",
        "colab_type": "code",
        "outputId": "ca94d885-b63d-40e0-d9e1-73a7392506fc",
        "colab": {
          "base_uri": "https://localhost:8080/",
          "height": 51
        }
      },
      "source": [
        "loss, accuracy = model.evaluate(es_features, es_labels, verbose=1)\n",
        "print('Accuracy: %f' % (accuracy*100))"
      ],
      "execution_count": 0,
      "outputs": [
        {
          "output_type": "stream",
          "text": [
            "2275/2275 [==============================] - 14s 6ms/step\n",
            "Accuracy: 72.967033\n"
          ],
          "name": "stdout"
        }
      ]
    },
    {
      "cell_type": "markdown",
      "metadata": {
        "id": "KJdLl4WxWzw8",
        "colab_type": "text"
      },
      "source": [
        "# Error_Analysis\n"
      ]
    },
    {
      "cell_type": "code",
      "metadata": {
        "id": "OwJ4tHq36T4a",
        "colab_type": "code",
        "outputId": "ac8b4f65-e30e-4be2-9b8f-d9ecd70243ca",
        "colab": {
          "base_uri": "https://localhost:8080/",
          "height": 51
        }
      },
      "source": [
        "tp,tn,fn,fp,accuracy, F1 = stats(model, test_x, test_y)\n",
        "print(accuracy)\n",
        "print(F1)"
      ],
      "execution_count": 0,
      "outputs": [
        {
          "output_type": "stream",
          "text": [
            "0.8706\n",
            "0.8702626829582863\n"
          ],
          "name": "stdout"
        }
      ]
    },
    {
      "cell_type": "code",
      "metadata": {
        "id": "su9ao42T7LWI",
        "colab_type": "code",
        "outputId": "c77f95f1-8093-4214-a3f8-dd3dad54c20a",
        "colab": {
          "base_uri": "https://localhost:8080/",
          "height": 51
        }
      },
      "source": [
        "tp,tn,fn,fp,accuracy, F1 = stats(model, es_features, es_labels)\n",
        "print(accuracy)\n",
        "print(F1)"
      ],
      "execution_count": 0,
      "outputs": [
        {
          "output_type": "stream",
          "text": [
            "0.7296703296703296\n",
            "0.7673098751128525\n"
          ],
          "name": "stdout"
        }
      ]
    },
    {
      "cell_type": "code",
      "metadata": {
        "id": "nHe65yRF239n",
        "colab_type": "code",
        "outputId": "5f442e75-6bf0-415d-c3b2-6ebf8009ef1f",
        "colab": {
          "base_uri": "https://localhost:8080/",
          "height": 85
        }
      },
      "source": [
        "print(len(tp))\n",
        "print(len(tn))\n",
        "print(len(fp))\n",
        "print(len(fn))"
      ],
      "execution_count": 0,
      "outputs": [
        {
          "output_type": "stream",
          "text": [
            "1014\n",
            "646\n",
            "484\n",
            "131\n"
          ],
          "name": "stdout"
        }
      ]
    },
    {
      "cell_type": "code",
      "metadata": {
        "id": "sVxb4fJoDrfj",
        "colab_type": "code",
        "outputId": "73493d27-7d06-47dd-a263-805fe4a47459",
        "colab": {
          "base_uri": "https://localhost:8080/",
          "height": 102
        }
      },
      "source": [
        "print(\"average number of unknown char by review\")\n",
        "avg_tn = 0\n",
        "for i in tn :\n",
        "  avg_tn += l_spanish_char[i]\n",
        "print(avg_tn/len(tn))\n",
        "avg_tp = 0\n",
        "for i in tp :\n",
        "  avg_tp += l_spanish_char[i]\n",
        "print(avg_tp/len(tp))\n",
        "avg_fp = 0\n",
        "for i in fp :\n",
        "  avg_fp += l_spanish_char[i]\n",
        "print(avg_fp/len(fp))\n",
        "avg_fn = 0\n",
        "for i in fn :\n",
        "  avg_fn += l_spanish_char[i]\n",
        "print(avg_fn/len(fn))"
      ],
      "execution_count": 0,
      "outputs": [
        {
          "output_type": "stream",
          "text": [
            "average number of unknown char by review\n",
            "50.671826625387\n",
            "49.989151873767256\n",
            "51.235537190082646\n",
            "47.954198473282446\n"
          ],
          "name": "stdout"
        }
      ]
    },
    {
      "cell_type": "code",
      "metadata": {
        "id": "CoM8JW7TFMVl",
        "colab_type": "code",
        "outputId": "5268af84-3689-48ed-c478-632038baf91c",
        "colab": {
          "base_uri": "https://localhost:8080/",
          "height": 68
        }
      },
      "source": [
        "print(\"average percent of truncated review\")\n",
        "avg_tn = 0\n",
        "for i in tn :\n",
        "  if i in es_ind_trunc:\n",
        "    avg_tn += 1\n",
        "avg_tp = 0\n",
        "for i in tp :\n",
        "  if i in es_ind_trunc:\n",
        "    avg_tp += 1\n",
        "print((avg_tn/len(es_ind_trunc)*100+avg_tp/len(es_ind_trunc)*100))\n",
        "avg_fn = 0\n",
        "for i in fn :\n",
        "  if i in es_ind_trunc:\n",
        "    avg_fn += 1\n",
        "avg_fp = 0\n",
        "for i in fp :\n",
        "  if i in es_ind_trunc:\n",
        "    avg_fp += 1\n",
        "print((avg_fn/len(es_ind_trunc)*100+avg_fp/len(es_ind_trunc)*100))"
      ],
      "execution_count": 0,
      "outputs": [
        {
          "output_type": "stream",
          "text": [
            "average percent of truncated review\n",
            "73.27858496525585\n",
            "26.721415034744158\n"
          ],
          "name": "stdout"
        }
      ]
    },
    {
      "cell_type": "code",
      "metadata": {
        "id": "K2RQwwAxf5dm",
        "colab_type": "code",
        "outputId": "4020c877-028c-4ec0-c6a2-10044a6fb7ec",
        "colab": {
          "base_uri": "https://localhost:8080/",
          "height": 595
        }
      },
      "source": [
        "# get the list used for shuffling\n",
        "l_ind = list(es_indices)\n",
        "# check if the first review after shuffling can be map to the one before shuffling\n",
        "# es_features is the shuffled list\n",
        "# es_feature_s is the list before shuffling\n",
        "es_features[0] == es_feature_s[l_ind[0]]"
      ],
      "execution_count": 0,
      "outputs": [
        {
          "output_type": "execute_result",
          "data": {
            "text/plain": [
              "array([ True,  True,  True,  True,  True,  True,  True,  True,  True,\n",
              "        True,  True,  True,  True,  True,  True,  True,  True,  True,\n",
              "        True,  True,  True,  True,  True,  True,  True,  True,  True,\n",
              "        True,  True,  True,  True,  True,  True,  True,  True,  True,\n",
              "        True,  True,  True,  True,  True,  True,  True,  True,  True,\n",
              "        True,  True,  True,  True,  True,  True,  True,  True,  True,\n",
              "        True,  True,  True,  True,  True,  True,  True,  True,  True,\n",
              "        True,  True,  True,  True,  True,  True,  True,  True,  True,\n",
              "        True,  True,  True,  True,  True,  True,  True,  True,  True,\n",
              "        True,  True,  True,  True,  True,  True,  True,  True,  True,\n",
              "        True,  True,  True,  True,  True,  True,  True,  True,  True,\n",
              "        True,  True,  True,  True,  True,  True,  True,  True,  True,\n",
              "        True,  True,  True,  True,  True,  True,  True,  True,  True,\n",
              "        True,  True,  True,  True,  True,  True,  True,  True,  True,\n",
              "        True,  True,  True,  True,  True,  True,  True,  True,  True,\n",
              "        True,  True,  True,  True,  True,  True,  True,  True,  True,\n",
              "        True,  True,  True,  True,  True,  True,  True,  True,  True,\n",
              "        True,  True,  True,  True,  True,  True,  True,  True,  True,\n",
              "        True,  True,  True,  True,  True,  True,  True,  True,  True,\n",
              "        True,  True,  True,  True,  True,  True,  True,  True,  True,\n",
              "        True,  True,  True,  True,  True,  True,  True,  True,  True,\n",
              "        True,  True,  True,  True,  True,  True,  True,  True,  True,\n",
              "        True,  True,  True,  True,  True,  True,  True,  True,  True,\n",
              "        True,  True,  True,  True,  True,  True,  True,  True,  True,\n",
              "        True,  True,  True,  True,  True,  True,  True,  True,  True,\n",
              "        True,  True,  True,  True,  True,  True,  True,  True,  True,\n",
              "        True,  True,  True,  True,  True,  True,  True,  True,  True,\n",
              "        True,  True,  True,  True,  True,  True,  True,  True,  True,\n",
              "        True,  True,  True,  True,  True,  True,  True,  True,  True,\n",
              "        True,  True,  True,  True,  True,  True,  True,  True,  True,\n",
              "        True,  True,  True,  True,  True,  True,  True,  True,  True,\n",
              "        True,  True,  True,  True,  True,  True,  True,  True,  True,\n",
              "        True,  True,  True,  True,  True,  True,  True,  True,  True,\n",
              "        True,  True,  True])"
            ]
          },
          "metadata": {
            "tags": []
          },
          "execution_count": 87
        }
      ]
    },
    {
      "cell_type": "code",
      "metadata": {
        "id": "Ozs1LIBzgdiE",
        "colab_type": "code",
        "outputId": "7e4f89cb-f1a5-45f0-92c4-bfae14e3d00d",
        "colab": {
          "base_uri": "https://localhost:8080/",
          "height": 2366
        }
      },
      "source": [
        "# Apply this to find the top false positives\n",
        "for ind in fp[:3]:\n",
        "  print(\"review {} : {}\".format(l_ind[ind], df_es_save.review[l_ind[ind]]))  \n",
        "  print(\"number of words of review  {} : {}\".format(l_ind[ind], len(word_tokenize(df_es_save.review[l_ind[ind]]))))"
      ],
      "execution_count": 0,
      "outputs": [
        {
          "output_type": "stream",
          "text": [
            "review 1954 : Una pel�cula que aunque no se le puede quitar la etiqueta de entretenida, para mi resulta la m�s floja de\n",
            "        la saga, y que vislumbrando toda la saga como una grand�sima pel�cula, creo que nos encontramos ante la pel�cula\n",
            "        que sirve de nexo de uni�n entre todo el desarrollo de las pel�culas anteriores.\n",
            "    Ya tenemos aqu� al casi \"eterno\" aprendiz de mago, en una quinta entrega que en un principio propon�a grandes\n",
            "        cambios y grandes retos. Estos cambios y retos se basan directamente en la adaptaci�n del libro m�s largo de\n",
            "        todos los de la saga Potter, y viendo la duraci�n de las otras pel�culas esta se antojaba eterna a la hora de\n",
            "        adaptarla, aunque visto lo visto parece que han optado por el tijeretazo directamente a la hora de saltarse\n",
            "        cap�tulos y mas cap�tulos, hasta dejar solo una trama principal que poder seguir durante todo el metraje. En\n",
            "        segundo lugar, los cambios se refieren a esa medio adolescencia que ya tiene nuestro Harry, que ya entra de\n",
            "        lleno en temas amoriles, y que adem�s se va encontrando cada vez mas solo y con un car�cter un poco mas �spero\n",
            "        que la dulzura que destilaba al principio de la saga. Todo esto estar�a bastante bien y dar�a un soplo de aire\n",
            "        fresco a la saga, pero tengo que reconocer que esta pel�cula me ha decepcionado un poco. En primer lugar, por\n",
            "        centrarse solo en la trama principal de la pel�cula, cosa que no estar�a nada mal, el problema es que a la hora\n",
            "        de ver la pel�cula, da la sensaci�n de que muchas cosas se dejan en el tintero, en busca de una narraci�n un\n",
            "        poco mas �gil y espectacular, y para eso un simple ejemplo, ya que ahora que me estoy leyendo el libro en\n",
            "        cuesti�n, el trozo que llevo le�do, hasta su llegada al colegio Hogwarts son casi 200 hojas en el libro,\n",
            "        mientras que en la pel�cula a los 10 minutos ya est� llegando a tan excepcional colegio. En segundo lugar, la\n",
            "        tan anunciada oscuridad de Harry Potter, que no llega a ser tal, simplemente un par de voces que les pega a sus\n",
            "        amigos, y una sensaci�n de soledad a lo largo de toda la pel�cula, pero que no llega a impregnar al personaje de\n",
            "        Harry, que sigue siendo valiente y decidido cuando le toca, y no da un paso atr�s por muchos \"fantasmas\" que\n",
            "        recorran sus pensamientos, algo que en el libro s� que esta tambi�n mejor contado y se ve, pero que aqu� falla,\n",
            "        porque aqu� lo �nico oscuro que llegue a observar toda la pel�cula, es el uso de todas las tonalidades mas\n",
            "        apagadas de los colores, muy en la l�nea de lo que ya hizo Alfonso Cuar�n en la tercera entrega de la saga, El\n",
            "        Prisionero de Azkaban, que si que parece realmente m�s oscura en cuanto a planteamiento que esta.Otro problema\n",
            "        es el aprovechamiento de personajes. Algunos personajes aparecen y desaparecen como por arte de magia, y nunca\n",
            "        mejor dicho, y parece que simplemente est�n ah� puestos para decir un par de frases adecuadas, o simplemente\n",
            "        para hacer bulto y unirse al excelente plantel de actores. No s� c�mo se desarrollaran sus personajes en el\n",
            "        libro, porque todav�a no llegue a esa parte, pero los papeles de Bellatrix Lestrange, Nymphadora Tonks y Luna\n",
            "        Lovegood simplemente aparecen de vez en cuando, y sobre todo el papel de Bellatrix, con Helena Bonham Carter\n",
            "        interpret�ndolo, creo que ser� un poco m�s determinante en la pr�xima pel�cula de la saga. Como ya digo, Daniel\n",
            "        Radcliffe, Emma Watson y Rupert Grint , est�n exactamente igual que en las anteriores pel�culas, aunque un poco\n",
            "        mas creciditos. Solo decir que a la �nica con algo de futuro que le veo del tr�o protagonista es a Emma Watson,\n",
            "        y sino al tiempo, porque me parece que con Radcliffe vamos a tener un nuevo caso Luke Skywalker. El resto de\n",
            "        personajes, tambi�n aparecen muy de pasada durante toda la pel�cula, exceptuando el grand�simo Gary Oldman en su\n",
            "        papel de Sirius Black, sin duda de lo mejorcito que vemos en la pantalla, junto con Imelda Staunton, cuyo papel\n",
            "        de la repelente Dolores Umbridge, s� que est� muy conseguido, result�ndonos odiosa casi desde su primera\n",
            "        aparici�n, el resto de personajes, como ya coment�, aunque con mucho nombre demasiado desaprovechados, como por\n",
            "        ejemplo las 3 l�neas de dialogo que tiene Emma Thompson en toda la pel�cula, las tres apariciones espor�dicas,\n",
            "        aunque concluyentes para la historia de Helena Bonham Carter o incluso Ralph Fiennes en su papel de ese que no\n",
            "        puede ser nombrado, y que aunque despunta cualidades de malo m�tico del cine, no le dejan aparecer todo lo que\n",
            "        tendr�a para dar forma a un papel de mago tan malo como le corresponder�a.En cuanto al director, no aporta nada\n",
            "        nuevo al espect�culo. Si bien Chris Columbus inici� la saga y la dot� de la espectacularidad que le caracteriza,\n",
            "        y luego alg�n otro director aport� su granito de arena, como por ejemplo esa gran tercera parte rodada\n",
            "        excelentemente por Alfonso Cuar�n, aqu� simplemente David Yates se dedica a colocar la c�mara e intentar el\n",
            "        m�ximo de planos posibles donde se pueda usar alg�n efecto especial y as� a�adir una espectacularidad que\n",
            "        solamente con el plano no podr�a conseguir, lo que dice muy poco a su favor y lo que me demuestra que hace uno\n",
            "        de los trabajos m�s planos y carentes de personalidad de la saga Potter, y lo peor de todo, es que ya esta\n",
            "        elegido este director para rodar la siguiente pel�cula, la del Misterio del Pr�ncipe. Solamente salvar�a el\n",
            "        inicio de la pel�cula, que empieza con bastante fuerza y que da esperanzas sobre una pel�cula que seguir� ese\n",
            "        mismo estilo todo el metraje, pero no puede enga�arnos de mejor manera, porque hasta la batalla final entre\n",
            "        magos, que seg�n me ha comentado gente que si se ha le�do todo el libro es bastante fiel al libro, para un\n",
            "        espectador acostumbrado a efectos especiales del calibre de Transformers, Spiderman o Piratas del Caribe, le\n",
            "        parecer� de todo menos espectacular. Es una suerte el haber podido aprovechar y ver la pel�cula en formato Imax,\n",
            "        ya que esos �ltimos 20 minutos en 3 Dimensiones, a�aden la espectacularidad que de por si le falta a la\n",
            "        pel�cula, y eso que ese final no est� rodado para estar aprovechado en las 3Ds, pero bueno, no se le puede pedir\n",
            "        tanto.En definitiva, una pel�cula que aunque no se le puede quitar la etiqueta de entretenida, para mi resulta\n",
            "        la m�s floja de la saga, y que vislumbrando toda la saga como una grand�sima pel�cula, creo que nos encontramos\n",
            "        ante la pel�cula que sirve de nexo de uni�n entre todo el desarrollo de las pel�culas anteriores y el final de\n",
            "        la saga, que sobreviene con estas dos �ltimas pel�culas que le quedan a Harry, en las que esperemos recupere la\n",
            "        agilidad narrativa, un mejor uso tanto de los personajes principales como de los desaprovechados secundarios, y\n",
            "        que recupere la fuerza e incluso la oscuridad que ya se hab�an marcado en las pel�culas anteriores.\n",
            "    \n",
            "number of words of review  1954 : 1287\n",
            "review 1641 : Part�a con la vitola de pel�cula pol�mica de la temporada, y sin embargo se queda en un retrato meapilas\n",
            "        que bien podr�a haber sido realizado hace cuarenta a�os, con la censura en pleno apogeo.\n",
            "    Con la Iglesia hemos topado querido lector. Y tras este peque�o homenaje a Miguel de Cervantes, hay que decir\n",
            "        que si es dif�cil hacer una pel�cula sobre temas religiosos hoy en d�a sin ofender a nadie, tambi�n lo es hablar\n",
            "        de ella sin herir ning�n tipo de sensibilidad. Por m�s siglos que hayan pasado, por m�s te�ricamente\n",
            "        evolucionado que est� el ser humano, hay ciertos temas que siempre causar�n pol�mica, y la religi�n, sea cual\n",
            "        sea, es uno de ellos. Y si a una cinta religiosa le pones un t�tulo tan llamativo y provocador como Teresa: El\n",
            "        Cuerpo de Cristo, ya tienes servida una buena raci�n de pol�mica, lo que supondr� a su vez una mayor expectaci�n\n",
            "        por parte del p�blico.Diez a�os despu�s de su �pera prima, Ray Loriga regresa a la direcci�n para mostrarnos\n",
            "        desde un te�rico nuevo punto de vista a Santa Teresa de Jes�s, figura clave en la historia de la Iglesia\n",
            "        Cat�lica. La intenci�n de Loriga era acercar al espectador un personaje bien conocido por todos, tanto por los\n",
            "        libros de historia como por anteriores films, con una visi�n fresca y nueva, alejando a Santa Teresa del\n",
            "        misticismo puro y mostrando su lado m�s carnal y humano. Sin embargo, Teresa: El Cuerpo de Cristo se aleja de la\n",
            "        intenci�n inicial y comercial de Loriga, ofreciendo una visi�n beata y mojigata del personaje; en vez de\n",
            "        retratar a una mujer, con luces y sombras, y su lucha, el cineasta realiza un retrato puramente hagiogr�fico.\n",
            "        Asimismo, hay que decir que una de las claves del paso a la posteridad de Santa Teresa fue su gran labor\n",
            "        literaria, y que dicha labor aparece en la cinta en un deshonroso segundo plano. El gui�n, parte del cual lo\n",
            "        componen (de una forma subrepticia) los propios versos de Santa Teresa, es plano y carente de sentimiento. La\n",
            "        direcci�n de Loriga es p�sima, lenta hasta la extenuaci�n y carente de cualquier noci�n de lo que es el ritmo\n",
            "        cinematogr�fico, a lo que contribuye alegremente su nefasto montaje. Ray Loriga se preocupa m�s del aspecto\n",
            "        visual de su obra que de la historia en s�, y eso le pasa factura desde la secuencia inicial. Hay una serie de\n",
            "        escenas, las enso�aciones de Santa Teresa, en que la cinta raya lo esperp�ntico. Los �nicos aspectos positivos\n",
            "        de tan inefable t�tulo son el dise�o de vestuario y la fotograf�a de Jos� Luis Alcaine, realmente meritoria\n",
            "        teniendo en cuenta el af�n de su director por realizar coloridos cuadros en movimiento. Lo mejor de la cinta,\n",
            "        sin duda, es la interpretaci�n sobria y contenida de Paz Vega, que demuestra a todos su natural capacidad\n",
            "        interpretativa con un brutal cambio de registro.Teresa: El Cuerpo de Cristo part�a con la vitola de pel�cula\n",
            "        pol�mica de la temporada, y sin embargo se queda en un retrato meapilas que bien podr�a haber sido realizado\n",
            "        hace cuarenta a�os, con la censura en pleno apogeo. Tal vez algunos cr�ticos deber�amos formar una secreta\n",
            "        Inquisici�n, en la que actuar�amos movidos para preservar el buen nombre del cine, llevando a obras como �sta a\n",
            "        su merecido destino: el fuego purificador.\n",
            "    \n",
            "number of words of review  1641 : 609\n",
            "review 327 : Art�sticamente es una de las mejores que he visto este a�o? pero por el resto, la decepci�n ha sido\n",
            "        tremenda.\n",
            "    Vuelve Robert De Niro a la direcci�n tras 13 a�os desde la excelente ?Una Historia del Bronx?. Con una\n",
            "        predecesora tan notable, y el indudable cari�o y respeto que le tengo al actor no puedo mentir si digo que me\n",
            "        sent� a ver ?El Buen Pastor? �vido de sumergirme en una historia de esp�as con el sello De Niro. Muy a mi pesar,\n",
            "        y tras media hora de film, me doy cuenta que art�sticamente es una de las mejores que he visto este a�o?pero por\n",
            "        el resto, la decepci�n ha sido tremenda.Espero no ser el �nico que piensa que esta pel�cula sigue la estela de\n",
            "        los trabajos biogr�ficos-hist�ricos de Oliver Stone en ?Nixon? o ?JFK?, o del tipo de ?13 d�as?, y aunque el\n",
            "        supuesto fundador no es tan famoso, no hay nada m�s americano que la C.I.A.. Los anteriores, y otros m�s, son\n",
            "        trabajos tremendamente visuales, y tambi�n tremendamente pol�ticos. Por ello el lastre narrativo, pesado,\n",
            "        farragoso, y en su mayor parte aburrido, es de esperar en otros cineastas, a los que se lo puedo perdonar m�s\n",
            "        que al Sr. De Niro. El director se pasa los primeros 50 minutos intentando explicar el origen del protagonista\n",
            "        para luego no mostrar ni una s�la escena de acci�n en las dos horas que le restan para terminar. Por ello debo\n",
            "        decir que un metraje de 3 horas, sin acci�n, con exceso de informaci�n pol�tica de la �poca, y un montaje algo\n",
            "        ca�tico, se me antoja UN CO�AZO.La historia cuenta la fundaci�n de la C.I.A., o eso parec�a cuando vi el\n",
            "        trailer. En realidad es la historia de Edward Wilson (Damon), un hombre que pasito a pasito, desde un puesto m�s\n",
            "        bajo hasta el m�s alto, ayud� a fundar el Centro de Inteligencia Americana, pero no hay ni un atisbo de emoci�n\n",
            "        en nada de lo que hace este hombre. De Niro ha constru�do un hombre fr�o y calculador que en momentos te llega a\n",
            "        dejar en un estado de leve somnolencia debido a su reiterada falta de ?sangre?. Sus primeros a�os en Yale, que a\n",
            "        m� me sobran, sus primeros a�os como esp�a, sin un disparo que llevarte a la boca, y su posterior ascenci�n\n",
            "        hacia la c�pula, con ese rollo de trama burocr�tica, me demuestran que si este personaje existi�, debi� morirse\n",
            "        finalmente de su propio tedio.Caso aparte es el desfile de secundarios que pueblan el film. Impresiona que\n",
            "        nombres como el propio De Niro, William Hurt, Joe Pesci, Alec Baldwim, Michael Gambon o Billy Cudrup sean\n",
            "        personajes que apenas alcanzan a decir m�s de diez frases. Todo se centra en Damon, y eso produce una sobrecarga\n",
            "        del protagonista que hace todo lo que puede para llenar la pantalla, y que en caso de haber elegido otro actor\n",
            "        no s� realmente si hubiera terminado de verla. Si Angelina Jolie era otro de los motivos para su visionado,\n",
            "        siento desilusionaros, ya que su presencia es meramente transitoria, aparte de que la qu�mica con Damon es nula,\n",
            "        nul�sima. Si esta mujer pensaba en retirarse, por m� puede hacerlo ya.Dividida en dos tramos temporales, el film\n",
            "        confunde en muchos momentos y termina por no aportar nada al g�nero del espionaje. Mucha conversaci�n, mucha\n",
            "        teor�a, mucha pol�tica, pero poca resoluci�n. La vida del fundador se ve desde el despacho, o desde la casa, o\n",
            "        cogiendo tel�fonos con un cortafuegos de 1.961, y no s� si bajo la �ptica de un americano la historia ser�\n",
            "        interesante, como si a nosotros nos explicaran c�mo se fund� el PSC, pero comprendedme si os digo que, no puedo\n",
            "        dejar de pensar en Bourne, y en lo bueno que hubiera sido mezclar tanto parloteo con algo m�s de tensi�n, la\n",
            "        cual brilla en toda la pel�cula por su absoluta ausencia.Buenas interpretaciones, buena direcci�n art�stica,\n",
            "        pero horrible montaje y horrible desarrollo. Si De Niro hubiera reducido el metraje quiz�s hubiese pasado por\n",
            "        una pel�cula interesante, pero con tal lentitud y parsimonia, y con apenas tres fogonazos de inquietud, s�lo ha\n",
            "        conseguido aburrirme hasta jurar que me pensar� dos veces en volver a ver un film que cuent� la gloria y honor\n",
            "        de una administraci�n p�blica, por muy tite Bobby que la dirija.Va ser una gran pel�cula para los amantes del\n",
            "        thriller pol�tico de metraje infinito, y no puedo negar que como tal es la mejor desde hace a�os y a�os, pero\n",
            "        para m� ha terminado siendo un tost�n, con una factura visual impecable, pero al fin y al cabo tost�n.\n",
            "    \n",
            "number of words of review  327 : 859\n"
          ],
          "name": "stdout"
        }
      ]
    },
    {
      "cell_type": "code",
      "metadata": {
        "id": "DLPRxEG-A1cD",
        "colab_type": "code",
        "outputId": "9cc54945-e5f0-4ea2-ad0d-6b212c53de0a",
        "colab": {
          "base_uri": "https://localhost:8080/",
          "height": 581
        }
      },
      "source": [
        "print(\"review {} : {}\".format(l_ind[ind], df_es_save.review[l_ind[0]]))\n",
        "print(\"number of words of review {} : {}\".format(l_ind[ind], len(word_tokenize(df_es_save.review[l_ind[0]]))))"
      ],
      "execution_count": 0,
      "outputs": [
        {
          "output_type": "stream",
          "text": [
            "review 327 : Un espect�culo que apunta y da en el blanco, que no es habitual en la actual cartelera. En resumen, si\n",
            "        quieren saber lo que es una aventura �pica, aqu� est� para ustedes:\n",
            "    El universo Tolkien parece a primera vista un desaf�o inabarcable tanto por su extensi�n como por sus\n",
            "        infinitas sub-tramas y sus varios y variados personajes. Despu�s de ver esta pel�cula y la direcci�n que realiza\n",
            "        en ella Peter Jackson, pareciera bastante f�cil de hacerlo o por lo menos, la mejor manera de lograrlo. M�s\n",
            "        incre�ble parece que sea el mismo Jackson que comenz� su carrera con Bad Taste (Mal gusto, 1988) una pel�cula\n",
            "        gore-trash con el f�cil r�tulo de bizarra, pero de una simpat�a y una improvisaci�n en dosis exageradas,\n",
            "        demostrando ahora un crecimiento y madurez (con films de transici�n como Criaturas Celestiales) poco visto en\n",
            "        directores de su camada.As� de disfrutable vuelve a ser el recorrido por m�s de tres horas y pico de acci�n y\n",
            "        aventuras que pasar�n brevemente y mejorando a�n m�s, el ritmo de la primera. Jackson es fiel al libro\n",
            "        nuevamente, tomando lo esencial y sin desechar (como en la primera parte) escenas que quiz�s hubi�ramos querido\n",
            "        ver pero, que la hubieran hecho a�n m�s marat�nica de lo que fue. Las dos torres se inicia a toda acci�n con uno\n",
            "        de los mejores (quiz� el mejor) comienzo f�lmico del a�o. Elogiable tambi�n el hecho de haberse filmado las tres\n",
            "        partes en continuado debi�ndose a ello su narraci�n fluida, �gil y eficaz, con excelente fotograf�a y dem�s\n",
            "        aspectos t�cnicos.Esta vez adquiere m�s importancia con el correr del metraje el guerrero-h�roe Aragorn (Viggo\n",
            "        Mortensen, medido e inocuo) y sus m�ltiples batallas con sus compa�eros Legolas (Orlando Bloom) y el enano Gimli\n",
            "        (John Davies) en detrimento del cont�nuo largo viaje de Frodo (Elijah Wood) y hasta del resucitado Gandalf (un\n",
            "        como siempre excelente Ian Mc Kellen). Otro punto a favor es haber hecho del virtual Gollum (un ser querible y\n",
            "        detestable a la vez), un personaje funcional en la historia y no un mero entretenimiento o de escapismo y para\n",
            "        muestra de esto, un solo ejemplo: Jar Jar Binks.En el debe solo podemos mencionar una m�sica incidental tediosa\n",
            "        que subraya algunos di�logos ya de por s� solemnes y haber deseado una mayor dosis de humor, pero en verdad no\n",
            "        necesario en este tipo de relato. Seguramente ser� comparada hasta el hartazgo con sus contempor�neas Harry\n",
            "        Potter y Star Wars sac�ndoles un cuerpo por el momento tanto en realizaci�n, como en efectos y en madurez, pero\n",
            "        habr� que esperar para dar el veredicto final a que concluyan todas las sagas pero dicho est�, ya les lleva una\n",
            "        apreciable ventaja. Curiosamente en todas estas series las segundas partes son mejores que la primera, como si\n",
            "        necesitaran s� o s� una introducci�n para luego poder evolucionar y adentrarse m�s claramente en la historia.Una\n",
            "        batalla final sin respiro (y un verdadero reto a superar en la tercer y �ltima parte) coronan un film brillante\n",
            "        en todo sentido, un espect�culo que apunta y da en el blanco, que no es habitual en la actual cartelera. En\n",
            "        resumen, si quieren saber lo que es una aventura �pica, aqu� est� para ustedes: El se�or de los anillos: Las dos\n",
            "        torres. Disfr�tenla.\n",
            "    \n",
            "number of words of review 327 : 601\n"
          ],
          "name": "stdout"
        }
      ]
    },
    {
      "cell_type": "code",
      "metadata": {
        "id": "RhdOOdWDBc9l",
        "colab_type": "code",
        "outputId": "4e070c75-e13e-476e-a563-8a5b2de84688",
        "colab": {
          "base_uri": "https://localhost:8080/",
          "height": 71
        }
      },
      "source": [
        "print(\"review {} : {}\".format(l_ind[ind], word_tokenize(df_es_save.review[l_ind[0]]))[-300:])  \n",
        "print(\"number of words of review {} : {}\".format(l_ind[ind], len(word_tokenize(df_es_save.review[l_ind[0]]))))"
      ],
      "execution_count": 0,
      "outputs": [
        {
          "output_type": "stream",
          "text": [
            "e', 'no', 'es', 'habitual', 'en', 'la', 'actual', 'cartelera', '.', 'En', 'resumen', ',', 'si', 'quieren', 'saber', 'lo', 'que', 'es', 'una', 'aventura', '�pica', ',', 'aqu�', 'est�', 'para', 'ustedes', ':', 'El', 'se�or', 'de', 'los', 'anillos', ':', 'Las', 'dos', 'torres', '.', 'Disfr�tenla', '.']\n",
            "number of words of review 327 : 601\n"
          ],
          "name": "stdout"
        }
      ]
    },
    {
      "cell_type": "code",
      "metadata": {
        "id": "tBh1O4OBBdBb",
        "colab_type": "code",
        "outputId": "d04135c1-3c04-4c2e-e276-ebc8e344f1ab",
        "colab": {
          "base_uri": "https://localhost:8080/",
          "height": 1431
        }
      },
      "source": [
        "# Apply this to find the true positives\n",
        "for ind in tp[:2]:\n",
        "  print(\"review {} : {}\".format(l_ind[ind], df_es_save.review[l_ind[ind]]))  \n",
        "  print(\"number of words of review {} : {}\".format(l_ind[ind], len(word_tokenize(df_es_save.review[l_ind[ind]]))))"
      ],
      "execution_count": 0,
      "outputs": [
        {
          "output_type": "stream",
          "text": [
            "review 443 : Un espect�culo que apunta y da en el blanco, que no es habitual en la actual cartelera. En resumen, si\n",
            "        quieren saber lo que es una aventura �pica, aqu� est� para ustedes:\n",
            "    El universo Tolkien parece a primera vista un desaf�o inabarcable tanto por su extensi�n como por sus\n",
            "        infinitas sub-tramas y sus varios y variados personajes. Despu�s de ver esta pel�cula y la direcci�n que realiza\n",
            "        en ella Peter Jackson, pareciera bastante f�cil de hacerlo o por lo menos, la mejor manera de lograrlo. M�s\n",
            "        incre�ble parece que sea el mismo Jackson que comenz� su carrera con Bad Taste (Mal gusto, 1988) una pel�cula\n",
            "        gore-trash con el f�cil r�tulo de bizarra, pero de una simpat�a y una improvisaci�n en dosis exageradas,\n",
            "        demostrando ahora un crecimiento y madurez (con films de transici�n como Criaturas Celestiales) poco visto en\n",
            "        directores de su camada.As� de disfrutable vuelve a ser el recorrido por m�s de tres horas y pico de acci�n y\n",
            "        aventuras que pasar�n brevemente y mejorando a�n m�s, el ritmo de la primera. Jackson es fiel al libro\n",
            "        nuevamente, tomando lo esencial y sin desechar (como en la primera parte) escenas que quiz�s hubi�ramos querido\n",
            "        ver pero, que la hubieran hecho a�n m�s marat�nica de lo que fue. Las dos torres se inicia a toda acci�n con uno\n",
            "        de los mejores (quiz� el mejor) comienzo f�lmico del a�o. Elogiable tambi�n el hecho de haberse filmado las tres\n",
            "        partes en continuado debi�ndose a ello su narraci�n fluida, �gil y eficaz, con excelente fotograf�a y dem�s\n",
            "        aspectos t�cnicos.Esta vez adquiere m�s importancia con el correr del metraje el guerrero-h�roe Aragorn (Viggo\n",
            "        Mortensen, medido e inocuo) y sus m�ltiples batallas con sus compa�eros Legolas (Orlando Bloom) y el enano Gimli\n",
            "        (John Davies) en detrimento del cont�nuo largo viaje de Frodo (Elijah Wood) y hasta del resucitado Gandalf (un\n",
            "        como siempre excelente Ian Mc Kellen). Otro punto a favor es haber hecho del virtual Gollum (un ser querible y\n",
            "        detestable a la vez), un personaje funcional en la historia y no un mero entretenimiento o de escapismo y para\n",
            "        muestra de esto, un solo ejemplo: Jar Jar Binks.En el debe solo podemos mencionar una m�sica incidental tediosa\n",
            "        que subraya algunos di�logos ya de por s� solemnes y haber deseado una mayor dosis de humor, pero en verdad no\n",
            "        necesario en este tipo de relato. Seguramente ser� comparada hasta el hartazgo con sus contempor�neas Harry\n",
            "        Potter y Star Wars sac�ndoles un cuerpo por el momento tanto en realizaci�n, como en efectos y en madurez, pero\n",
            "        habr� que esperar para dar el veredicto final a que concluyan todas las sagas pero dicho est�, ya les lleva una\n",
            "        apreciable ventaja. Curiosamente en todas estas series las segundas partes son mejores que la primera, como si\n",
            "        necesitaran s� o s� una introducci�n para luego poder evolucionar y adentrarse m�s claramente en la historia.Una\n",
            "        batalla final sin respiro (y un verdadero reto a superar en la tercer y �ltima parte) coronan un film brillante\n",
            "        en todo sentido, un espect�culo que apunta y da en el blanco, que no es habitual en la actual cartelera. En\n",
            "        resumen, si quieren saber lo que es una aventura �pica, aqu� est� para ustedes: El se�or de los anillos: Las dos\n",
            "        torres. Disfr�tenla.\n",
            "    \n",
            "number of words of review 443 : 601\n",
            "review 1441 : Cualquiera de nosotros podr�a ser protagonista de esta historia. �O acaso existe alguien que no \"tape\"\n",
            "        nada?\n",
            "    Gambas al ajillo, croquetas, boquerones en vinagre, chipirones, calamares a la romana, tortilla de patatas,\n",
            "        banderillas picantes. Existen tapas de todos los tipos: m�s �cidas, m�s saladas, m�s dulces. La carta de la\n",
            "        pel�cula Tapas re�ne todos los ingredientes y sabores para lograr la categor�a de cinco tenedores. Tras triunfar\n",
            "        en el Festival de Cine Espa�ol de Mal�ga, donde obtuvo el galard�n a la Mejor Pel�cula, el Premio del p�blico y\n",
            "        el de Mejor Actriz, el �xito de esta tragicomedia parece asegurado.Al otro lado de los fogones, los chefs Jos�\n",
            "        Corbacho y Juan Cruz han elaborado su �pera prima a fuego lento, puesto que han tardado m�s de cuatro a�os en\n",
            "        dar forma a su plato maestro. Una raci�n agridulce en el que se mezclan las historias de gente corriente que\n",
            "        vive en un barrio de ciudad y que deja entrever sus miedos, sus esperanzas y sus desenga�os. Los directores y\n",
            "        guionistas Corbacho y Juan Cruz llevan al espectador de tapas por un barrio de la ciudad del Hospitalet dando un\n",
            "        paseo por las vidas de cinco personajes tan cotidianos que nos resultan familiares. Son personajes muy distintos\n",
            "        pero con algo en com�n: todos tienen alg�n secreto que esconder, algo que tapar. Todos tapan sus miserias bajo\n",
            "        una falsa apariencia de honestidad. De ah� el doble significado del t�tulo de la pel�cula. Por un lado la cinta\n",
            "        habla de las cotidianas tapas de comer con las que todo el mundo ha crecido, mientras que por otro subraya los\n",
            "        secretos o inseguridades que tapa la gente a diario. El personaje al que da vida Mar�a Galiana (\"Solas\") es uno\n",
            "        de los m�s sorprendentes en cuanto a secretos inconfesables se refiere, sobretodo por el sobresueldo que obtiene\n",
            "        trapicheando con los j�venes a los que vende drogas sin que nadie lo sospeche. En una sociedad como la nuestra\n",
            "        en la que lo m�s importante no es ser sino parecer, la hipocres�a y la mentira est�n a la orden del d�a. No hay\n",
            "        m�s que darse una vuelta por cualquier bar y tomarse unas tapitas para comprobar que el insustancial contacto\n",
            "        social se nutre de cotilleos sobre los vecinos o de comentarios superficiales sobre el devenir del pa�s.\n",
            "        Conversaciones en las que esta especie de comunicaci�n banal sirva, quiz� adem�s, para tapar o enmascarar la\n",
            "        existencia de uno mismo.Por la pel�cula desfilan personajes que podr�amos encontrar en cualquier barrio de\n",
            "        cualquier ciudad. Seguramente, todos conocemos al t�pico due�o del bar de la esquina del barrio como Lolo (�ngel\n",
            "        de Andr�s), cuya mujer lo abandona porque antepone su negocio a su relaci�n y que, en un principio, no es capaz\n",
            "        de tragarse su orgullo e ir a buscarla. En torno a la historia de Lolo y Mao, su nuevo ayudante de cocina reci�n\n",
            "        llegado de China, gira algunas de las escenas m�s divertidas y m�s sat�ricas de la pel�cula. Quiz� tambi�n nos\n",
            "        habremos cruzado alguna vez con un par de adolescentes inconscientes que s�lo viven para ligar y se cobijan en\n",
            "        las drogas para evadirse de su cotidianidad. Raquel, en cambio, es una mujer que ronda la cuarentena y que se\n",
            "        refugia en la soledad del ciberespacio sin esperanzas de encontrar un amante real hasta que un d�a un joven le\n",
            "        devuelve la vida que cre�a perdida. Una brillante Elvira M�nguez a quien no le hace falta palabras para expresar\n",
            "        la amargura y el desencanto que transpira su personaje. La historia de amor sin l�mites de la anciana que s�lo\n",
            "        vive para satisfacer a su marido enfermo le da a la pel�cula una pincelada de ternura. Y es que aunque la\n",
            "        pel�cula adquiere el tono de una comedia ligera, en los resquicios de la narraci�n se cuela de forma\n",
            "        imperceptible un aire de tristeza que congela la sonrisa para convertirla en una mueca dolorosa. Y es que la\n",
            "        vida -como reza el cartel de la pel�cula- es como los pimientos del padr�n, a veces pica. y a veces no.Al estilo\n",
            "        de otros directores espa�oles como Fernando Le�n de Aranoa (Barrio, Los lunes al sol) o Ic�ar Bolla�n (Flores de\n",
            "        otro mundo, Te doy mis ojos), pero con unas dosis de humor, Corbacho y Cruz retratan la realidad de la sociedad\n",
            "        espa�ola de manera bastante fiel y sin estridencias. En tiempos efectos especiales y superproducciones\n",
            "        hollywoodienses es dif�cil para una pel�cula de tintes realistas sobrevivir en las carteleras. No obstante, el\n",
            "        filme re�ne los ingredientes precisos para que el p�blico se quede enganchado a la butaca durante los 93 minutos\n",
            "        que dura la cinta. Quiz� su escasa duraci�n impide que el espectador profundice un poco m�s en las historias,\n",
            "        que deguste mejor un plato que puede dejar con hambre de m�s. Y es que cuando las luces de la sala se encienden,\n",
            "        el espectador sigue digiriendo la historia, en la que cualquiera puede ver reflejada su propia vida, sus\n",
            "        ilusiones y desenga�os. Porque en la pel�cula aparecen temas universales como la soledad, la muerte, el amor, el\n",
            "        sexo, la amistad o la esperanza. Cotidianidades con las que conviven los personajes de esta pel�cula y con las\n",
            "        que nos enfrentamos todos a diario. Porque cualquiera de nosotros podr�a ser protagonista de esta historia. �O\n",
            "        acaso existe alguien que no \"tape\" nada?\n",
            "    \n",
            "number of words of review 1441 : 973\n"
          ],
          "name": "stdout"
        }
      ]
    },
    {
      "cell_type": "code",
      "metadata": {
        "id": "p8e-vW8QB2LG",
        "colab_type": "code",
        "outputId": "a7760869-ac20-4ff2-e923-8d0f2920c277",
        "colab": {
          "base_uri": "https://localhost:8080/",
          "height": 581
        }
      },
      "source": [
        "print(\"review {} : {}\".format(l_ind[tp[0]], df_es_save.review[l_ind[tp[0]]]))\n",
        "print(\"number of words of review {} : {}\".format(l_ind[tp[0]], len(word_tokenize(df_es_save.review[tp[0]]))))"
      ],
      "execution_count": 0,
      "outputs": [
        {
          "output_type": "stream",
          "text": [
            "review 443 : Un espect�culo que apunta y da en el blanco, que no es habitual en la actual cartelera. En resumen, si\n",
            "        quieren saber lo que es una aventura �pica, aqu� est� para ustedes:\n",
            "    El universo Tolkien parece a primera vista un desaf�o inabarcable tanto por su extensi�n como por sus\n",
            "        infinitas sub-tramas y sus varios y variados personajes. Despu�s de ver esta pel�cula y la direcci�n que realiza\n",
            "        en ella Peter Jackson, pareciera bastante f�cil de hacerlo o por lo menos, la mejor manera de lograrlo. M�s\n",
            "        incre�ble parece que sea el mismo Jackson que comenz� su carrera con Bad Taste (Mal gusto, 1988) una pel�cula\n",
            "        gore-trash con el f�cil r�tulo de bizarra, pero de una simpat�a y una improvisaci�n en dosis exageradas,\n",
            "        demostrando ahora un crecimiento y madurez (con films de transici�n como Criaturas Celestiales) poco visto en\n",
            "        directores de su camada.As� de disfrutable vuelve a ser el recorrido por m�s de tres horas y pico de acci�n y\n",
            "        aventuras que pasar�n brevemente y mejorando a�n m�s, el ritmo de la primera. Jackson es fiel al libro\n",
            "        nuevamente, tomando lo esencial y sin desechar (como en la primera parte) escenas que quiz�s hubi�ramos querido\n",
            "        ver pero, que la hubieran hecho a�n m�s marat�nica de lo que fue. Las dos torres se inicia a toda acci�n con uno\n",
            "        de los mejores (quiz� el mejor) comienzo f�lmico del a�o. Elogiable tambi�n el hecho de haberse filmado las tres\n",
            "        partes en continuado debi�ndose a ello su narraci�n fluida, �gil y eficaz, con excelente fotograf�a y dem�s\n",
            "        aspectos t�cnicos.Esta vez adquiere m�s importancia con el correr del metraje el guerrero-h�roe Aragorn (Viggo\n",
            "        Mortensen, medido e inocuo) y sus m�ltiples batallas con sus compa�eros Legolas (Orlando Bloom) y el enano Gimli\n",
            "        (John Davies) en detrimento del cont�nuo largo viaje de Frodo (Elijah Wood) y hasta del resucitado Gandalf (un\n",
            "        como siempre excelente Ian Mc Kellen). Otro punto a favor es haber hecho del virtual Gollum (un ser querible y\n",
            "        detestable a la vez), un personaje funcional en la historia y no un mero entretenimiento o de escapismo y para\n",
            "        muestra de esto, un solo ejemplo: Jar Jar Binks.En el debe solo podemos mencionar una m�sica incidental tediosa\n",
            "        que subraya algunos di�logos ya de por s� solemnes y haber deseado una mayor dosis de humor, pero en verdad no\n",
            "        necesario en este tipo de relato. Seguramente ser� comparada hasta el hartazgo con sus contempor�neas Harry\n",
            "        Potter y Star Wars sac�ndoles un cuerpo por el momento tanto en realizaci�n, como en efectos y en madurez, pero\n",
            "        habr� que esperar para dar el veredicto final a que concluyan todas las sagas pero dicho est�, ya les lleva una\n",
            "        apreciable ventaja. Curiosamente en todas estas series las segundas partes son mejores que la primera, como si\n",
            "        necesitaran s� o s� una introducci�n para luego poder evolucionar y adentrarse m�s claramente en la historia.Una\n",
            "        batalla final sin respiro (y un verdadero reto a superar en la tercer y �ltima parte) coronan un film brillante\n",
            "        en todo sentido, un espect�culo que apunta y da en el blanco, que no es habitual en la actual cartelera. En\n",
            "        resumen, si quieren saber lo que es una aventura �pica, aqu� est� para ustedes: El se�or de los anillos: Las dos\n",
            "        torres. Disfr�tenla.\n",
            "    \n",
            "number of words of review 443 : 406\n"
          ],
          "name": "stdout"
        }
      ]
    },
    {
      "cell_type": "code",
      "metadata": {
        "id": "l9an_w4-BuUU",
        "colab_type": "code",
        "outputId": "0f0be5a9-c23a-4ea4-8cfd-42940e3c93e8",
        "colab": {
          "base_uri": "https://localhost:8080/",
          "height": 71
        }
      },
      "source": [
        "print(\"review {} : {}\".format(l_ind[tp[0]], ' '.join(word_tokenize(df_es_save.review[l_ind[tp[0]]]))[-400:]))\n",
        "print(\"number of words of review {} : {}\".format(l_ind[tp[0]], len(word_tokenize(df_es_save.review[tp[0]]))))"
      ],
      "execution_count": 0,
      "outputs": [
        {
          "output_type": "stream",
          "text": [
            "review 443 : e m�s claramente en la historia.Una batalla final sin respiro ( y un verdadero reto a superar en la tercer y �ltima parte ) coronan un film brillante en todo sentido , un espect�culo que apunta y da en el blanco , que no es habitual en la actual cartelera . En resumen , si quieren saber lo que es una aventura �pica , aqu� est� para ustedes : El se�or de los anillos : Las dos torres . Disfr�tenla .\n",
            "number of words of review 443 : 406\n"
          ],
          "name": "stdout"
        }
      ]
    },
    {
      "cell_type": "code",
      "metadata": {
        "id": "6cnmHHZJF_bF",
        "colab_type": "code",
        "outputId": "817db8b5-2c50-483f-bbbc-4e84711d55f0",
        "colab": {
          "base_uri": "https://localhost:8080/",
          "height": 1839
        }
      },
      "source": [
        "# Apply this to find the top 3 false negatives\n",
        "for ind in fn[:3]:\n",
        "  print(\"review {} : {}\".format(l_ind[ind], df_es_save.review[l_ind[ind]]))  \n",
        "  print(\"number of words of review  {} : {}\".format(l_ind[ind], len(word_tokenize(df_es_save.review[l_ind[ind]]))))"
      ],
      "execution_count": 0,
      "outputs": [
        {
          "output_type": "stream",
          "text": [
            "review 1493 : Sumamente entretenida, con personajes bien delineados y situaciones de lo m�s hilarantes. Un divertimento\n",
            "        asegurado, destinado m�s a mayores que a ni�os.\n",
            "    Barry B. Benson es una abeja preocupada por su futuro. La idea de crear miel d�a tras d�a durante el resto de\n",
            "        su vida sin descanso alguno le aterroriza, por lo que decide arriesgarse y salir del interior de su colmena para\n",
            "        conocer el mundo de fuera antes de verse obligado a afrontar lo inevitable. En su particular traves�a, logra\n",
            "        mantenerse sano y salvo gracias a Vanessa, humana que le salva de una terrible muerte por aplastamiento. Barry\n",
            "        se siente s�bitamente atra�do por ella, y dar�a lo que fuera por agradecerle el gesto, pero para ello deber�a\n",
            "        quebrantar la primera ley de la colmena: queda terminantemente prohibido hablar con humanos. Dif�cil tarea se le\n",
            "        ped�a a la nueva propuesta de Dreamworks. Tras siete a�os de explotaci�n del buque insignia de la productora,\n",
            "        esta empieza a dar ya notables signos de agotamiento. Por lo tanto, Simon J. Smith y Steve Hickner, directores\n",
            "        de \"Bee Movie\", deb�an demostrar que hay vida m�s ella del descarado ogro verde. Para ello, eso s�, contaban con\n",
            "        un importante as bajo la manga, como es Jerry Seinfeld en las tareas de guionista y doblador. Pese a que el\n",
            "        resultado final siga sin acercarse demasiado al nivel de las producciones de Pixar, lo cierto es que han\n",
            "        superado con creces el objetivo, creando una pel�cula (y un personaje) que nada tiene que envidiarle a la\n",
            "        trilog�a de \"Shrek\". La principal diferencia entre abeja y ogro radica en que los creadores de \"Bee Movie\" no se\n",
            "        limitan a ofrecernos una sucesi�n de gags basados en re�rse de otras pel�culas. Aqu� construyen un gui�n\n",
            "        alrededor de los personajes y la situaci�n en que se enfrascan, y los chistes se entrelazan en los di�logos y\n",
            "        acciones de los mismos, resultando muy poco forzados. Tanto es as�, que incluso las (contadas) bromas que\n",
            "        remiten a las referencias del espectador funcionan a la perfecci�n. Aunque gran parte del acierto de estas tal\n",
            "        vez resida en que se centran en personajes o programas menos obvios de lo que se pod�a temer (no hay ni un solo\n",
            "        gui�o a las escenas con stop-motion de \"Matrix\", me atrever�a a decir que por primera vez en la historia de la\n",
            "        Dreamworks). Valga como ejemplo la caracterizaci�n que hacen de un actor tan inusual como es Ray Liotta. Pero lo\n",
            "        que hace de \"Bee Movie\" una pel�cula diferente es lo que cuenta. Porque lo que empieza como otro suced�neo de\n",
            "        \"Monstruos, S.A.\", esto es, dos compa�eros de trabajo en un mundo paralelo al de los humanos, con una �nica\n",
            "        empresa en la que todas las abejas trabajan (incluye escenas demasiado parecidas incluso visualmente, como la\n",
            "        llegada al trabajo en coche por parte de los dos personajes principales), poco a poco va distanci�ndose y\n",
            "        adquiriendo personalidad propia, creando una aut�ntica monta�a de acontecimientos muy poco previsibles que\n",
            "        acaban con accidentes a�reos de por medio empezando de un grano de arena tal como la salida de la abeja de su\n",
            "        colmena (la verdad es que su comienzo tambi�n puede recordar bastante a \"Buscando a Nemo\", ahora que lo pienso).\n",
            "        Adem�s, toda la parte central de \"Bee Movie\" pertenece al g�nero jur�dico, algo en total contraposici�n con el\n",
            "        cine de corte infantil que lograr� entretener algo m�s al p�blico adulto, cansado ya de que estas pel�culas se\n",
            "        limiten �nicamente a parodiar escenas de otras pel�culas. Y como mencionaba anteriormente, Barry es carism�tico,\n",
            "        din�mico y est� muy bien definido. Peca de estar algo estereotipado, pero en ning�n momento llega a molestar\n",
            "        gracias a sus mordientes comentarios, pinceladas que su actor le infunde y que consiguen que la abeja sea\n",
            "        verdaderamente hilarante. Todo parecer�a indicar que hablamos de la pel�cula definitiva de animaci�n, o de la\n",
            "        victoria de Dreamworks sobre Pixar. Lamentablemente, no es as�. Porque donde \"Bee Movie\" no innova ni un �pice\n",
            "        es en su fondo. Pese a la originalidad de las situaciones (abejas hablando con los hombres, jueces y juzgados,\n",
            "        empresas de miel con claras referencias -esta vez s�- a las colmenas humanas de \"Matrix\", Ray Liotta y Sting.),\n",
            "        la pel�cula sigue un camino tan previsible como su edulcorado final, lo que le hace perder muchos enteros en\n",
            "        numerosas ocasiones. As�, a la m�nima que la abeja no se saca de la manga ning�n comentario de los suyos, o que\n",
            "        no se da ninguna otra vuelta de tuerca argumental, el ritmo se atranca, y la pel�cula se hace algo melosa debido\n",
            "        a que se centra demasiado en un gui�n que no siempre est� a la altura. A�n as�, es una pel�cula sumamente\n",
            "        entretenida, con personajes bien delineados (y bien doblados) y situaciones de lo m�s hilarantes. Un\n",
            "        divertimento asegurado, destinado m�s a mayores que a ni�os (que se aburrir�n al no tener demasiadas escenas de\n",
            "        acci�n espectacularidad visual), y de bell�sima factura. Deber�a ser este el correcto camino a seguir de la\n",
            "        productora, que sin embargo sigue empe�ada en recurrir a su gallina de huevos dorados y ya ha anunciado la\n",
            "        cuarta parte de \"Shrek\". 7,5/10\n",
            "    \n",
            "number of words of review  1493 : 969\n",
            "review 1654 : Por el romanticismo, por tanta pausa r�tmica (y largo metraje) y por un Superman tan vulnerable, no le\n",
            "        gustar� a mucha gente, aunque no ha sido mi caso.\n",
            "    Esta noche me he visto la vuelta a las pantallas del cl�sico entre los cl�sicos. Y puedo decir con rotundidad\n",
            "        que me ha gustado, que he disfrutado y que esta continuaci�n (que no versi�n) es superior a las primeras por\n",
            "        muchos motivos que os cuento si quer�is.No pongo la sinopsis porque es mejor dejarse llevar e ir descubriendo la\n",
            "        chicha de la historia, que tampoco es que sea mucha. El prisma de mi ni�ez distorsion� para bien el recuerdo del\n",
            "        Superman de los 80. Bast� verla de mayor para comprobar que como pel�cula era bastante mala, aunque suspuso una\n",
            "        revoluci�n en su �poca.Superman Returns tiene que remontar desde abajo por ser una secuela, y no ser original,\n",
            "        en un cine saturado de pel�culas de comics, donde s�lo priman los efectos especiales. Adem�s, lo �nico que me\n",
            "        suele llamar la atenci�n de ellas es c�mo los superh�roes adquieren los poderes, y en �sta no existe esa\n",
            "        posibilidad. A�n as�, desde el principio hay detalles de que Bryan Singer (director de Sospechosos Habituales y\n",
            "        las 2 primeras de X-Men, as� como productor de House) trata con respeto al p�blico, contando cosas con simples\n",
            "        gestos (el perro en la cama de la ricachona o los silencios misteriosos del ni�o). Se agradece que no te lo den\n",
            "        todo mascadito. Tiene las escenas de acci�n justas (la del avi�n, espectacular). El peso se lo llevan los\n",
            "        personajes con algunas incorporaciones muy acertadas, como el ni�o o la secundaria novia del malo. Y me ha\n",
            "        gustado Brandon Routh como Superman, aunque Christopher Reeve dej� una huella imborrable. La que s� que mejora\n",
            "        es ella, Kate Bosworth (odiaba el personaje de la original) en un papel arriesgado, centro del tri�ngulo\n",
            "        amoroso. Los dos lucen muy guapos. No me gusta sin embargo el de la pareja de ella, un pringao, por mucho que la\n",
            "        quiera. Kevin Spacey como Lex Luthor cumple.No todo son aciertos. Las secuencias de salvamento de Superman no\n",
            "        son buenas (con tanta desgracia, salva el dinero de un banco; y en el resto, excepto la de la avi�n, no han\n",
            "        estado muy creativos). He le�do que le falta sentido del humor, pero lo prefiero cuando suelen estropear m�s que\n",
            "        aportar.Habr� algunos a las que se le haga un poco lenta y larga, y el final, para dejar abierta las\n",
            "        continuaciones, no me gusta, pero consigue momentos de emoci�n (como el rom�ntico vuelo) con una est�tica\n",
            "        preciosa.Es discutible el expreso toque mesi�nico, con analog�as religiosas de Superman como salvador y con\n",
            "        posturas que recuerdan a Jesucristo. Por el romanticismo, por tanta pausa r�tmica (y largo metraje) y por un\n",
            "        Superman tan vulnerable, no le gustar� a mucha gente, aunque no ha sido mi caso.\n",
            "    \n",
            "number of words of review  1654 : 546\n",
            "review 867 : �No lleven a sus pipiolos al cine a ver la pel�cula! Adem�s de cansarse y darles la tarde, no van a dejar\n",
            "        disfrutar de la pel�cula a sus compa�eros de butaca.\n",
            "    Ten�a mis reservas sobre como Pixar iba a dar vida a algo tan inanimado como un coche, la verdad es que el\n",
            "        proyecto me encant� desde que empec� a tener noticias del mismo y tal vez, y junto con Superman Returns ha sido\n",
            "        de las pel�culas de este a�o 2006 que he esperado con m�s impaciencia, un fen�meno similar viv� con Big Fish que\n",
            "        termin� obsesion�ndome de tal manera, que aparec�a incluso en mis sue�os.Pues bien, Cars la s�ptima pel�cula de\n",
            "        la casa del Flexo (Pixar), no deja indiferente, esta tan bien realizada, los personajes tan bien definidos y tan\n",
            "        tremendamente animada, que uno no puede quedarse indiferente ante tan magna creaci�n.Ni siquiera su pol�mico\n",
            "        doblaje (con las voces de Antonio Lobato, Fernando Alonso, Inmaculada Galv�n.) desmerece la pel�cula, puesto que\n",
            "        incluso es hasta un aliciente m�s de la cinta descubrir qui�n se esconde tras el personaje que vemos en\n",
            "        pantalla, hasta el mini-cameo de Michael Schumacher.Por otra parte, hay 2 factores que no hacen de la pel�cula\n",
            "        una cinta perfecta, uno es el baj�n que esta da a la mitad del segundo acto, donde no s� muy bien porqu� la\n",
            "        cinta parece que se estanca, gracias a Dios, consigue recuperar r�pidamente la marcha; pero si se hace un pel�n\n",
            "        cargante, el otro motivo es una exceso de moralina Disney que no hab�a en los Incre�bles (Anterior cinta Pixar)\n",
            "        y que aqu� parece cargar las tintas en exceso, y es que est� bien una peque�a dosis, o carga de moralidad, pero\n",
            "        pretender plasmar lecciones a cada 20 fotogramas se hace un poco cansino.Dejando a un lado los 2 factores\n",
            "        negativos de la cinta, quisiera centrarme en lo bien que esta plasmado el mundo del motor, desde el primer\n",
            "        minuto de pel�cula hasta el final todo son homenajes, anuncios, marcas, incluso el mundo del NASCAR (ese que en\n",
            "        Espa�a no conocemos) est�n plasmados en pantalla con una sofisticaci�n ALUCINANTE, y es que John Lasseter es un\n",
            "        amante de la cultura de las 4 ruedas y esto ayuda, bastante a la realizaci�n de la pel�cula, por cierto, el\n",
            "        corto que acompa�a a la cinta es de lo m�s gracioso que he visto en Pixar desde el aclamado For the Birds\n",
            "        (Pajaritos), y el final de la pel�cula con ese homenaje a las cintas de Lasseter bien merece unas carcajadas\n",
            "        (como las que yo sufr� en mis carnes).�Ah! Se me olvidaba; padres de criaturas de menos de 4 a�os �No lleven a\n",
            "        sus pipiolos al cine a ver la pel�cula! Adem�s de cansarse y darles la tarde, no van a dejar disfrutar de la\n",
            "        pel�cula a sus compa�eros de butaca, ya que entre sus mocos, llantos y \"mama/papa me hago pis\" empa�an el\n",
            "        disfrute de la pel�cula, vayan, vayan ustedes al cine y al cr�o �le dejan con la abuelita, t�a o canguro! He\n",
            "        dicho.\n",
            "    \n",
            "number of words of review  867 : 566\n"
          ],
          "name": "stdout"
        }
      ]
    },
    {
      "cell_type": "code",
      "metadata": {
        "id": "CwPDT2uKEYpH",
        "colab_type": "code",
        "outputId": "a2bc5095-a59c-46e0-b106-4ed79ec09f40",
        "colab": {
          "base_uri": "https://localhost:8080/",
          "height": 513
        }
      },
      "source": [
        "print(\"review {} : {}\".format(l_ind[fn[1]], df_es_save.review[l_ind[fn[1]]]))\n",
        "print(\"number of words of review {} : {}\".format(l_ind[fn[1]], len(word_tokenize(df_es_save.review[fn[1]]))))"
      ],
      "execution_count": 0,
      "outputs": [
        {
          "output_type": "stream",
          "text": [
            "review 1654 : Por el romanticismo, por tanta pausa r�tmica (y largo metraje) y por un Superman tan vulnerable, no le\n",
            "        gustar� a mucha gente, aunque no ha sido mi caso.\n",
            "    Esta noche me he visto la vuelta a las pantallas del cl�sico entre los cl�sicos. Y puedo decir con rotundidad\n",
            "        que me ha gustado, que he disfrutado y que esta continuaci�n (que no versi�n) es superior a las primeras por\n",
            "        muchos motivos que os cuento si quer�is.No pongo la sinopsis porque es mejor dejarse llevar e ir descubriendo la\n",
            "        chicha de la historia, que tampoco es que sea mucha. El prisma de mi ni�ez distorsion� para bien el recuerdo del\n",
            "        Superman de los 80. Bast� verla de mayor para comprobar que como pel�cula era bastante mala, aunque suspuso una\n",
            "        revoluci�n en su �poca.Superman Returns tiene que remontar desde abajo por ser una secuela, y no ser original,\n",
            "        en un cine saturado de pel�culas de comics, donde s�lo priman los efectos especiales. Adem�s, lo �nico que me\n",
            "        suele llamar la atenci�n de ellas es c�mo los superh�roes adquieren los poderes, y en �sta no existe esa\n",
            "        posibilidad. A�n as�, desde el principio hay detalles de que Bryan Singer (director de Sospechosos Habituales y\n",
            "        las 2 primeras de X-Men, as� como productor de House) trata con respeto al p�blico, contando cosas con simples\n",
            "        gestos (el perro en la cama de la ricachona o los silencios misteriosos del ni�o). Se agradece que no te lo den\n",
            "        todo mascadito. Tiene las escenas de acci�n justas (la del avi�n, espectacular). El peso se lo llevan los\n",
            "        personajes con algunas incorporaciones muy acertadas, como el ni�o o la secundaria novia del malo. Y me ha\n",
            "        gustado Brandon Routh como Superman, aunque Christopher Reeve dej� una huella imborrable. La que s� que mejora\n",
            "        es ella, Kate Bosworth (odiaba el personaje de la original) en un papel arriesgado, centro del tri�ngulo\n",
            "        amoroso. Los dos lucen muy guapos. No me gusta sin embargo el de la pareja de ella, un pringao, por mucho que la\n",
            "        quiera. Kevin Spacey como Lex Luthor cumple.No todo son aciertos. Las secuencias de salvamento de Superman no\n",
            "        son buenas (con tanta desgracia, salva el dinero de un banco; y en el resto, excepto la de la avi�n, no han\n",
            "        estado muy creativos). He le�do que le falta sentido del humor, pero lo prefiero cuando suelen estropear m�s que\n",
            "        aportar.Habr� algunos a las que se le haga un poco lenta y larga, y el final, para dejar abierta las\n",
            "        continuaciones, no me gusta, pero consigue momentos de emoci�n (como el rom�ntico vuelo) con una est�tica\n",
            "        preciosa.Es discutible el expreso toque mesi�nico, con analog�as religiosas de Superman como salvador y con\n",
            "        posturas que recuerdan a Jesucristo. Por el romanticismo, por tanta pausa r�tmica (y largo metraje) y por un\n",
            "        Superman tan vulnerable, no le gustar� a mucha gente, aunque no ha sido mi caso.\n",
            "    \n",
            "number of words of review 1654 : 222\n"
          ],
          "name": "stdout"
        }
      ]
    },
    {
      "cell_type": "code",
      "metadata": {
        "id": "08VuKpAyEEWd",
        "colab_type": "code",
        "outputId": "b2184af1-4600-4666-c8bb-5edf7bcf022b",
        "colab": {
          "base_uri": "https://localhost:8080/",
          "height": 71
        }
      },
      "source": [
        "print(\"review {} : {}\".format(l_ind[fn[1]], ' '.join(word_tokenize(df_es_save.review[l_ind[fn[1]]]))[:500]))\n",
        "print(\"number of words of review {} : {}\".format(l_ind[fn[1]], len(word_tokenize(df_es_save.review[fn[1]]))))"
      ],
      "execution_count": 0,
      "outputs": [
        {
          "output_type": "stream",
          "text": [
            "review 1654 : Por el romanticismo , por tanta pausa r�tmica ( y largo metraje ) y por un Superman tan vulnerable , no le gustar� a mucha gente , aunque no ha sido mi caso . Esta noche me he visto la vuelta a las pantallas del cl�sico entre los cl�sicos . Y puedo decir con rotundidad que me ha gustado , que he disfrutado y que esta continuaci�n ( que no versi�n ) es superior a las primeras por muchos motivos que os cuento si quer�is.No pongo la sinopsis porque es mejor dejarse llevar e ir descubriendo la chich\n",
            "number of words of review 1654 : 222\n"
          ],
          "name": "stdout"
        }
      ]
    },
    {
      "cell_type": "code",
      "metadata": {
        "id": "r73C7Yc1GCNc",
        "colab_type": "code",
        "outputId": "22967128-800e-4442-f46c-98622fd8edae",
        "colab": {
          "base_uri": "https://localhost:8080/",
          "height": 1159
        }
      },
      "source": [
        "# Apply this to find the top 3 missclassified review\n",
        "for ind in tn[:3]:\n",
        "  print(\"review {} : {}\".format(l_ind[ind], df_es_save.review[l_ind[ind]]))  \n",
        "  print(\"number of words of review  {} : {}\".format(l_ind[ind], len(word_tokenize(df_es_save.review[l_ind[ind]]))))"
      ],
      "execution_count": 0,
      "outputs": [
        {
          "output_type": "stream",
          "text": [
            "review 1967 : Sin tener el ?poder? de su protagonista, es f�cil adivinar que ?Next? no pasar� a la historia del cine como\n",
            "        una buena pel�cula, sino m�s bien por haber malgastado 80 millones de d�lares y 90 minutos de metraje...\n",
            "    Pocas pel�culas tienen la \"virtud\" de decepcionarme a los diez minutos, pero eso es justamente lo que le pas�\n",
            "        a \"Next\", la �ltima pel�cula de Lee Tamahori.Asistimos a una historia en la que su protagonista es un \"mago\",\n",
            "        que act�a en Las Vegas, con verdaderos poderes mentales que quiere pasar desapercibido. Dicho as� podr�a parecer\n",
            "        hasta interesante, pero entonces asistimos anonadados a un sinf�n de desprop�sitos: por un lado, ese\n",
            "        \"superpoder\" se queda tan s�lo en la capacidad de ver el futuro inmediato (��s�lo los dos minutos siguientes!!);\n",
            "        por otro lado, los \"avispados\" agentes de la Seguridad Nacional de los Estados Unidos (sin saber c�mo ni por\n",
            "        qu�) van tras el protagonista para proponerle la \"original\" misi�n de \"salvar a todo el pa�s frente a una alerta\n",
            "        terrorista\"; y por �ltimo, los \"penosos\" terroristas m�s preocupados en buscar qui�n les va a intentar detener\n",
            "        que de la propia preparaci�n del atentado.La historia se adorna de efectos visuales que entorpecen el\n",
            "        seguimiento de la trama puesto que no es f�cil diferenciar entre las acciones reales de las que tratan de las\n",
            "        \"visiones\" de su protagonista. La interpretaci�n de Nicolas Cage en el papel del protagonista es tan pobre como\n",
            "        las expresiones de su cara; y la de su compa�era Julianne Moore, en el papel de agente de la Seguridad Nacional,\n",
            "        es nefasta dando la sensaci�n de que no se llega a creer que se haya metido en \"tremendo\" rodaje.Sin tener el\n",
            "        \"poder\" de su protagonista, es f�cil adivinar que \"Next\" no pasar� a la historia del cine como una buena\n",
            "        pel�cula, sino m�s bien por haber malgastado 80 millones de d�lares y 90 minutos de metraje, que dicho sea de\n",
            "        paso es lo mejor de la pel�cula.\n",
            "    \n",
            "number of words of review  1967 : 381\n",
            "review 1042 : Tan genial no es. Haggis rueda bien (tiene 50 a�os y trabaja con Eastwood), pero no es ning�n genio: es el\n",
            "        creador de la serie \"Walker Texas Ranger\".\n",
            "    De un tiempo a esta parte vienen produci�ndose unas historias en Hollywood que parecen querer reirse de la\n",
            "        gente. Robert Altman dirigi� en 1993 \"Vidas cruzadas\" (Short cuts) y la fiebre de la peli coral empez� a\n",
            "        invadirnos.La peli de Altman duraba tres horazas, como la hija putativa que lleg� seis a�os despu�s de la mano\n",
            "        de Paul Thomas Anderson, \"Magnolia\". Eran dos grandes pel�culas. En 2003, Alejandro Gonz�lez I��rritu nos estaf�\n",
            "        a todos con \"21 gramos\", una especie de \"hagoloquequieroconmipelo\" versi�n cine.Personalmente creo que \"21\n",
            "        gramos\" est� hecha con descartes de \"Amores perros\", parece una mala secuela, de esas que no sabes bien si son\n",
            "        segundas partes, remakes, autohomenajes o que se yo.\"21 gramos\" ten�a el gui�n y la trama de un telefilme de\n",
            "        sobremesa, el montaje era horrible y la fotograf�a llegaba a cargar. La odio casi tanto como a \"Extra�as\n",
            "        coincidencias\", peli del a�o pasado que me ofendi� pero que muy mucho.En esta ocasi�n, Paul Haggis, guionista de\n",
            "        \"Million Dollar Baby\", debuta con gracia al principio, tropezando antes de tiempo y cayendo en una sucesi�n de\n",
            "        clich�s que llega a desesperar al final.La trama envuelve a una serie de personajes (una pareja de polis, un\n",
            "        cerrajero y su hija, una familia de Apus, un matrimonio rico. da igual, porque todos tienen mil y un movidas que\n",
            "        tarde o temprano se enfrentan unas con otras) en la ya rutinaria peli in media res.Estoy empezando a hartarme de\n",
            "        que la cintas corales tengan que tener como nexo un accidente (I��rritu lleva 2 de 2 y creo que la nueva va\n",
            "        tambi�n por ah�.) y de tener que aguantar situaciones est�pidas (ese resbal�n de la Bullock en la escalera) para\n",
            "        salir a flote de premisas dif�ciles de dar durante la resoluci�n.Tiene momentos interesantes, como el arranque,\n",
            "        con un plano secuencia interesante, y el acto delictivo de la pareja de amiguetes renegr�os. Lo que pasa es que\n",
            "        es anticlim�tica y no te sorprende en ning�n momento. No sabremos nunca lo que les pasa a muchos personajes y al\n",
            "        igual que \"21 gramos\" roza el rid�culo en situaciones extremas (�realmente es tan dif�cil no ridiculizar la\n",
            "        supuesta muerte que lo encadena todo?.No emociona, y lo peor de todo es que al final, cuando bromeas con el\n",
            "        \"ahor� caer�n ranas del cielo\" est� a punto de pasar. Por �ltimo, decir que tan genial no es. Haggis rueda bien\n",
            "        (tiene 50 a�os y trabaja con Eastwood), pero no es ning�n genio: es el creador de la serie \"Walker Texas\n",
            "        Ranger\".Y acaba con un tema de Stereophonics que no pega ni con cola.Saludos cordiales.\n",
            "    \n",
            "number of words of review  1042 : 542\n",
            "review 1925 : Un crossover de 2 personajes tipicos, una panda de ga�anes deseando que les maten, un argumento bobo al mas\n",
            "        no poder �Acaso se necesita m�s?\n",
            "    Si soy sincero el proyecto no me llamaba lo m�s m�nimo, y tampoco ten�a una curiosidad excesiva por la\n",
            "        pel�cula, si bien es verdad que este verano me he dedicado a echarle un ojo a la saga Alien y que las pel�culas\n",
            "        de Depredador hace bastante tiempo que las vi, vaya si exagerar por lo menos como 10 a�itos. Sin lugar a dudas,\n",
            "        hacer un \"Crossover\" (mezcla de dos sagas) con dos personajes tan emblem�ticos del cine de sci-fi de la FOX me\n",
            "        parec�a una soberana memez y m�s una vez que vi aquella idiotez llamada \"Freddy Vs Jason\" que tuve que aguantar\n",
            "        entre una mezcla de sopor y ganas de matar a m�s de uno. Pues bien, aqui casi se repite la misma f�rmula,\n",
            "        aderezada con cine de entretenimiento o de acci�n, lo podeis llamar de las dos formas y es casi casi lo mismo,\n",
            "        asi que tenemos a los Aliens si la teniente Ripley, mira que la he estado echando de menos durante la hora y 20\n",
            "        min. de metraje y por el otro lado a los depredadores. En medio a una panda de pardillos a los que deseas que se\n",
            "        carguen cuanto antes, por que son simples, tontos y descerebrados al mas no poder, vaya de esos que cuando se\n",
            "        los van cargando dices !SIIII FIESSSTA! por que mira que ponen a tiparracos tontos en esta clase de pel�culas,\n",
            "        nunca hay alguno con el que te sientas m�s o menos identificado. Una banda sonora que mezcla en partes iguales\n",
            "        la m�sica de las dos sagas, juntas pero no revueltas, eso si. y un director Paul W.S. Anderson, que tal vez lo\n",
            "        mejor que ha hecho en su vida ha sido salir con Milla Jovovich, por que su filmograf�a apesta tanto como mis\n",
            "        calcetines despu�s de un partido de f�tbol sala.\n",
            "    \n",
            "number of words of review  1925 : 364\n"
          ],
          "name": "stdout"
        }
      ]
    },
    {
      "cell_type": "code",
      "metadata": {
        "id": "8h9pJs2TIJWM",
        "colab_type": "code",
        "outputId": "ccae0c89-d6bc-49b0-c8bb-00c33e80bf6b",
        "colab": {
          "base_uri": "https://localhost:8080/",
          "height": 496
        }
      },
      "source": [
        "print(\"review {} : {}\".format(l_ind[tn[1]], df_es_save.review[l_ind[tn[1]]]))\n",
        "print(\"number of words of review {} : {}\".format(l_ind[tn[1]], len(word_tokenize(df_es_save.review[tn[1]]))))"
      ],
      "execution_count": 0,
      "outputs": [
        {
          "output_type": "stream",
          "text": [
            "review 1042 : Tan genial no es. Haggis rueda bien (tiene 50 a�os y trabaja con Eastwood), pero no es ning�n genio: es el\n",
            "        creador de la serie \"Walker Texas Ranger\".\n",
            "    De un tiempo a esta parte vienen produci�ndose unas historias en Hollywood que parecen querer reirse de la\n",
            "        gente. Robert Altman dirigi� en 1993 \"Vidas cruzadas\" (Short cuts) y la fiebre de la peli coral empez� a\n",
            "        invadirnos.La peli de Altman duraba tres horazas, como la hija putativa que lleg� seis a�os despu�s de la mano\n",
            "        de Paul Thomas Anderson, \"Magnolia\". Eran dos grandes pel�culas. En 2003, Alejandro Gonz�lez I��rritu nos estaf�\n",
            "        a todos con \"21 gramos\", una especie de \"hagoloquequieroconmipelo\" versi�n cine.Personalmente creo que \"21\n",
            "        gramos\" est� hecha con descartes de \"Amores perros\", parece una mala secuela, de esas que no sabes bien si son\n",
            "        segundas partes, remakes, autohomenajes o que se yo.\"21 gramos\" ten�a el gui�n y la trama de un telefilme de\n",
            "        sobremesa, el montaje era horrible y la fotograf�a llegaba a cargar. La odio casi tanto como a \"Extra�as\n",
            "        coincidencias\", peli del a�o pasado que me ofendi� pero que muy mucho.En esta ocasi�n, Paul Haggis, guionista de\n",
            "        \"Million Dollar Baby\", debuta con gracia al principio, tropezando antes de tiempo y cayendo en una sucesi�n de\n",
            "        clich�s que llega a desesperar al final.La trama envuelve a una serie de personajes (una pareja de polis, un\n",
            "        cerrajero y su hija, una familia de Apus, un matrimonio rico. da igual, porque todos tienen mil y un movidas que\n",
            "        tarde o temprano se enfrentan unas con otras) en la ya rutinaria peli in media res.Estoy empezando a hartarme de\n",
            "        que la cintas corales tengan que tener como nexo un accidente (I��rritu lleva 2 de 2 y creo que la nueva va\n",
            "        tambi�n por ah�.) y de tener que aguantar situaciones est�pidas (ese resbal�n de la Bullock en la escalera) para\n",
            "        salir a flote de premisas dif�ciles de dar durante la resoluci�n.Tiene momentos interesantes, como el arranque,\n",
            "        con un plano secuencia interesante, y el acto delictivo de la pareja de amiguetes renegr�os. Lo que pasa es que\n",
            "        es anticlim�tica y no te sorprende en ning�n momento. No sabremos nunca lo que les pasa a muchos personajes y al\n",
            "        igual que \"21 gramos\" roza el rid�culo en situaciones extremas (�realmente es tan dif�cil no ridiculizar la\n",
            "        supuesta muerte que lo encadena todo?.No emociona, y lo peor de todo es que al final, cuando bromeas con el\n",
            "        \"ahor� caer�n ranas del cielo\" est� a punto de pasar. Por �ltimo, decir que tan genial no es. Haggis rueda bien\n",
            "        (tiene 50 a�os y trabaja con Eastwood), pero no es ning�n genio: es el creador de la serie \"Walker Texas\n",
            "        Ranger\".Y acaba con un tema de Stereophonics que no pega ni con cola.Saludos cordiales.\n",
            "    \n",
            "number of words of review 1042 : 485\n"
          ],
          "name": "stdout"
        }
      ]
    },
    {
      "cell_type": "code",
      "metadata": {
        "id": "CMLqVczhIJyS",
        "colab_type": "code",
        "outputId": "1738690c-14f4-481a-defc-94893a063bb9",
        "colab": {
          "base_uri": "https://localhost:8080/",
          "height": 71
        }
      },
      "source": [
        "print(\"review {} : {}\".format(l_ind[tn[1]], ' '.join(word_tokenize(df_es_save.review[l_ind[tn[1]]]))[-500:]))\n",
        "print(\"number of words of review {} : {}\".format(l_ind[tn[1]], len(word_tokenize(df_es_save.review[tn[1]]))))"
      ],
      "execution_count": 0,
      "outputs": [
        {
          "output_type": "stream",
          "text": [
            "review 1042 : situaciones extremas ( �realmente es tan dif�cil no ridiculizar la supuesta muerte que lo encadena todo ? .No emociona , y lo peor de todo es que al final , cuando bromeas con el `` ahor� caer�n ranas del cielo '' est� a punto de pasar . Por �ltimo , decir que tan genial no es . Haggis rueda bien ( tiene 50 a�os y trabaja con Eastwood ) , pero no es ning�n genio : es el creador de la serie `` Walker Texas Ranger '' .Y acaba con un tema de Stereophonics que no pega ni con cola.Saludos cordiales .\n",
            "number of words of review 1042 : 485\n"
          ],
          "name": "stdout"
        }
      ]
    },
    {
      "cell_type": "code",
      "metadata": {
        "id": "8rFdK7wzAUhw",
        "colab_type": "code",
        "outputId": "79ef586a-3f76-4534-a4aa-2192b9a33801",
        "colab": {
          "base_uri": "https://localhost:8080/",
          "height": 68
        }
      },
      "source": [
        "for ind in fp[:3]:\n",
        "  print(\"review {} : {}\".format(ind, df_es_save.label[l_ind[ind]]))  "
      ],
      "execution_count": 0,
      "outputs": [
        {
          "output_type": "stream",
          "text": [
            "review 1 : 0\n",
            "review 8 : 0\n",
            "review 12 : 0\n"
          ],
          "name": "stdout"
        }
      ]
    },
    {
      "cell_type": "code",
      "metadata": {
        "id": "XIBjzrDuAZqQ",
        "colab_type": "code",
        "outputId": "b58e3266-8d82-4705-fcb3-56153b5a9edc",
        "colab": {
          "base_uri": "https://localhost:8080/",
          "height": 68
        }
      },
      "source": [
        "for ind in fn[:3]:\n",
        "  print(\"review {} : {}\".format(ind, df_es_save.label[l_ind[ind]]))  "
      ],
      "execution_count": 0,
      "outputs": [
        {
          "output_type": "stream",
          "text": [
            "review 2 : 1\n",
            "review 7 : 1\n",
            "review 27 : 1\n"
          ],
          "name": "stdout"
        }
      ]
    },
    {
      "cell_type": "code",
      "metadata": {
        "id": "ALzTow6SMowJ",
        "colab_type": "code",
        "outputId": "6c1625ee-3740-4be7-adc8-1f71375ab1f0",
        "colab": {
          "base_uri": "https://localhost:8080/",
          "height": 68
        }
      },
      "source": [
        "for ind in tp[:3]:\n",
        "  print(\"review {} : {}\".format(ind, df_es_save.label[l_ind[ind]]))  "
      ],
      "execution_count": 0,
      "outputs": [
        {
          "output_type": "stream",
          "text": [
            "review 0 : 1\n",
            "review 4 : 1\n",
            "review 5 : 1\n"
          ],
          "name": "stdout"
        }
      ]
    },
    {
      "cell_type": "code",
      "metadata": {
        "id": "7qW4UUJoMqCt",
        "colab_type": "code",
        "outputId": "cc302812-3a4c-4e26-c616-3666e93c358d",
        "colab": {
          "base_uri": "https://localhost:8080/",
          "height": 68
        }
      },
      "source": [
        "for ind in tn[:3]:\n",
        "  print(\"review {} : {}\".format(ind, df_es_save.label[l_ind[ind]]))  "
      ],
      "execution_count": 0,
      "outputs": [
        {
          "output_type": "stream",
          "text": [
            "review 3 : 0\n",
            "review 10 : 0\n",
            "review 11 : 0\n"
          ],
          "name": "stdout"
        }
      ]
    }
  ]
}